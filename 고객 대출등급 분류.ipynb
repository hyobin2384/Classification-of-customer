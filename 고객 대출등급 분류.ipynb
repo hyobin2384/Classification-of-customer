{
  "cells": [
    {
      "cell_type": "code",
      "execution_count": 3,
      "metadata": {
        "id": "k3eFYSxpe1ne"
      },
      "outputs": [],
      "source": [
        "# 폰트 추가로 그래프를 그렸을때 잘 나올 수 있도록 설정해주기\n",
        "\n",
        "%matplotlib inline\n",
        "\n",
        "import matplotlib as mpl  # 기본 설정\n",
        "import matplotlib.pyplot as plt  # 그래프 그리기\n",
        "import matplotlib.font_manager as fm  # 폰트 관리\n",
        "\n",
        "\n",
        "!apt-get update -qq         # apt-get 패키지 설치 명령어, -qq : 에러외 메세지 숨기기\n",
        "!apt-get install fonts-nanum* -qq #나눔글꼴 설치\n",
        "\n",
        "fe = fm.FontEntry(fname=r'/usr/share/fonts/truetype/nanum/NanumGothic.ttf', name='NanumGothic') #파일 저장되어있는 경로와 이름 설정\n",
        "fm.fontManager.ttflist.insert(0, fe)  # Matplotlib에 폰트 추가\n",
        "plt.rcParams.update({'font.size': 10, 'font.family': 'NanumGothic'}) #폰트설정"
      ]
    },
    {
      "cell_type": "code",
      "source": [
        "!pip install category_encoders\n",
        "!pip install optuna"
      ],
      "metadata": {
        "colab": {
          "base_uri": "https://localhost:8080/"
        },
        "id": "wEZQ2J8UsI8P",
        "outputId": "fa622d47-8a71-44ce-dcbf-b082e671a9fd"
      },
      "execution_count": 14,
      "outputs": [
        {
          "output_type": "stream",
          "name": "stdout",
          "text": [
            "Collecting category_encoders\n",
            "  Downloading category_encoders-2.6.3-py2.py3-none-any.whl (81 kB)\n",
            "\u001b[?25l     \u001b[90m━━━━━━━━━━━━━━━━━━━━━━━━━━━━━━━━━━━━━━━━\u001b[0m \u001b[32m0.0/81.9 kB\u001b[0m \u001b[31m?\u001b[0m eta \u001b[36m-:--:--\u001b[0m\r\u001b[2K     \u001b[90m━━━━━━━━━━━━━━━━━━━━━━━━━━━━━━━━━━━━━━━━\u001b[0m \u001b[32m81.9/81.9 kB\u001b[0m \u001b[31m2.2 MB/s\u001b[0m eta \u001b[36m0:00:00\u001b[0m\n",
            "\u001b[?25hRequirement already satisfied: numpy>=1.14.0 in /usr/local/lib/python3.10/dist-packages (from category_encoders) (1.25.2)\n",
            "Requirement already satisfied: scikit-learn>=0.20.0 in /usr/local/lib/python3.10/dist-packages (from category_encoders) (1.2.2)\n",
            "Requirement already satisfied: scipy>=1.0.0 in /usr/local/lib/python3.10/dist-packages (from category_encoders) (1.11.4)\n",
            "Requirement already satisfied: statsmodels>=0.9.0 in /usr/local/lib/python3.10/dist-packages (from category_encoders) (0.14.1)\n",
            "Requirement already satisfied: pandas>=1.0.5 in /usr/local/lib/python3.10/dist-packages (from category_encoders) (1.5.3)\n",
            "Requirement already satisfied: patsy>=0.5.1 in /usr/local/lib/python3.10/dist-packages (from category_encoders) (0.5.6)\n",
            "Requirement already satisfied: python-dateutil>=2.8.1 in /usr/local/lib/python3.10/dist-packages (from pandas>=1.0.5->category_encoders) (2.8.2)\n",
            "Requirement already satisfied: pytz>=2020.1 in /usr/local/lib/python3.10/dist-packages (from pandas>=1.0.5->category_encoders) (2023.4)\n",
            "Requirement already satisfied: six in /usr/local/lib/python3.10/dist-packages (from patsy>=0.5.1->category_encoders) (1.16.0)\n",
            "Requirement already satisfied: joblib>=1.1.1 in /usr/local/lib/python3.10/dist-packages (from scikit-learn>=0.20.0->category_encoders) (1.3.2)\n",
            "Requirement already satisfied: threadpoolctl>=2.0.0 in /usr/local/lib/python3.10/dist-packages (from scikit-learn>=0.20.0->category_encoders) (3.3.0)\n",
            "Requirement already satisfied: packaging>=21.3 in /usr/local/lib/python3.10/dist-packages (from statsmodels>=0.9.0->category_encoders) (23.2)\n",
            "Installing collected packages: category_encoders\n",
            "Successfully installed category_encoders-2.6.3\n",
            "Collecting optuna\n",
            "  Downloading optuna-3.5.0-py3-none-any.whl (413 kB)\n",
            "\u001b[2K     \u001b[90m━━━━━━━━━━━━━━━━━━━━━━━━━━━━━━━━━━━━━━━━\u001b[0m \u001b[32m413.4/413.4 kB\u001b[0m \u001b[31m6.0 MB/s\u001b[0m eta \u001b[36m0:00:00\u001b[0m\n",
            "\u001b[?25hCollecting alembic>=1.5.0 (from optuna)\n",
            "  Downloading alembic-1.13.1-py3-none-any.whl (233 kB)\n",
            "\u001b[2K     \u001b[90m━━━━━━━━━━━━━━━━━━━━━━━━━━━━━━━━━━━━━━━━\u001b[0m \u001b[32m233.4/233.4 kB\u001b[0m \u001b[31m10.5 MB/s\u001b[0m eta \u001b[36m0:00:00\u001b[0m\n",
            "\u001b[?25hCollecting colorlog (from optuna)\n",
            "  Downloading colorlog-6.8.2-py3-none-any.whl (11 kB)\n",
            "Requirement already satisfied: numpy in /usr/local/lib/python3.10/dist-packages (from optuna) (1.25.2)\n",
            "Requirement already satisfied: packaging>=20.0 in /usr/local/lib/python3.10/dist-packages (from optuna) (23.2)\n",
            "Requirement already satisfied: sqlalchemy>=1.3.0 in /usr/local/lib/python3.10/dist-packages (from optuna) (2.0.28)\n",
            "Requirement already satisfied: tqdm in /usr/local/lib/python3.10/dist-packages (from optuna) (4.66.2)\n",
            "Requirement already satisfied: PyYAML in /usr/local/lib/python3.10/dist-packages (from optuna) (6.0.1)\n",
            "Collecting Mako (from alembic>=1.5.0->optuna)\n",
            "  Downloading Mako-1.3.2-py3-none-any.whl (78 kB)\n",
            "\u001b[2K     \u001b[90m━━━━━━━━━━━━━━━━━━━━━━━━━━━━━━━━━━━━━━━━\u001b[0m \u001b[32m78.7/78.7 kB\u001b[0m \u001b[31m8.4 MB/s\u001b[0m eta \u001b[36m0:00:00\u001b[0m\n",
            "\u001b[?25hRequirement already satisfied: typing-extensions>=4 in /usr/local/lib/python3.10/dist-packages (from alembic>=1.5.0->optuna) (4.10.0)\n",
            "Requirement already satisfied: greenlet!=0.4.17 in /usr/local/lib/python3.10/dist-packages (from sqlalchemy>=1.3.0->optuna) (3.0.3)\n",
            "Requirement already satisfied: MarkupSafe>=0.9.2 in /usr/local/lib/python3.10/dist-packages (from Mako->alembic>=1.5.0->optuna) (2.1.5)\n",
            "Installing collected packages: Mako, colorlog, alembic, optuna\n",
            "Successfully installed Mako-1.3.2 alembic-1.13.1 colorlog-6.8.2 optuna-3.5.0\n"
          ]
        }
      ]
    },
    {
      "cell_type": "code",
      "source": [
        "import pandas as pd\n",
        "import numpy as np\n",
        "import seaborn as sns\n",
        "import matplotlib\n",
        "import matplotlib.pyplot as plt\n",
        "import random\n",
        "import category_encoders as ce\n",
        "import warnings\n",
        "warnings.filterwarnings(\"ignore\")\n",
        "\n",
        "from sklearn.ensemble import RandomForestClassifier\n",
        "from lightgbm import LGBMClassifier\n",
        "from sklearn.ensemble import ExtraTreesClassifier\n",
        "from sklearn.neighbors import KNeighborsClassifier\n",
        "from sklearn.feature_selection import RFE, RFECV\n",
        "from sklearn.preprocessing import LabelEncoder\n",
        "from sklearn.discriminant_analysis import LinearDiscriminantAnalysis as LDA"
      ],
      "metadata": {
        "id": "bdQ84pOZrMJ-"
      },
      "execution_count": 15,
      "outputs": []
    },
    {
      "cell_type": "markdown",
      "source": [
        "0. 데이터불러오기"
      ],
      "metadata": {
        "id": "5otwomgvCw6E"
      }
    },
    {
      "cell_type": "code",
      "execution_count": 16,
      "metadata": {
        "id": "vRNLt4Mhe1nf"
      },
      "outputs": [],
      "source": [
        "train = pd.read_csv(\"train.csv\")\n",
        "test = pd.read_csv(\"test.csv\")\n",
        "submit = pd.read_csv(\"sample_submission.csv\")"
      ]
    },
    {
      "cell_type": "markdown",
      "source": [
        "### EDA"
      ],
      "metadata": {
        "id": "REl3ZNC5hGnl"
      }
    },
    {
      "cell_type": "code",
      "source": [
        "sns.countplot(data=train, x=\"대출기간\", hue=\"대출등급\", hue_order=[\"A\",\"B\",\"C\",\"D\",\"E\",\"F\",\"G\"])"
      ],
      "metadata": {
        "colab": {
          "base_uri": "https://localhost:8080/",
          "height": 0
        },
        "id": "JpLd7i6BhI9f",
        "outputId": "a9f804a4-f757-403d-a5a5-503568ec998b"
      },
      "execution_count": 17,
      "outputs": [
        {
          "output_type": "execute_result",
          "data": {
            "text/plain": [
              "<Axes: xlabel='대출기간', ylabel='count'>"
            ]
          },
          "metadata": {},
          "execution_count": 17
        },
        {
          "output_type": "display_data",
          "data": {
            "text/plain": [
              "<Figure size 640x480 with 1 Axes>"
            ],
            "image/png": "[encoded data removed]"
          },
          "metadata": {}
        }
      ]
    },
    {
      "cell_type": "code",
      "source": [
        "sns.displot(data=train, x=\"대출금액\", hue=\"대출기간\")"
      ],
      "metadata": {
        "colab": {
          "base_uri": "https://localhost:8080/",
          "height": 0
        },
        "id": "ZzIWRxaLhPxj",
        "outputId": "bfab0638-00df-485e-80b8-2176bce9c604"
      },
      "execution_count": 18,
      "outputs": [
        {
          "output_type": "execute_result",
          "data": {
            "text/plain": [
              "<seaborn.axisgrid.FacetGrid at 0x7b9c31213df0>"
            ]
          },
          "metadata": {},
          "execution_count": 18
        },
        {
          "output_type": "display_data",
          "data": {
            "text/plain": [
              "<Figure size 623.5x500 with 1 Axes>"
            ],
            "image/png": "[encoded data removed]"
          },
          "metadata": {}
        }
      ]
    },
    {
      "cell_type": "markdown",
      "source": [
        "대출기간에 따른 대출금액의 차이 확인"
      ],
      "metadata": {
        "id": "lZ0jhE-EhW3q"
      }
    },
    {
      "cell_type": "code",
      "source": [
        "plt.figure(figsize=(13,7))\n",
        "sns.barplot(data=train, x=\"대출등급\", y=\"총상환원금\", order=[\"A\",\"B\",\"C\",\"D\",\"E\",\"F\",\"G\"])"
      ],
      "metadata": {
        "colab": {
          "base_uri": "https://localhost:8080/",
          "height": 0
        },
        "id": "6nG1TSd9h8G5",
        "outputId": "7831ef6c-2502-4f39-db59-f10ff749ad8d"
      },
      "execution_count": 19,
      "outputs": [
        {
          "output_type": "execute_result",
          "data": {
            "text/plain": [
              "<Axes: xlabel='대출등급', ylabel='총상환원금'>"
            ]
          },
          "metadata": {},
          "execution_count": 19
        },
        {
          "output_type": "display_data",
          "data": {
            "text/plain": [
              "<Figure size 1300x700 with 1 Axes>"
            ],
            "image/png": "[encoded data removed]"
          },
          "metadata": {}
        }
      ]
    },
    {
      "cell_type": "code",
      "source": [
        "plt.figure(figsize=(13,7))\n",
        "sns.barplot(data=train, x=\"대출등급\", y=\"총상환이자\", order=[\"A\",\"B\",\"C\",\"D\",\"E\",\"F\",\"G\"])"
      ],
      "metadata": {
        "colab": {
          "base_uri": "https://localhost:8080/",
          "height": 0
        },
        "id": "dLgKQhLFh_2m",
        "outputId": "4c8797ea-6ff3-4ed0-ca3d-859f63137c8a"
      },
      "execution_count": 20,
      "outputs": [
        {
          "output_type": "execute_result",
          "data": {
            "text/plain": [
              "<Axes: xlabel='대출등급', ylabel='총상환이자'>"
            ]
          },
          "metadata": {},
          "execution_count": 20
        },
        {
          "output_type": "display_data",
          "data": {
            "text/plain": [
              "<Figure size 1300x700 with 1 Axes>"
            ],
            "image/png": "[encoded data removed]"
          },
          "metadata": {}
        }
      ]
    },
    {
      "cell_type": "code",
      "source": [
        "plt.figure(figsize=(10,4))\n",
        "\n",
        "plt.subplot(1,2,1)\n",
        "plt.title(\"총상환원금과 대출등급\")\n",
        "sns.barplot(data=train, x=\"대출등급\", y=\"총상환원금\", order=[\"A\",\"B\",\"C\",\"D\",\"E\",\"F\",\"G\"])\n",
        "\n",
        "plt.subplot(1,2,2)\n",
        "plt.title(\"총상환이자와 대출등급\")\n",
        "sns.barplot(data=train, x=\"대출등급\", y=\"총상환이자\", order=[\"A\",\"B\",\"C\",\"D\",\"E\",\"F\",\"G\"])\n",
        "\n",
        "plt.tight_layout()"
      ],
      "metadata": {
        "colab": {
          "base_uri": "https://localhost:8080/",
          "height": 0
        },
        "id": "2jezlRKz1yyX",
        "outputId": "890727b0-3bf3-4ae1-95fd-fe6844fffca8"
      },
      "execution_count": 21,
      "outputs": [
        {
          "output_type": "display_data",
          "data": {
            "text/plain": [
              "<Figure size 1000x400 with 2 Axes>"
            ],
            "image/png": "[encoded data removed]"
          },
          "metadata": {}
        }
      ]
    },
    {
      "cell_type": "markdown",
      "source": [
        "대출 등급별로 총상환원금과, 총상환이자의 분포가 크게 차이남을 확인"
      ],
      "metadata": {
        "id": "hm-H-moEiB_u"
      }
    },
    {
      "cell_type": "code",
      "source": [
        "test_1 = train[(train[\"총상환이자\"] > 0)]\n",
        "test_2= train[(train[\"총상환이자\"] == 0)]"
      ],
      "metadata": {
        "id": "dyi67Ie7hPqL"
      },
      "execution_count": 22,
      "outputs": []
    },
    {
      "cell_type": "code",
      "source": [
        "sns.countplot(data=test_1, x=\"대출등급\", order=[\"A\",\"B\",\"C\",\"D\",\"E\",\"F\",\"G\"])"
      ],
      "metadata": {
        "colab": {
          "base_uri": "https://localhost:8080/",
          "height": 0
        },
        "id": "N8D3KI4ZiItM",
        "outputId": "dbb8da07-103e-43c9-9bdb-1dc6f788801a"
      },
      "execution_count": 23,
      "outputs": [
        {
          "output_type": "execute_result",
          "data": {
            "text/plain": [
              "<Axes: xlabel='대출등급', ylabel='count'>"
            ]
          },
          "metadata": {},
          "execution_count": 23
        },
        {
          "output_type": "display_data",
          "data": {
            "text/plain": [
              "<Figure size 640x480 with 1 Axes>"
            ],
            "image/png": "[encoded data removed]"
          },
          "metadata": {}
        }
      ]
    },
    {
      "cell_type": "code",
      "source": [
        "sns.countplot(data=test_2, x=\"대출등급\", order=[\"A\",\"B\",\"C\",\"D\",\"E\",\"F\",\"G\"])"
      ],
      "metadata": {
        "colab": {
          "base_uri": "https://localhost:8080/",
          "height": 0
        },
        "id": "hjVzo1ZXiIq0",
        "outputId": "9c69d67c-137b-48a0-8432-0ef27bce8a77"
      },
      "execution_count": 24,
      "outputs": [
        {
          "output_type": "execute_result",
          "data": {
            "text/plain": [
              "<Axes: xlabel='대출등급', ylabel='count'>"
            ]
          },
          "metadata": {},
          "execution_count": 24
        },
        {
          "output_type": "display_data",
          "data": {
            "text/plain": [
              "<Figure size 640x480 with 1 Axes>"
            ],
            "image/png": "[encoded data removed]"
          },
          "metadata": {}
        }
      ]
    },
    {
      "cell_type": "markdown",
      "source": [
        "0과 0보다 큰값으로 나눠봤는데, 별로 큰 차이를 보이지않음"
      ],
      "metadata": {
        "id": "ZlCD1M8eiM8x"
      }
    },
    {
      "cell_type": "code",
      "source": [
        "test_3 = train[(train[\"총상환이자\"] == train[\"총상환원금\"])]\n",
        "test_4 = train[(train[\"총상환이자\"] > train[\"총상환원금\"])]\n",
        "test_5 = train[(train[\"총상환이자\"] < train[\"총상환원금\"])]"
      ],
      "metadata": {
        "id": "yKaeOQiIiL9Z"
      },
      "execution_count": 25,
      "outputs": []
    },
    {
      "cell_type": "code",
      "source": [
        "plt.figure(figsize=(10,4))\n",
        "\n",
        "plt.subplot(1,3,1)\n",
        "plt.title(\"총상환이자와 총상환원금이 같을때\")\n",
        "sns.countplot(data=test_3, x=\"대출등급\", order=[\"A\",\"B\",\"C\",\"D\",\"E\",\"F\",\"G\"])\n",
        "\n",
        "plt.subplot(1,3,2)\n",
        "plt.title(\"총상환이자가 더 클때\")\n",
        "sns.countplot(data=test_4, x=\"대출등급\", order=[\"A\",\"B\",\"C\",\"D\",\"E\",\"F\",\"G\"])\n",
        "\n",
        "plt.subplot(1,3,3)\n",
        "plt.title(\"총상환원금이 더 클때\")\n",
        "sns.countplot(data=test_5, x=\"대출등급\", order=[\"A\",\"B\",\"C\",\"D\",\"E\",\"F\",\"G\"])\n",
        "\n",
        "plt.tight_layout()"
      ],
      "metadata": {
        "colab": {
          "base_uri": "https://localhost:8080/",
          "height": 0
        },
        "id": "4W0obXNgiZGC",
        "outputId": "ac9c5aab-c182-4911-8bea-a75a542b6da7"
      },
      "execution_count": 26,
      "outputs": [
        {
          "output_type": "display_data",
          "data": {
            "text/plain": [
              "<Figure size 1000x400 with 3 Axes>"
            ],
            "image/png": "[encoded data removed]"
          },
          "metadata": {}
        }
      ]
    },
    {
      "cell_type": "markdown",
      "source": [
        "총상환이자가 더 클때는 확실히 다른 분포를 보임을 확인했다."
      ],
      "metadata": {
        "id": "1ryibcBxjJOJ"
      }
    },
    {
      "cell_type": "code",
      "source": [
        "plt.figure(figsize=(13,7))\n",
        "sns.barplot(data=train, x=\"대출등급\", y=\"총연체금액\", order=[\"A\",\"B\",\"C\",\"D\",\"E\",\"F\",\"G\"])"
      ],
      "metadata": {
        "colab": {
          "base_uri": "https://localhost:8080/",
          "height": 0
        },
        "id": "tWCIwIrpjVA-",
        "outputId": "9824e6e9-9197-4d14-b8ff-5338183a65b8"
      },
      "execution_count": 27,
      "outputs": [
        {
          "output_type": "execute_result",
          "data": {
            "text/plain": [
              "<Axes: xlabel='대출등급', ylabel='총연체금액'>"
            ]
          },
          "metadata": {},
          "execution_count": 27
        },
        {
          "output_type": "display_data",
          "data": {
            "text/plain": [
              "<Figure size 1300x700 with 1 Axes>"
            ],
            "image/png": "[encoded data removed]"
          },
          "metadata": {}
        }
      ]
    },
    {
      "cell_type": "code",
      "source": [
        "test_a = train[(train[\"총연체금액\"] > 0)]\n",
        "test_b = train[(train[\"총연체금액\"] == 0)]"
      ],
      "metadata": {
        "id": "Q4numvLfiL7I"
      },
      "execution_count": 28,
      "outputs": []
    },
    {
      "cell_type": "code",
      "source": [
        "sns.countplot(data=test_a, x=\"대출등급\", order=[\"A\",\"B\",\"C\",\"D\",\"E\",\"F\",\"G\"])"
      ],
      "metadata": {
        "colab": {
          "base_uri": "https://localhost:8080/",
          "height": 0
        },
        "id": "YO7KErbYiL5I",
        "outputId": "4d14d753-4036-404a-b919-2e4b178809d4"
      },
      "execution_count": 29,
      "outputs": [
        {
          "output_type": "execute_result",
          "data": {
            "text/plain": [
              "<Axes: xlabel='대출등급', ylabel='count'>"
            ]
          },
          "metadata": {},
          "execution_count": 29
        },
        {
          "output_type": "display_data",
          "data": {
            "text/plain": [
              "<Figure size 640x480 with 1 Axes>"
            ],
            "image/png": "[encoded data removed]"
          },
          "metadata": {}
        }
      ]
    },
    {
      "cell_type": "code",
      "source": [
        "sns.countplot(data=test_b, x=\"대출등급\", order=[\"A\",\"B\",\"C\",\"D\",\"E\",\"F\",\"G\"])"
      ],
      "metadata": {
        "colab": {
          "base_uri": "https://localhost:8080/",
          "height": 0
        },
        "id": "wvEeQktajbJb",
        "outputId": "881545b2-dd3b-4f89-bb14-c4fd2526e9f1"
      },
      "execution_count": 30,
      "outputs": [
        {
          "output_type": "execute_result",
          "data": {
            "text/plain": [
              "<Axes: xlabel='대출등급', ylabel='count'>"
            ]
          },
          "metadata": {},
          "execution_count": 30
        },
        {
          "output_type": "display_data",
          "data": {
            "text/plain": [
              "<Figure size 640x480 with 1 Axes>"
            ],
            "image/png": "[encoded data removed]"
          },
          "metadata": {}
        }
      ]
    },
    {
      "cell_type": "markdown",
      "source": [
        "둘의 분포가 크게 다르지는 않지만, 조금의 차이는 확인됬다."
      ],
      "metadata": {
        "id": "E-vQ65kKjbnr"
      }
    },
    {
      "cell_type": "markdown",
      "source": [
        "### 데이터전처리"
      ],
      "metadata": {
        "id": "pAvJtVllCyvq"
      }
    },
    {
      "cell_type": "code",
      "source": [
        "train.isnull().sum()"
      ],
      "metadata": {
        "colab": {
          "base_uri": "https://localhost:8080/"
        },
        "id": "yVjYDMkrHfEi",
        "outputId": "f549842f-c356-49a8-d5c8-1b93c5089bf0"
      },
      "execution_count": 31,
      "outputs": [
        {
          "output_type": "execute_result",
          "data": {
            "text/plain": [
              "ID              0\n",
              "대출금액            0\n",
              "대출기간            0\n",
              "근로기간            0\n",
              "주택소유상태          0\n",
              "연간소득            0\n",
              "부채_대비_소득_비율     0\n",
              "총계좌수            0\n",
              "대출목적            0\n",
              "최근_2년간_연체_횟수    0\n",
              "총상환원금           0\n",
              "총상환이자           0\n",
              "총연체금액           0\n",
              "연체계좌수           0\n",
              "대출등급            0\n",
              "dtype: int64"
            ]
          },
          "metadata": {},
          "execution_count": 31
        }
      ]
    },
    {
      "cell_type": "code",
      "execution_count": 32,
      "metadata": {
        "colab": {
          "base_uri": "https://localhost:8080/"
        },
        "id": "QmigFCjxe1nf",
        "outputId": "424a2621-296e-4df3-a0a6-5a95b4eb7e4a"
      },
      "outputs": [
        {
          "output_type": "stream",
          "name": "stdout",
          "text": [
            "object_columns : ['대출기간', '근로기간', '주택소유상태', '대출목적']\n",
            "number_columns : ['대출금액', '연간소득', '부채_대비_소득_비율', '총계좌수', '최근_2년간_연체_횟수', '총상환원금', '총상환이자', '총연체금액', '연체계좌수']\n"
          ]
        }
      ],
      "source": [
        "features = train.columns[1:-1]\n",
        "object_columns = []\n",
        "number_columns = []\n",
        "\n",
        "for feature in features:\n",
        "    if train[feature].dtype == \"object\":\n",
        "        object_columns.append(feature)\n",
        "    else:\n",
        "        number_columns.append(feature)\n",
        "\n",
        "print(f'object_columns : {object_columns}')\n",
        "print(f'number_columns : {number_columns}')\n"
      ]
    },
    {
      "cell_type": "markdown",
      "source": [
        "object_columns 확인"
      ],
      "metadata": {
        "id": "CUQra2EekqzS"
      }
    },
    {
      "cell_type": "code",
      "source": [
        "display(train[\"대출기간\"].value_counts())\n",
        "display(train[\"근로기간\"].value_counts())\n",
        "display(train[\"주택소유상태\"].value_counts())\n",
        "display(train[\"대출목적\"].value_counts())\n",
        "display(train[\"대출등급\"].value_counts())"
      ],
      "metadata": {
        "colab": {
          "base_uri": "https://localhost:8080/",
          "height": 862
        },
        "id": "qlxW4OrBkbgw",
        "outputId": "d2e4a2db-69f0-422a-9fa1-26001906f626"
      },
      "execution_count": 33,
      "outputs": [
        {
          "output_type": "display_data",
          "data": {
            "text/plain": [
              " 36 months    64479\n",
              " 60 months    31815\n",
              "Name: 대출기간, dtype: int64"
            ]
          },
          "metadata": {}
        },
        {
          "output_type": "display_data",
          "data": {
            "text/plain": [
              "10+ years    31585\n",
              "2 years       8450\n",
              "< 1 year      7774\n",
              "3 years       7581\n",
              "1 year        6249\n",
              "Unknown       5671\n",
              "5 years       5665\n",
              "4 years       5588\n",
              "8 years       4888\n",
              "6 years       3874\n",
              "7 years       3814\n",
              "9 years       3744\n",
              "10+years       896\n",
              "<1 year        370\n",
              "3               89\n",
              "1 years         56\n",
              "Name: 근로기간, dtype: int64"
            ]
          },
          "metadata": {}
        },
        {
          "output_type": "display_data",
          "data": {
            "text/plain": [
              "MORTGAGE    47934\n",
              "RENT        37705\n",
              "OWN         10654\n",
              "ANY             1\n",
              "Name: 주택소유상태, dtype: int64"
            ]
          },
          "metadata": {}
        },
        {
          "output_type": "display_data",
          "data": {
            "text/plain": [
              "부채 통합     55150\n",
              "신용 카드     24500\n",
              "주택 개선      6160\n",
              "기타         4725\n",
              "주요 구매      1803\n",
              "의료         1039\n",
              "자동차         797\n",
              "소규모 사업      787\n",
              "이사          506\n",
              "휴가          466\n",
              "주택          301\n",
              "재생 에너지       60\n",
              "Name: 대출목적, dtype: int64"
            ]
          },
          "metadata": {}
        },
        {
          "output_type": "display_data",
          "data": {
            "text/plain": [
              "B    28817\n",
              "C    27623\n",
              "A    16772\n",
              "D    13354\n",
              "E     7354\n",
              "F     1954\n",
              "G      420\n",
              "Name: 대출등급, dtype: int64"
            ]
          },
          "metadata": {}
        }
      ]
    },
    {
      "cell_type": "markdown",
      "source": [
        "- 근로기간 전처리 팔요확인\n",
        "- 대출등급, 대출목적이 항목이 많고, 항목별로 차이가 큰 것을 확인"
      ],
      "metadata": {
        "id": "FN9dIYDMkzm4"
      }
    },
    {
      "cell_type": "code",
      "source": [
        "train.describe()"
      ],
      "metadata": {
        "colab": {
          "base_uri": "https://localhost:8080/",
          "height": 338
        },
        "id": "DLgOxkb_lF8z",
        "outputId": "a2a61150-8214-4ac0-f0ed-ccc475d3cbd1"
      },
      "execution_count": 34,
      "outputs": [
        {
          "output_type": "execute_result",
          "data": {
            "text/plain": [
              "               대출금액          연간소득   부채_대비_소득_비율          총계좌수  최근_2년간_연체_횟수  \\\n",
              "count  9.629400e+04  9.629400e+04  96294.000000  96294.000000  96294.000000   \n",
              "mean   1.830400e+07  9.392672e+07     19.379590     25.304827      0.345681   \n",
              "std    1.032908e+07  9.956871e+07     33.569559     12.088566      0.919119   \n",
              "min    1.200000e+06  0.000000e+00      0.000000      4.000000      0.000000   \n",
              "25%    1.020000e+07  5.760000e+07     12.650000     17.000000      0.000000   \n",
              "50%    1.680000e+07  7.800000e+07     18.740000     24.000000      0.000000   \n",
              "75%    2.400000e+07  1.128000e+08     25.540000     32.000000      0.000000   \n",
              "max    4.200000e+07  1.080000e+10   9999.000000    169.000000     30.000000   \n",
              "\n",
              "              총상환원금         총상환이자         총연체금액         연체계좌수  \n",
              "count  9.629400e+04  9.629400e+04  96294.000000  96294.000000  \n",
              "mean   8.225035e+05  4.282282e+05     54.380584      0.005805  \n",
              "std    1.027745e+06  4.402111e+05   1414.769218      0.079966  \n",
              "min    0.000000e+00  0.000000e+00      0.000000      0.000000  \n",
              "25%    3.075720e+05  1.346160e+05      0.000000      0.000000  \n",
              "50%    5.976960e+05  2.870040e+05      0.000000      0.000000  \n",
              "75%    1.055076e+06  5.702160e+05      0.000000      0.000000  \n",
              "max    4.195594e+07  5.653416e+06  75768.000000      4.000000  "
            ],
            "text/html": [
              "\n",
              "  <div id=\"df-2ea867e7-6495-4d17-9be4-c554e2528dfd\" class=\"colab-df-container\">\n",
              "    <div>\n",
              "<style scoped>\n",
              "    .dataframe tbody tr th:only-of-type {\n",
              "        vertical-align: middle;\n",
              "    }\n",
              "\n",
              "    .dataframe tbody tr th {\n",
              "        vertical-align: top;\n",
              "    }\n",
              "\n",
              "    .dataframe thead th {\n",
              "        text-align: right;\n",
              "    }\n",
              "</style>\n",
              "<table border=\"1\" class=\"dataframe\">\n",
              "  <thead>\n",
              "    <tr style=\"text-align: right;\">\n",
              "      <th></th>\n",
              "      <th>대출금액</th>\n",
              "      <th>연간소득</th>\n",
              "      <th>부채_대비_소득_비율</th>\n",
              "      <th>총계좌수</th>\n",
              "      <th>최근_2년간_연체_횟수</th>\n",
              "      <th>총상환원금</th>\n",
              "      <th>총상환이자</th>\n",
              "      <th>총연체금액</th>\n",
              "      <th>연체계좌수</th>\n",
              "    </tr>\n",
              "  </thead>\n",
              "  <tbody>\n",
              "    <tr>\n",
              "      <th>count</th>\n",
              "      <td>9.629400e+04</td>\n",
              "      <td>9.629400e+04</td>\n",
              "      <td>96294.000000</td>\n",
              "      <td>96294.000000</td>\n",
              "      <td>96294.000000</td>\n",
              "      <td>9.629400e+04</td>\n",
              "      <td>9.629400e+04</td>\n",
              "      <td>96294.000000</td>\n",
              "      <td>96294.000000</td>\n",
              "    </tr>\n",
              "    <tr>\n",
              "      <th>mean</th>\n",
              "      <td>1.830400e+07</td>\n",
              "      <td>9.392672e+07</td>\n",
              "      <td>19.379590</td>\n",
              "      <td>25.304827</td>\n",
              "      <td>0.345681</td>\n",
              "      <td>8.225035e+05</td>\n",
              "      <td>4.282282e+05</td>\n",
              "      <td>54.380584</td>\n",
              "      <td>0.005805</td>\n",
              "    </tr>\n",
              "    <tr>\n",
              "      <th>std</th>\n",
              "      <td>1.032908e+07</td>\n",
              "      <td>9.956871e+07</td>\n",
              "      <td>33.569559</td>\n",
              "      <td>12.088566</td>\n",
              "      <td>0.919119</td>\n",
              "      <td>1.027745e+06</td>\n",
              "      <td>4.402111e+05</td>\n",
              "      <td>1414.769218</td>\n",
              "      <td>0.079966</td>\n",
              "    </tr>\n",
              "    <tr>\n",
              "      <th>min</th>\n",
              "      <td>1.200000e+06</td>\n",
              "      <td>0.000000e+00</td>\n",
              "      <td>0.000000</td>\n",
              "      <td>4.000000</td>\n",
              "      <td>0.000000</td>\n",
              "      <td>0.000000e+00</td>\n",
              "      <td>0.000000e+00</td>\n",
              "      <td>0.000000</td>\n",
              "      <td>0.000000</td>\n",
              "    </tr>\n",
              "    <tr>\n",
              "      <th>25%</th>\n",
              "      <td>1.020000e+07</td>\n",
              "      <td>5.760000e+07</td>\n",
              "      <td>12.650000</td>\n",
              "      <td>17.000000</td>\n",
              "      <td>0.000000</td>\n",
              "      <td>3.075720e+05</td>\n",
              "      <td>1.346160e+05</td>\n",
              "      <td>0.000000</td>\n",
              "      <td>0.000000</td>\n",
              "    </tr>\n",
              "    <tr>\n",
              "      <th>50%</th>\n",
              "      <td>1.680000e+07</td>\n",
              "      <td>7.800000e+07</td>\n",
              "      <td>18.740000</td>\n",
              "      <td>24.000000</td>\n",
              "      <td>0.000000</td>\n",
              "      <td>5.976960e+05</td>\n",
              "      <td>2.870040e+05</td>\n",
              "      <td>0.000000</td>\n",
              "      <td>0.000000</td>\n",
              "    </tr>\n",
              "    <tr>\n",
              "      <th>75%</th>\n",
              "      <td>2.400000e+07</td>\n",
              "      <td>1.128000e+08</td>\n",
              "      <td>25.540000</td>\n",
              "      <td>32.000000</td>\n",
              "      <td>0.000000</td>\n",
              "      <td>1.055076e+06</td>\n",
              "      <td>5.702160e+05</td>\n",
              "      <td>0.000000</td>\n",
              "      <td>0.000000</td>\n",
              "    </tr>\n",
              "    <tr>\n",
              "      <th>max</th>\n",
              "      <td>4.200000e+07</td>\n",
              "      <td>1.080000e+10</td>\n",
              "      <td>9999.000000</td>\n",
              "      <td>169.000000</td>\n",
              "      <td>30.000000</td>\n",
              "      <td>4.195594e+07</td>\n",
              "      <td>5.653416e+06</td>\n",
              "      <td>75768.000000</td>\n",
              "      <td>4.000000</td>\n",
              "    </tr>\n",
              "  </tbody>\n",
              "</table>\n",
              "</div>\n",
              "    <div class=\"colab-df-buttons\">\n",
              "\n",
              "  <div class=\"colab-df-container\">\n",
              "    <button class=\"colab-df-convert\" onclick=\"convertToInteractive('df-2ea867e7-6495-4d17-9be4-c554e2528dfd')\"\n",
              "            title=\"Convert this dataframe to an interactive table.\"\n",
              "            style=\"display:none;\">\n",
              "\n",
              "  <svg xmlns=\"http://www.w3.org/2000/svg\" height=\"24px\" viewBox=\"0 -960 960 960\">\n",
              "    <path d=\"M120-120v-720h720v720H120Zm60-500h600v-160H180v160Zm220 220h160v-160H400v160Zm0 220h160v-160H400v160ZM180-400h160v-160H180v160Zm440 0h160v-160H620v160ZM180-180h160v-160H180v160Zm440 0h160v-160H620v160Z\"/>\n",
              "  </svg>\n",
              "    </button>\n",
              "\n",
              "  <style>\n",
              "    .colab-df-container {\n",
              "      display:flex;\n",
              "      gap: 12px;\n",
              "    }\n",
              "\n",
              "    .colab-df-convert {\n",
              "      background-color: #E8F0FE;\n",
              "      border: none;\n",
              "      border-radius: 50%;\n",
              "      cursor: pointer;\n",
              "      display: none;\n",
              "      fill: #1967D2;\n",
              "      height: 32px;\n",
              "      padding: 0 0 0 0;\n",
              "      width: 32px;\n",
              "    }\n",
              "\n",
              "    .colab-df-convert:hover {\n",
              "      background-color: #E2EBFA;\n",
              "      box-shadow: 0px 1px 2px rgba(60, 64, 67, 0.3), 0px 1px 3px 1px rgba(60, 64, 67, 0.15);\n",
              "      fill: #174EA6;\n",
              "    }\n",
              "\n",
              "    .colab-df-buttons div {\n",
              "      margin-bottom: 4px;\n",
              "    }\n",
              "\n",
              "    [theme=dark] .colab-df-convert {\n",
              "      background-color: #3B4455;\n",
              "      fill: #D2E3FC;\n",
              "    }\n",
              "\n",
              "    [theme=dark] .colab-df-convert:hover {\n",
              "      background-color: #434B5C;\n",
              "      box-shadow: 0px 1px 3px 1px rgba(0, 0, 0, 0.15);\n",
              "      filter: drop-shadow(0px 1px 2px rgba(0, 0, 0, 0.3));\n",
              "      fill: #FFFFFF;\n",
              "    }\n",
              "  </style>\n",
              "\n",
              "    <script>\n",
              "      const buttonEl =\n",
              "        document.querySelector('#df-2ea867e7-6495-4d17-9be4-c554e2528dfd button.colab-df-convert');\n",
              "      buttonEl.style.display =\n",
              "        google.colab.kernel.accessAllowed ? 'block' : 'none';\n",
              "\n",
              "      async function convertToInteractive(key) {\n",
              "        const element = document.querySelector('#df-2ea867e7-6495-4d17-9be4-c554e2528dfd');\n",
              "        const dataTable =\n",
              "          await google.colab.kernel.invokeFunction('convertToInteractive',\n",
              "                                                    [key], {});\n",
              "        if (!dataTable) return;\n",
              "\n",
              "        const docLinkHtml = 'Like what you see? Visit the ' +\n",
              "          '<a target=\"_blank\" href=https://colab.research.google.com/notebooks/data_table.ipynb>data table notebook</a>'\n",
              "          + ' to learn more about interactive tables.';\n",
              "        element.innerHTML = '';\n",
              "        dataTable['output_type'] = 'display_data';\n",
              "        await google.colab.output.renderOutput(dataTable, element);\n",
              "        const docLink = document.createElement('div');\n",
              "        docLink.innerHTML = docLinkHtml;\n",
              "        element.appendChild(docLink);\n",
              "      }\n",
              "    </script>\n",
              "  </div>\n",
              "\n",
              "\n",
              "<div id=\"df-5d37ccd8-3af2-42f5-8ebb-f5e27bffbeaf\">\n",
              "  <button class=\"colab-df-quickchart\" onclick=\"quickchart('df-5d37ccd8-3af2-42f5-8ebb-f5e27bffbeaf')\"\n",
              "            title=\"Suggest charts\"\n",
              "            style=\"display:none;\">\n",
              "\n",
              "<svg xmlns=\"http://www.w3.org/2000/svg\" height=\"24px\"viewBox=\"0 0 24 24\"\n",
              "     width=\"24px\">\n",
              "    <g>\n",
              "        <path d=\"M19 3H5c-1.1 0-2 .9-2 2v14c0 1.1.9 2 2 2h14c1.1 0 2-.9 2-2V5c0-1.1-.9-2-2-2zM9 17H7v-7h2v7zm4 0h-2V7h2v10zm4 0h-2v-4h2v4z\"/>\n",
              "    </g>\n",
              "</svg>\n",
              "  </button>\n",
              "\n",
              "<style>\n",
              "  .colab-df-quickchart {\n",
              "      --bg-color: #E8F0FE;\n",
              "      --fill-color: #1967D2;\n",
              "      --hover-bg-color: #E2EBFA;\n",
              "      --hover-fill-color: #174EA6;\n",
              "      --disabled-fill-color: #AAA;\n",
              "      --disabled-bg-color: #DDD;\n",
              "  }\n",
              "\n",
              "  [theme=dark] .colab-df-quickchart {\n",
              "      --bg-color: #3B4455;\n",
              "      --fill-color: #D2E3FC;\n",
              "      --hover-bg-color: #434B5C;\n",
              "      --hover-fill-color: #FFFFFF;\n",
              "      --disabled-bg-color: #3B4455;\n",
              "      --disabled-fill-color: #666;\n",
              "  }\n",
              "\n",
              "  .colab-df-quickchart {\n",
              "    background-color: var(--bg-color);\n",
              "    border: none;\n",
              "    border-radius: 50%;\n",
              "    cursor: pointer;\n",
              "    display: none;\n",
              "    fill: var(--fill-color);\n",
              "    height: 32px;\n",
              "    padding: 0;\n",
              "    width: 32px;\n",
              "  }\n",
              "\n",
              "  .colab-df-quickchart:hover {\n",
              "    background-color: var(--hover-bg-color);\n",
              "    box-shadow: 0 1px 2px rgba(60, 64, 67, 0.3), 0 1px 3px 1px rgba(60, 64, 67, 0.15);\n",
              "    fill: var(--button-hover-fill-color);\n",
              "  }\n",
              "\n",
              "  .colab-df-quickchart-complete:disabled,\n",
              "  .colab-df-quickchart-complete:disabled:hover {\n",
              "    background-color: var(--disabled-bg-color);\n",
              "    fill: var(--disabled-fill-color);\n",
              "    box-shadow: none;\n",
              "  }\n",
              "\n",
              "  .colab-df-spinner {\n",
              "    border: 2px solid var(--fill-color);\n",
              "    border-color: transparent;\n",
              "    border-bottom-color: var(--fill-color);\n",
              "    animation:\n",
              "      spin 1s steps(1) infinite;\n",
              "  }\n",
              "\n",
              "  @keyframes spin {\n",
              "    0% {\n",
              "      border-color: transparent;\n",
              "      border-bottom-color: var(--fill-color);\n",
              "      border-left-color: var(--fill-color);\n",
              "    }\n",
              "    20% {\n",
              "      border-color: transparent;\n",
              "      border-left-color: var(--fill-color);\n",
              "      border-top-color: var(--fill-color);\n",
              "    }\n",
              "    30% {\n",
              "      border-color: transparent;\n",
              "      border-left-color: var(--fill-color);\n",
              "      border-top-color: var(--fill-color);\n",
              "      border-right-color: var(--fill-color);\n",
              "    }\n",
              "    40% {\n",
              "      border-color: transparent;\n",
              "      border-right-color: var(--fill-color);\n",
              "      border-top-color: var(--fill-color);\n",
              "    }\n",
              "    60% {\n",
              "      border-color: transparent;\n",
              "      border-right-color: var(--fill-color);\n",
              "    }\n",
              "    80% {\n",
              "      border-color: transparent;\n",
              "      border-right-color: var(--fill-color);\n",
              "      border-bottom-color: var(--fill-color);\n",
              "    }\n",
              "    90% {\n",
              "      border-color: transparent;\n",
              "      border-bottom-color: var(--fill-color);\n",
              "    }\n",
              "  }\n",
              "</style>\n",
              "\n",
              "  <script>\n",
              "    async function quickchart(key) {\n",
              "      const quickchartButtonEl =\n",
              "        document.querySelector('#' + key + ' button');\n",
              "      quickchartButtonEl.disabled = true;  // To prevent multiple clicks.\n",
              "      quickchartButtonEl.classList.add('colab-df-spinner');\n",
              "      try {\n",
              "        const charts = await google.colab.kernel.invokeFunction(\n",
              "            'suggestCharts', [key], {});\n",
              "      } catch (error) {\n",
              "        console.error('Error during call to suggestCharts:', error);\n",
              "      }\n",
              "      quickchartButtonEl.classList.remove('colab-df-spinner');\n",
              "      quickchartButtonEl.classList.add('colab-df-quickchart-complete');\n",
              "    }\n",
              "    (() => {\n",
              "      let quickchartButtonEl =\n",
              "        document.querySelector('#df-5d37ccd8-3af2-42f5-8ebb-f5e27bffbeaf button');\n",
              "      quickchartButtonEl.style.display =\n",
              "        google.colab.kernel.accessAllowed ? 'block' : 'none';\n",
              "    })();\n",
              "  </script>\n",
              "</div>\n",
              "\n",
              "    </div>\n",
              "  </div>\n"
            ],
            "application/vnd.google.colaboratory.intrinsic+json": {
              "type": "dataframe",
              "summary": "{\n  \"name\": \"train\",\n  \"rows\": 8,\n  \"fields\": [\n    {\n      \"column\": \"\\ub300\\ucd9c\\uae08\\uc561\",\n      \"properties\": {\n        \"dtype\": \"number\",\n        \"std\": 13525118.11960259,\n        \"min\": 96294.0,\n        \"max\": 42000000.0,\n        \"num_unique_values\": 8,\n        \"samples\": [\n          18303998.068415478,\n          16800000.0,\n          96294.0\n        ],\n        \"semantic_type\": \"\",\n        \"description\": \"\"\n      }\n    },\n    {\n      \"column\": \"\\uc5f0\\uac04\\uc18c\\ub4dd\",\n      \"properties\": {\n        \"dtype\": \"number\",\n        \"std\": 3796296400.406882,\n        \"min\": 0.0,\n        \"max\": 10800000000.0,\n        \"num_unique_values\": 8,\n        \"samples\": [\n          93926724.67779924,\n          78000000.0,\n          96294.0\n        ],\n        \"semantic_type\": \"\",\n        \"description\": \"\"\n      }\n    },\n    {\n      \"column\": \"\\ubd80\\ucc44_\\ub300\\ube44_\\uc18c\\ub4dd_\\ube44\\uc728\",\n      \"properties\": {\n        \"dtype\": \"number\",\n        \"std\": 33715.87272779204,\n        \"min\": 0.0,\n        \"max\": 96294.0,\n        \"num_unique_values\": 8,\n        \"samples\": [\n          19.379589901759196,\n          18.74,\n          96294.0\n        ],\n        \"semantic_type\": \"\",\n        \"description\": \"\"\n      }\n    },\n    {\n      \"column\": \"\\ucd1d\\uacc4\\uc88c\\uc218\",\n      \"properties\": {\n        \"dtype\": \"number\",\n        \"std\": 34030.79818163682,\n        \"min\": 4.0,\n        \"max\": 96294.0,\n        \"num_unique_values\": 8,\n        \"samples\": [\n          25.304826884333394,\n          24.0,\n          96294.0\n        ],\n        \"semantic_type\": \"\",\n        \"description\": \"\"\n      }\n    },\n    {\n      \"column\": \"\\ucd5c\\uadfc_2\\ub144\\uac04_\\uc5f0\\uccb4_\\ud69f\\uc218\",\n      \"properties\": {\n        \"dtype\": \"number\",\n        \"std\": 34043.49268031944,\n        \"min\": 0.0,\n        \"max\": 96294.0,\n        \"num_unique_values\": 5,\n        \"samples\": [\n          0.3456809354684612,\n          30.0,\n          0.9191186811859532\n        ],\n        \"semantic_type\": \"\",\n        \"description\": \"\"\n      }\n    },\n    {\n      \"column\": \"\\ucd1d\\uc0c1\\ud658\\uc6d0\\uae08\",\n      \"properties\": {\n        \"dtype\": \"number\",\n        \"std\": 14641832.550534964,\n        \"min\": 0.0,\n        \"max\": 41955936.0,\n        \"num_unique_values\": 8,\n        \"samples\": [\n          822503.486198517,\n          597696.0,\n          96294.0\n        ],\n        \"semantic_type\": \"\",\n        \"description\": \"\"\n      }\n    },\n    {\n      \"column\": \"\\ucd1d\\uc0c1\\ud658\\uc774\\uc790\",\n      \"properties\": {\n        \"dtype\": \"number\",\n        \"std\": 1909906.680557603,\n        \"min\": 0.0,\n        \"max\": 5653416.0,\n        \"num_unique_values\": 8,\n        \"samples\": [\n          428228.24761667394,\n          287004.0,\n          96294.0\n        ],\n        \"semantic_type\": \"\",\n        \"description\": \"\"\n      }\n    },\n    {\n      \"column\": \"\\ucd1d\\uc5f0\\uccb4\\uae08\\uc561\",\n      \"properties\": {\n        \"dtype\": \"number\",\n        \"std\": 40091.31771916268,\n        \"min\": 0.0,\n        \"max\": 96294.0,\n        \"num_unique_values\": 5,\n        \"samples\": [\n          54.38058446009097,\n          75768.0,\n          1414.7692181417806\n        ],\n        \"semantic_type\": \"\",\n        \"description\": \"\"\n      }\n    },\n    {\n      \"column\": \"\\uc5f0\\uccb4\\uacc4\\uc88c\\uc218\",\n      \"properties\": {\n        \"dtype\": \"number\",\n        \"std\": 34044.86385975097,\n        \"min\": 0.0,\n        \"max\": 96294.0,\n        \"num_unique_values\": 5,\n        \"samples\": [\n          0.005805138430224105,\n          4.0,\n          0.07996622403529653\n        ],\n        \"semantic_type\": \"\",\n        \"description\": \"\"\n      }\n    }\n  ]\n}"
            }
          },
          "metadata": {},
          "execution_count": 34
        }
      ]
    },
    {
      "cell_type": "markdown",
      "source": [
        "값이 특히 트거나, 작은값들 발견 -> 이상치 처리 필요성\n",
        "- 부채_대비_소득_비율 max : 9999\n",
        "- 연간소득 min : 0"
      ],
      "metadata": {
        "id": "m1JWqYkKlZkC"
      }
    },
    {
      "cell_type": "code",
      "execution_count": 35,
      "metadata": {
        "colab": {
          "base_uri": "https://localhost:8080/"
        },
        "id": "p1ddmxCYe1ng",
        "outputId": "e72349ee-3e58-4da5-ac08-0f2210ef8294"
      },
      "outputs": [
        {
          "output_type": "stream",
          "name": "stdout",
          "text": [
            "z-score 기반 이상치의 전체 데이터에 대한 비율: 2.283631378902112 %\n",
            "개수 : 2199\n"
          ]
        }
      ],
      "source": [
        "from scipy import stats\n",
        "z_scores = stats.zscore(train[number_columns])\n",
        "\n",
        "threshold = 5\n",
        "\n",
        "outliers_z = train[(z_scores > threshold).any(axis=1)]\n",
        "\n",
        "print(f'z-score 기반 이상치의 전체 데이터에 대한 비율: {len(outliers_z)/len(train) * 100} %')\n",
        "print(f'개수 : {len(outliers_z)}')"
      ]
    },
    {
      "cell_type": "code",
      "execution_count": 36,
      "metadata": {
        "id": "eW5Omp1ue1ng"
      },
      "outputs": [],
      "source": [
        "train_del_outlier = train.drop(outliers_z.index)"
      ]
    },
    {
      "cell_type": "markdown",
      "source": [
        "- z-score기반 이상치 처리\n",
        "- 너무 많은 값이 삭제되지 않도록 threshold를 5로 조정했다."
      ],
      "metadata": {
        "id": "-LGBKjXgpr-0"
      }
    },
    {
      "cell_type": "code",
      "source": [
        "train_del_outlier.describe()"
      ],
      "metadata": {
        "colab": {
          "base_uri": "https://localhost:8080/",
          "height": 338
        },
        "id": "I23kPI-bBF9N",
        "outputId": "23df741f-ccba-4ee1-8192-2dfeb40d72d4"
      },
      "execution_count": 37,
      "outputs": [
        {
          "output_type": "execute_result",
          "data": {
            "text/plain": [
              "               대출금액          연간소득   부채_대비_소득_비율          총계좌수  최근_2년간_연체_횟수  \\\n",
              "count  9.409500e+04  9.409500e+04  94095.000000  94095.000000  94095.000000   \n",
              "mean   1.823065e+07  9.155877e+07     19.291554     25.136702      0.284553   \n",
              "std    1.026725e+07  5.453069e+07      8.724822     11.880990      0.672844   \n",
              "min    1.200000e+06  6.000000e+06      0.000000      4.000000      0.000000   \n",
              "25%    1.020000e+07  5.640000e+07     12.680000     16.000000      0.000000   \n",
              "50%    1.680000e+07  7.800000e+07     18.770000     23.000000      0.000000   \n",
              "75%    2.400000e+07  1.116000e+08     25.570000     32.000000      0.000000   \n",
              "max    4.200000e+07  5.880000e+08    125.250000     85.000000      4.000000   \n",
              "\n",
              "              총상환원금         총상환이자         총연체금액    연체계좌수  \n",
              "count  9.409500e+04  9.409500e+04  94095.000000  94095.0  \n",
              "mean   7.865808e+05  4.200831e+05      0.140284      0.0  \n",
              "std    6.986236e+05  4.181415e+05     26.242205      0.0  \n",
              "min    0.000000e+00  0.000000e+00      0.000000      0.0  \n",
              "25%    3.051720e+05  1.338000e+05      0.000000      0.0  \n",
              "50%    5.947200e+05  2.853600e+05      0.000000      0.0  \n",
              "75%    1.042728e+06  5.655480e+05      0.000000      0.0  \n",
              "max    5.951148e+06  2.629008e+06   6000.000000      0.0  "
            ],
            "text/html": [
              "\n",
              "  <div id=\"df-f525b89d-6138-482c-84e5-7056167a0f7e\" class=\"colab-df-container\">\n",
              "    <div>\n",
              "<style scoped>\n",
              "    .dataframe tbody tr th:only-of-type {\n",
              "        vertical-align: middle;\n",
              "    }\n",
              "\n",
              "    .dataframe tbody tr th {\n",
              "        vertical-align: top;\n",
              "    }\n",
              "\n",
              "    .dataframe thead th {\n",
              "        text-align: right;\n",
              "    }\n",
              "</style>\n",
              "<table border=\"1\" class=\"dataframe\">\n",
              "  <thead>\n",
              "    <tr style=\"text-align: right;\">\n",
              "      <th></th>\n",
              "      <th>대출금액</th>\n",
              "      <th>연간소득</th>\n",
              "      <th>부채_대비_소득_비율</th>\n",
              "      <th>총계좌수</th>\n",
              "      <th>최근_2년간_연체_횟수</th>\n",
              "      <th>총상환원금</th>\n",
              "      <th>총상환이자</th>\n",
              "      <th>총연체금액</th>\n",
              "      <th>연체계좌수</th>\n",
              "    </tr>\n",
              "  </thead>\n",
              "  <tbody>\n",
              "    <tr>\n",
              "      <th>count</th>\n",
              "      <td>9.409500e+04</td>\n",
              "      <td>9.409500e+04</td>\n",
              "      <td>94095.000000</td>\n",
              "      <td>94095.000000</td>\n",
              "      <td>94095.000000</td>\n",
              "      <td>9.409500e+04</td>\n",
              "      <td>9.409500e+04</td>\n",
              "      <td>94095.000000</td>\n",
              "      <td>94095.0</td>\n",
              "    </tr>\n",
              "    <tr>\n",
              "      <th>mean</th>\n",
              "      <td>1.823065e+07</td>\n",
              "      <td>9.155877e+07</td>\n",
              "      <td>19.291554</td>\n",
              "      <td>25.136702</td>\n",
              "      <td>0.284553</td>\n",
              "      <td>7.865808e+05</td>\n",
              "      <td>4.200831e+05</td>\n",
              "      <td>0.140284</td>\n",
              "      <td>0.0</td>\n",
              "    </tr>\n",
              "    <tr>\n",
              "      <th>std</th>\n",
              "      <td>1.026725e+07</td>\n",
              "      <td>5.453069e+07</td>\n",
              "      <td>8.724822</td>\n",
              "      <td>11.880990</td>\n",
              "      <td>0.672844</td>\n",
              "      <td>6.986236e+05</td>\n",
              "      <td>4.181415e+05</td>\n",
              "      <td>26.242205</td>\n",
              "      <td>0.0</td>\n",
              "    </tr>\n",
              "    <tr>\n",
              "      <th>min</th>\n",
              "      <td>1.200000e+06</td>\n",
              "      <td>6.000000e+06</td>\n",
              "      <td>0.000000</td>\n",
              "      <td>4.000000</td>\n",
              "      <td>0.000000</td>\n",
              "      <td>0.000000e+00</td>\n",
              "      <td>0.000000e+00</td>\n",
              "      <td>0.000000</td>\n",
              "      <td>0.0</td>\n",
              "    </tr>\n",
              "    <tr>\n",
              "      <th>25%</th>\n",
              "      <td>1.020000e+07</td>\n",
              "      <td>5.640000e+07</td>\n",
              "      <td>12.680000</td>\n",
              "      <td>16.000000</td>\n",
              "      <td>0.000000</td>\n",
              "      <td>3.051720e+05</td>\n",
              "      <td>1.338000e+05</td>\n",
              "      <td>0.000000</td>\n",
              "      <td>0.0</td>\n",
              "    </tr>\n",
              "    <tr>\n",
              "      <th>50%</th>\n",
              "      <td>1.680000e+07</td>\n",
              "      <td>7.800000e+07</td>\n",
              "      <td>18.770000</td>\n",
              "      <td>23.000000</td>\n",
              "      <td>0.000000</td>\n",
              "      <td>5.947200e+05</td>\n",
              "      <td>2.853600e+05</td>\n",
              "      <td>0.000000</td>\n",
              "      <td>0.0</td>\n",
              "    </tr>\n",
              "    <tr>\n",
              "      <th>75%</th>\n",
              "      <td>2.400000e+07</td>\n",
              "      <td>1.116000e+08</td>\n",
              "      <td>25.570000</td>\n",
              "      <td>32.000000</td>\n",
              "      <td>0.000000</td>\n",
              "      <td>1.042728e+06</td>\n",
              "      <td>5.655480e+05</td>\n",
              "      <td>0.000000</td>\n",
              "      <td>0.0</td>\n",
              "    </tr>\n",
              "    <tr>\n",
              "      <th>max</th>\n",
              "      <td>4.200000e+07</td>\n",
              "      <td>5.880000e+08</td>\n",
              "      <td>125.250000</td>\n",
              "      <td>85.000000</td>\n",
              "      <td>4.000000</td>\n",
              "      <td>5.951148e+06</td>\n",
              "      <td>2.629008e+06</td>\n",
              "      <td>6000.000000</td>\n",
              "      <td>0.0</td>\n",
              "    </tr>\n",
              "  </tbody>\n",
              "</table>\n",
              "</div>\n",
              "    <div class=\"colab-df-buttons\">\n",
              "\n",
              "  <div class=\"colab-df-container\">\n",
              "    <button class=\"colab-df-convert\" onclick=\"convertToInteractive('df-f525b89d-6138-482c-84e5-7056167a0f7e')\"\n",
              "            title=\"Convert this dataframe to an interactive table.\"\n",
              "            style=\"display:none;\">\n",
              "\n",
              "  <svg xmlns=\"http://www.w3.org/2000/svg\" height=\"24px\" viewBox=\"0 -960 960 960\">\n",
              "    <path d=\"M120-120v-720h720v720H120Zm60-500h600v-160H180v160Zm220 220h160v-160H400v160Zm0 220h160v-160H400v160ZM180-400h160v-160H180v160Zm440 0h160v-160H620v160ZM180-180h160v-160H180v160Zm440 0h160v-160H620v160Z\"/>\n",
              "  </svg>\n",
              "    </button>\n",
              "\n",
              "  <style>\n",
              "    .colab-df-container {\n",
              "      display:flex;\n",
              "      gap: 12px;\n",
              "    }\n",
              "\n",
              "    .colab-df-convert {\n",
              "      background-color: #E8F0FE;\n",
              "      border: none;\n",
              "      border-radius: 50%;\n",
              "      cursor: pointer;\n",
              "      display: none;\n",
              "      fill: #1967D2;\n",
              "      height: 32px;\n",
              "      padding: 0 0 0 0;\n",
              "      width: 32px;\n",
              "    }\n",
              "\n",
              "    .colab-df-convert:hover {\n",
              "      background-color: #E2EBFA;\n",
              "      box-shadow: 0px 1px 2px rgba(60, 64, 67, 0.3), 0px 1px 3px 1px rgba(60, 64, 67, 0.15);\n",
              "      fill: #174EA6;\n",
              "    }\n",
              "\n",
              "    .colab-df-buttons div {\n",
              "      margin-bottom: 4px;\n",
              "    }\n",
              "\n",
              "    [theme=dark] .colab-df-convert {\n",
              "      background-color: #3B4455;\n",
              "      fill: #D2E3FC;\n",
              "    }\n",
              "\n",
              "    [theme=dark] .colab-df-convert:hover {\n",
              "      background-color: #434B5C;\n",
              "      box-shadow: 0px 1px 3px 1px rgba(0, 0, 0, 0.15);\n",
              "      filter: drop-shadow(0px 1px 2px rgba(0, 0, 0, 0.3));\n",
              "      fill: #FFFFFF;\n",
              "    }\n",
              "  </style>\n",
              "\n",
              "    <script>\n",
              "      const buttonEl =\n",
              "        document.querySelector('#df-f525b89d-6138-482c-84e5-7056167a0f7e button.colab-df-convert');\n",
              "      buttonEl.style.display =\n",
              "        google.colab.kernel.accessAllowed ? 'block' : 'none';\n",
              "\n",
              "      async function convertToInteractive(key) {\n",
              "        const element = document.querySelector('#df-f525b89d-6138-482c-84e5-7056167a0f7e');\n",
              "        const dataTable =\n",
              "          await google.colab.kernel.invokeFunction('convertToInteractive',\n",
              "                                                    [key], {});\n",
              "        if (!dataTable) return;\n",
              "\n",
              "        const docLinkHtml = 'Like what you see? Visit the ' +\n",
              "          '<a target=\"_blank\" href=https://colab.research.google.com/notebooks/data_table.ipynb>data table notebook</a>'\n",
              "          + ' to learn more about interactive tables.';\n",
              "        element.innerHTML = '';\n",
              "        dataTable['output_type'] = 'display_data';\n",
              "        await google.colab.output.renderOutput(dataTable, element);\n",
              "        const docLink = document.createElement('div');\n",
              "        docLink.innerHTML = docLinkHtml;\n",
              "        element.appendChild(docLink);\n",
              "      }\n",
              "    </script>\n",
              "  </div>\n",
              "\n",
              "\n",
              "<div id=\"df-482e742c-1c1c-445f-aa30-625e249d9a6c\">\n",
              "  <button class=\"colab-df-quickchart\" onclick=\"quickchart('df-482e742c-1c1c-445f-aa30-625e249d9a6c')\"\n",
              "            title=\"Suggest charts\"\n",
              "            style=\"display:none;\">\n",
              "\n",
              "<svg xmlns=\"http://www.w3.org/2000/svg\" height=\"24px\"viewBox=\"0 0 24 24\"\n",
              "     width=\"24px\">\n",
              "    <g>\n",
              "        <path d=\"M19 3H5c-1.1 0-2 .9-2 2v14c0 1.1.9 2 2 2h14c1.1 0 2-.9 2-2V5c0-1.1-.9-2-2-2zM9 17H7v-7h2v7zm4 0h-2V7h2v10zm4 0h-2v-4h2v4z\"/>\n",
              "    </g>\n",
              "</svg>\n",
              "  </button>\n",
              "\n",
              "<style>\n",
              "  .colab-df-quickchart {\n",
              "      --bg-color: #E8F0FE;\n",
              "      --fill-color: #1967D2;\n",
              "      --hover-bg-color: #E2EBFA;\n",
              "      --hover-fill-color: #174EA6;\n",
              "      --disabled-fill-color: #AAA;\n",
              "      --disabled-bg-color: #DDD;\n",
              "  }\n",
              "\n",
              "  [theme=dark] .colab-df-quickchart {\n",
              "      --bg-color: #3B4455;\n",
              "      --fill-color: #D2E3FC;\n",
              "      --hover-bg-color: #434B5C;\n",
              "      --hover-fill-color: #FFFFFF;\n",
              "      --disabled-bg-color: #3B4455;\n",
              "      --disabled-fill-color: #666;\n",
              "  }\n",
              "\n",
              "  .colab-df-quickchart {\n",
              "    background-color: var(--bg-color);\n",
              "    border: none;\n",
              "    border-radius: 50%;\n",
              "    cursor: pointer;\n",
              "    display: none;\n",
              "    fill: var(--fill-color);\n",
              "    height: 32px;\n",
              "    padding: 0;\n",
              "    width: 32px;\n",
              "  }\n",
              "\n",
              "  .colab-df-quickchart:hover {\n",
              "    background-color: var(--hover-bg-color);\n",
              "    box-shadow: 0 1px 2px rgba(60, 64, 67, 0.3), 0 1px 3px 1px rgba(60, 64, 67, 0.15);\n",
              "    fill: var(--button-hover-fill-color);\n",
              "  }\n",
              "\n",
              "  .colab-df-quickchart-complete:disabled,\n",
              "  .colab-df-quickchart-complete:disabled:hover {\n",
              "    background-color: var(--disabled-bg-color);\n",
              "    fill: var(--disabled-fill-color);\n",
              "    box-shadow: none;\n",
              "  }\n",
              "\n",
              "  .colab-df-spinner {\n",
              "    border: 2px solid var(--fill-color);\n",
              "    border-color: transparent;\n",
              "    border-bottom-color: var(--fill-color);\n",
              "    animation:\n",
              "      spin 1s steps(1) infinite;\n",
              "  }\n",
              "\n",
              "  @keyframes spin {\n",
              "    0% {\n",
              "      border-color: transparent;\n",
              "      border-bottom-color: var(--fill-color);\n",
              "      border-left-color: var(--fill-color);\n",
              "    }\n",
              "    20% {\n",
              "      border-color: transparent;\n",
              "      border-left-color: var(--fill-color);\n",
              "      border-top-color: var(--fill-color);\n",
              "    }\n",
              "    30% {\n",
              "      border-color: transparent;\n",
              "      border-left-color: var(--fill-color);\n",
              "      border-top-color: var(--fill-color);\n",
              "      border-right-color: var(--fill-color);\n",
              "    }\n",
              "    40% {\n",
              "      border-color: transparent;\n",
              "      border-right-color: var(--fill-color);\n",
              "      border-top-color: var(--fill-color);\n",
              "    }\n",
              "    60% {\n",
              "      border-color: transparent;\n",
              "      border-right-color: var(--fill-color);\n",
              "    }\n",
              "    80% {\n",
              "      border-color: transparent;\n",
              "      border-right-color: var(--fill-color);\n",
              "      border-bottom-color: var(--fill-color);\n",
              "    }\n",
              "    90% {\n",
              "      border-color: transparent;\n",
              "      border-bottom-color: var(--fill-color);\n",
              "    }\n",
              "  }\n",
              "</style>\n",
              "\n",
              "  <script>\n",
              "    async function quickchart(key) {\n",
              "      const quickchartButtonEl =\n",
              "        document.querySelector('#' + key + ' button');\n",
              "      quickchartButtonEl.disabled = true;  // To prevent multiple clicks.\n",
              "      quickchartButtonEl.classList.add('colab-df-spinner');\n",
              "      try {\n",
              "        const charts = await google.colab.kernel.invokeFunction(\n",
              "            'suggestCharts', [key], {});\n",
              "      } catch (error) {\n",
              "        console.error('Error during call to suggestCharts:', error);\n",
              "      }\n",
              "      quickchartButtonEl.classList.remove('colab-df-spinner');\n",
              "      quickchartButtonEl.classList.add('colab-df-quickchart-complete');\n",
              "    }\n",
              "    (() => {\n",
              "      let quickchartButtonEl =\n",
              "        document.querySelector('#df-482e742c-1c1c-445f-aa30-625e249d9a6c button');\n",
              "      quickchartButtonEl.style.display =\n",
              "        google.colab.kernel.accessAllowed ? 'block' : 'none';\n",
              "    })();\n",
              "  </script>\n",
              "</div>\n",
              "\n",
              "    </div>\n",
              "  </div>\n"
            ],
            "application/vnd.google.colaboratory.intrinsic+json": {
              "type": "dataframe",
              "summary": "{\n  \"name\": \"train_del_outlier\",\n  \"rows\": 8,\n  \"fields\": [\n    {\n      \"column\": \"\\ub300\\ucd9c\\uae08\\uc561\",\n      \"properties\": {\n        \"dtype\": \"number\",\n        \"std\": 13526522.04787402,\n        \"min\": 94095.0,\n        \"max\": 42000000.0,\n        \"num_unique_values\": 8,\n        \"samples\": [\n          18230645.305276584,\n          16800000.0,\n          94095.0\n        ],\n        \"semantic_type\": \"\",\n        \"description\": \"\"\n      }\n    },\n    {\n      \"column\": \"\\uc5f0\\uac04\\uc18c\\ub4dd\",\n      \"properties\": {\n        \"dtype\": \"number\",\n        \"std\": 191716451.05660442,\n        \"min\": 94095.0,\n        \"max\": 588000000.0,\n        \"num_unique_values\": 8,\n        \"samples\": [\n          91558770.58236888,\n          78000000.0,\n          94095.0\n        ],\n        \"semantic_type\": \"\",\n        \"description\": \"\"\n      }\n    },\n    {\n      \"column\": \"\\ubd80\\ucc44_\\ub300\\ube44_\\uc18c\\ub4dd_\\ube44\\uc728\",\n      \"properties\": {\n        \"dtype\": \"number\",\n        \"std\": 33257.00881651727,\n        \"min\": 0.0,\n        \"max\": 94095.0,\n        \"num_unique_values\": 8,\n        \"samples\": [\n          19.291554386524254,\n          18.77,\n          94095.0\n        ],\n        \"semantic_type\": \"\",\n        \"description\": \"\"\n      }\n    },\n    {\n      \"column\": \"\\ucd1d\\uacc4\\uc88c\\uc218\",\n      \"properties\": {\n        \"dtype\": \"number\",\n        \"std\": 33257.664579468044,\n        \"min\": 4.0,\n        \"max\": 94095.0,\n        \"num_unique_values\": 8,\n        \"samples\": [\n          25.136702268983473,\n          23.0,\n          94095.0\n        ],\n        \"semantic_type\": \"\",\n        \"description\": \"\"\n      }\n    },\n    {\n      \"column\": \"\\ucd5c\\uadfc_2\\ub144\\uac04_\\uc5f0\\uccb4_\\ud69f\\uc218\",\n      \"properties\": {\n        \"dtype\": \"number\",\n        \"std\": 33267.35592950306,\n        \"min\": 0.0,\n        \"max\": 94095.0,\n        \"num_unique_values\": 5,\n        \"samples\": [\n          0.2845528455284553,\n          4.0,\n          0.6728436163898415\n        ],\n        \"semantic_type\": \"\",\n        \"description\": \"\"\n      }\n    },\n    {\n      \"column\": \"\\ucd1d\\uc0c1\\ud658\\uc6d0\\uae08\",\n      \"properties\": {\n        \"dtype\": \"number\",\n        \"std\": 1958444.2953941205,\n        \"min\": 0.0,\n        \"max\": 5951148.0,\n        \"num_unique_values\": 8,\n        \"samples\": [\n          786580.8266539136,\n          594720.0,\n          94095.0\n        ],\n        \"semantic_type\": \"\",\n        \"description\": \"\"\n      }\n    },\n    {\n      \"column\": \"\\ucd1d\\uc0c1\\ud658\\uc774\\uc790\",\n      \"properties\": {\n        \"dtype\": \"number\",\n        \"std\": 854209.8627291723,\n        \"min\": 0.0,\n        \"max\": 2629008.0,\n        \"num_unique_values\": 8,\n        \"samples\": [\n          420083.06443487963,\n          285360.0,\n          94095.0\n        ],\n        \"semantic_type\": \"\",\n        \"description\": \"\"\n      }\n    },\n    {\n      \"column\": \"\\ucd1d\\uc5f0\\uccb4\\uae08\\uc561\",\n      \"properties\": {\n        \"dtype\": \"number\",\n        \"std\": 33029.92865726502,\n        \"min\": 0.0,\n        \"max\": 94095.0,\n        \"num_unique_values\": 5,\n        \"samples\": [\n          0.14028375577873425,\n          6000.0,\n          26.24220549720008\n        ],\n        \"semantic_type\": \"\",\n        \"description\": \"\"\n      }\n    },\n    {\n      \"column\": \"\\uc5f0\\uccb4\\uacc4\\uc88c\\uc218\",\n      \"properties\": {\n        \"dtype\": \"number\",\n        \"std\": 33267.60628787409,\n        \"min\": 0.0,\n        \"max\": 94095.0,\n        \"num_unique_values\": 2,\n        \"samples\": [\n          0.0,\n          94095.0\n        ],\n        \"semantic_type\": \"\",\n        \"description\": \"\"\n      }\n    }\n  ]\n}"
            }
          },
          "metadata": {},
          "execution_count": 37
        }
      ]
    },
    {
      "cell_type": "markdown",
      "source": [
        "위에서 확인했던 이상치가 없어졌다."
      ],
      "metadata": {
        "id": "drx56C-uCT0v"
      }
    },
    {
      "cell_type": "code",
      "source": [
        "over_index = train_del_outlier[train_del_outlier[\"부채_대비_소득_비율\"] > 100].index\n",
        "\n",
        "for index in over_index:\n",
        "    train_del_outlier.loc[index, \"부채_대비_소득_비율\"] = 101"
      ],
      "metadata": {
        "id": "r1ATIdii8IQ3"
      },
      "execution_count": 38,
      "outputs": []
    },
    {
      "cell_type": "code",
      "source": [
        "over_index_test = test[test[\"부채_대비_소득_비율\"] > 100].index\n",
        "\n",
        "for index in over_index_test:\n",
        "    test.loc[index, \"부채_대비_소득_비율\"] = 101"
      ],
      "metadata": {
        "id": "d-wOZ1d586H8"
      },
      "execution_count": 39,
      "outputs": []
    },
    {
      "cell_type": "markdown",
      "source": [
        "부채 대배 소득 비율이 100이상일때는 101로 통일"
      ],
      "metadata": {
        "id": "NJ17qWbj9Bwe"
      }
    },
    {
      "cell_type": "code",
      "source": [
        "index_to_test = test[test[\"연간소득\"] == 0].index\n",
        "\n",
        "for index in index_to_test:\n",
        "    test.loc[index, \"연간소득\"] = test.loc[index, \"대출금액\"] / (test.loc[index, \"부채_대비_소득_비율\"] / 100)"
      ],
      "metadata": {
        "id": "_TqmgnzHDjMm"
      },
      "execution_count": 40,
      "outputs": []
    },
    {
      "cell_type": "code",
      "source": [
        "# 의미가 겹치는 범주 같게 만들어주기\n",
        "train_del_outlier[\"근로기간\"] = train_del_outlier[\"근로기간\"].str.replace(\"years\", \"\").str.replace(\"year\", \"\")\n",
        "train_del_outlier[\"근로기간\"] = train_del_outlier[\"근로기간\"].str.replace(\" \", \"\")\n",
        "\n",
        "test[\"근로기간\"] = test[\"근로기간\"].str.replace(\"years\", \"\").str.replace(\"year\", \"\")\n",
        "test[\"근로기간\"] = test[\"근로기간\"].str.replace(\" \", \"\")"
      ],
      "metadata": {
        "id": "3b9fi6EUqdQl"
      },
      "execution_count": 41,
      "outputs": []
    },
    {
      "cell_type": "code",
      "source": [
        "# LabelEncoder 인스턴스 생성\n",
        "label_encoder = LabelEncoder()\n",
        "\n",
        "# 근로기간을 숫자 값으로 변환\n",
        "train_del_outlier[\"근로기간\"] = label_encoder.fit_transform(train_del_outlier[\"근로기간\"])\n",
        "test[\"근로기간\"] = label_encoder.transform(test[\"근로기간\"])\n",
        "\n",
        "# 대출기간을 숫자 값으로 변환\n",
        "train_del_outlier[\"대출기간\"] = label_encoder.fit_transform(train_del_outlier[\"대출기간\"])\n",
        "test[\"대출기간\"] = label_encoder.transform(test[\"대출기간\"])\n",
        "\n",
        "# 주택소유상태를 숫자 값으로 변환\n",
        "train_del_outlier[\"주택소유상태\"] = label_encoder.fit_transform(train_del_outlier[\"주택소유상태\"])\n",
        "test[\"주택소유상태\"] = label_encoder.transform(test[\"주택소유상태\"])"
      ],
      "metadata": {
        "id": "tXEFBJyQq-jE"
      },
      "execution_count": 42,
      "outputs": []
    },
    {
      "cell_type": "markdown",
      "source": [
        "근로기간, 대출기간, 주택소유상태 라벨 인코딩"
      ],
      "metadata": {
        "id": "7XyLGU-fn9ih"
      }
    },
    {
      "cell_type": "markdown",
      "source": [
        "### 특성 중요도 확인(RandomForest)"
      ],
      "metadata": {
        "id": "qQpjzKCVsrPG"
      }
    },
    {
      "cell_type": "code",
      "source": [
        "train_del_outlier.head()"
      ],
      "metadata": {
        "colab": {
          "base_uri": "https://localhost:8080/",
          "height": 206
        },
        "id": "gI3GQQ08C66J",
        "outputId": "c7211b81-865b-4e42-f5da-7542c382522b"
      },
      "execution_count": null,
      "outputs": [
        {
          "output_type": "execute_result",
          "data": {
            "text/plain": [
              "            ID      대출금액  대출기간  근로기간  주택소유상태       연간소득  부채_대비_소득_비율  총계좌수  \\\n",
              "0  TRAIN_00000  12480000     0     6       3   72000000        18.90  15.0   \n",
              "1  TRAIN_00001  14400000     1     1       1  130800000        22.33  21.0   \n",
              "2  TRAIN_00002  12000000     0     5       1   96000000         8.60  14.0   \n",
              "3  TRAIN_00003  14400000     0     8       1  132000000        15.09  15.0   \n",
              "4  TRAIN_00004  18000000     1    11       3   71736000        25.39  19.0   \n",
              "\n",
              "    대출목적  최근_2년간_연체_횟수     총상환원금     총상환이자  총연체금액  연체계좌수 대출등급  \n",
              "0  부채 통합           0.0       0.0       0.0    0.0    0.0    C  \n",
              "1  주택 개선           0.0  373572.0  234060.0    0.0    0.0    B  \n",
              "2  부채 통합           0.0  928644.0  151944.0    0.0    0.0    A  \n",
              "3  부채 통합           0.0  325824.0  153108.0    0.0    0.0    C  \n",
              "4  주요 구매           0.0  228540.0  148956.0    0.0    0.0    B  "
            ],
            "text/html": [
              "\n",
              "  <div id=\"df-de9f0a44-270c-4707-808a-861cd1306f1f\" class=\"colab-df-container\">\n",
              "    <div>\n",
              "<style scoped>\n",
              "    .dataframe tbody tr th:only-of-type {\n",
              "        vertical-align: middle;\n",
              "    }\n",
              "\n",
              "    .dataframe tbody tr th {\n",
              "        vertical-align: top;\n",
              "    }\n",
              "\n",
              "    .dataframe thead th {\n",
              "        text-align: right;\n",
              "    }\n",
              "</style>\n",
              "<table border=\"1\" class=\"dataframe\">\n",
              "  <thead>\n",
              "    <tr style=\"text-align: right;\">\n",
              "      <th></th>\n",
              "      <th>ID</th>\n",
              "      <th>대출금액</th>\n",
              "      <th>대출기간</th>\n",
              "      <th>근로기간</th>\n",
              "      <th>주택소유상태</th>\n",
              "      <th>연간소득</th>\n",
              "      <th>부채_대비_소득_비율</th>\n",
              "      <th>총계좌수</th>\n",
              "      <th>대출목적</th>\n",
              "      <th>최근_2년간_연체_횟수</th>\n",
              "      <th>총상환원금</th>\n",
              "      <th>총상환이자</th>\n",
              "      <th>총연체금액</th>\n",
              "      <th>연체계좌수</th>\n",
              "      <th>대출등급</th>\n",
              "    </tr>\n",
              "  </thead>\n",
              "  <tbody>\n",
              "    <tr>\n",
              "      <th>0</th>\n",
              "      <td>TRAIN_00000</td>\n",
              "      <td>12480000</td>\n",
              "      <td>0</td>\n",
              "      <td>6</td>\n",
              "      <td>3</td>\n",
              "      <td>72000000</td>\n",
              "      <td>18.90</td>\n",
              "      <td>15.0</td>\n",
              "      <td>부채 통합</td>\n",
              "      <td>0.0</td>\n",
              "      <td>0.0</td>\n",
              "      <td>0.0</td>\n",
              "      <td>0.0</td>\n",
              "      <td>0.0</td>\n",
              "      <td>C</td>\n",
              "    </tr>\n",
              "    <tr>\n",
              "      <th>1</th>\n",
              "      <td>TRAIN_00001</td>\n",
              "      <td>14400000</td>\n",
              "      <td>1</td>\n",
              "      <td>1</td>\n",
              "      <td>1</td>\n",
              "      <td>130800000</td>\n",
              "      <td>22.33</td>\n",
              "      <td>21.0</td>\n",
              "      <td>주택 개선</td>\n",
              "      <td>0.0</td>\n",
              "      <td>373572.0</td>\n",
              "      <td>234060.0</td>\n",
              "      <td>0.0</td>\n",
              "      <td>0.0</td>\n",
              "      <td>B</td>\n",
              "    </tr>\n",
              "    <tr>\n",
              "      <th>2</th>\n",
              "      <td>TRAIN_00002</td>\n",
              "      <td>12000000</td>\n",
              "      <td>0</td>\n",
              "      <td>5</td>\n",
              "      <td>1</td>\n",
              "      <td>96000000</td>\n",
              "      <td>8.60</td>\n",
              "      <td>14.0</td>\n",
              "      <td>부채 통합</td>\n",
              "      <td>0.0</td>\n",
              "      <td>928644.0</td>\n",
              "      <td>151944.0</td>\n",
              "      <td>0.0</td>\n",
              "      <td>0.0</td>\n",
              "      <td>A</td>\n",
              "    </tr>\n",
              "    <tr>\n",
              "      <th>3</th>\n",
              "      <td>TRAIN_00003</td>\n",
              "      <td>14400000</td>\n",
              "      <td>0</td>\n",
              "      <td>8</td>\n",
              "      <td>1</td>\n",
              "      <td>132000000</td>\n",
              "      <td>15.09</td>\n",
              "      <td>15.0</td>\n",
              "      <td>부채 통합</td>\n",
              "      <td>0.0</td>\n",
              "      <td>325824.0</td>\n",
              "      <td>153108.0</td>\n",
              "      <td>0.0</td>\n",
              "      <td>0.0</td>\n",
              "      <td>C</td>\n",
              "    </tr>\n",
              "    <tr>\n",
              "      <th>4</th>\n",
              "      <td>TRAIN_00004</td>\n",
              "      <td>18000000</td>\n",
              "      <td>1</td>\n",
              "      <td>11</td>\n",
              "      <td>3</td>\n",
              "      <td>71736000</td>\n",
              "      <td>25.39</td>\n",
              "      <td>19.0</td>\n",
              "      <td>주요 구매</td>\n",
              "      <td>0.0</td>\n",
              "      <td>228540.0</td>\n",
              "      <td>148956.0</td>\n",
              "      <td>0.0</td>\n",
              "      <td>0.0</td>\n",
              "      <td>B</td>\n",
              "    </tr>\n",
              "  </tbody>\n",
              "</table>\n",
              "</div>\n",
              "    <div class=\"colab-df-buttons\">\n",
              "\n",
              "  <div class=\"colab-df-container\">\n",
              "    <button class=\"colab-df-convert\" onclick=\"convertToInteractive('df-de9f0a44-270c-4707-808a-861cd1306f1f')\"\n",
              "            title=\"Convert this dataframe to an interactive table.\"\n",
              "            style=\"display:none;\">\n",
              "\n",
              "  <svg xmlns=\"http://www.w3.org/2000/svg\" height=\"24px\" viewBox=\"0 -960 960 960\">\n",
              "    <path d=\"M120-120v-720h720v720H120Zm60-500h600v-160H180v160Zm220 220h160v-160H400v160Zm0 220h160v-160H400v160ZM180-400h160v-160H180v160Zm440 0h160v-160H620v160ZM180-180h160v-160H180v160Zm440 0h160v-160H620v160Z\"/>\n",
              "  </svg>\n",
              "    </button>\n",
              "\n",
              "  <style>\n",
              "    .colab-df-container {\n",
              "      display:flex;\n",
              "      gap: 12px;\n",
              "    }\n",
              "\n",
              "    .colab-df-convert {\n",
              "      background-color: #E8F0FE;\n",
              "      border: none;\n",
              "      border-radius: 50%;\n",
              "      cursor: pointer;\n",
              "      display: none;\n",
              "      fill: #1967D2;\n",
              "      height: 32px;\n",
              "      padding: 0 0 0 0;\n",
              "      width: 32px;\n",
              "    }\n",
              "\n",
              "    .colab-df-convert:hover {\n",
              "      background-color: #E2EBFA;\n",
              "      box-shadow: 0px 1px 2px rgba(60, 64, 67, 0.3), 0px 1px 3px 1px rgba(60, 64, 67, 0.15);\n",
              "      fill: #174EA6;\n",
              "    }\n",
              "\n",
              "    .colab-df-buttons div {\n",
              "      margin-bottom: 4px;\n",
              "    }\n",
              "\n",
              "    [theme=dark] .colab-df-convert {\n",
              "      background-color: #3B4455;\n",
              "      fill: #D2E3FC;\n",
              "    }\n",
              "\n",
              "    [theme=dark] .colab-df-convert:hover {\n",
              "      background-color: #434B5C;\n",
              "      box-shadow: 0px 1px 3px 1px rgba(0, 0, 0, 0.15);\n",
              "      filter: drop-shadow(0px 1px 2px rgba(0, 0, 0, 0.3));\n",
              "      fill: #FFFFFF;\n",
              "    }\n",
              "  </style>\n",
              "\n",
              "    <script>\n",
              "      const buttonEl =\n",
              "        document.querySelector('#df-de9f0a44-270c-4707-808a-861cd1306f1f button.colab-df-convert');\n",
              "      buttonEl.style.display =\n",
              "        google.colab.kernel.accessAllowed ? 'block' : 'none';\n",
              "\n",
              "      async function convertToInteractive(key) {\n",
              "        const element = document.querySelector('#df-de9f0a44-270c-4707-808a-861cd1306f1f');\n",
              "        const dataTable =\n",
              "          await google.colab.kernel.invokeFunction('convertToInteractive',\n",
              "                                                    [key], {});\n",
              "        if (!dataTable) return;\n",
              "\n",
              "        const docLinkHtml = 'Like what you see? Visit the ' +\n",
              "          '<a target=\"_blank\" href=https://colab.research.google.com/notebooks/data_table.ipynb>data table notebook</a>'\n",
              "          + ' to learn more about interactive tables.';\n",
              "        element.innerHTML = '';\n",
              "        dataTable['output_type'] = 'display_data';\n",
              "        await google.colab.output.renderOutput(dataTable, element);\n",
              "        const docLink = document.createElement('div');\n",
              "        docLink.innerHTML = docLinkHtml;\n",
              "        element.appendChild(docLink);\n",
              "      }\n",
              "    </script>\n",
              "  </div>\n",
              "\n",
              "\n",
              "<div id=\"df-14ac7574-203e-4568-8b17-7613f0e2e842\">\n",
              "  <button class=\"colab-df-quickchart\" onclick=\"quickchart('df-14ac7574-203e-4568-8b17-7613f0e2e842')\"\n",
              "            title=\"Suggest charts\"\n",
              "            style=\"display:none;\">\n",
              "\n",
              "<svg xmlns=\"http://www.w3.org/2000/svg\" height=\"24px\"viewBox=\"0 0 24 24\"\n",
              "     width=\"24px\">\n",
              "    <g>\n",
              "        <path d=\"M19 3H5c-1.1 0-2 .9-2 2v14c0 1.1.9 2 2 2h14c1.1 0 2-.9 2-2V5c0-1.1-.9-2-2-2zM9 17H7v-7h2v7zm4 0h-2V7h2v10zm4 0h-2v-4h2v4z\"/>\n",
              "    </g>\n",
              "</svg>\n",
              "  </button>\n",
              "\n",
              "<style>\n",
              "  .colab-df-quickchart {\n",
              "      --bg-color: #E8F0FE;\n",
              "      --fill-color: #1967D2;\n",
              "      --hover-bg-color: #E2EBFA;\n",
              "      --hover-fill-color: #174EA6;\n",
              "      --disabled-fill-color: #AAA;\n",
              "      --disabled-bg-color: #DDD;\n",
              "  }\n",
              "\n",
              "  [theme=dark] .colab-df-quickchart {\n",
              "      --bg-color: #3B4455;\n",
              "      --fill-color: #D2E3FC;\n",
              "      --hover-bg-color: #434B5C;\n",
              "      --hover-fill-color: #FFFFFF;\n",
              "      --disabled-bg-color: #3B4455;\n",
              "      --disabled-fill-color: #666;\n",
              "  }\n",
              "\n",
              "  .colab-df-quickchart {\n",
              "    background-color: var(--bg-color);\n",
              "    border: none;\n",
              "    border-radius: 50%;\n",
              "    cursor: pointer;\n",
              "    display: none;\n",
              "    fill: var(--fill-color);\n",
              "    height: 32px;\n",
              "    padding: 0;\n",
              "    width: 32px;\n",
              "  }\n",
              "\n",
              "  .colab-df-quickchart:hover {\n",
              "    background-color: var(--hover-bg-color);\n",
              "    box-shadow: 0 1px 2px rgba(60, 64, 67, 0.3), 0 1px 3px 1px rgba(60, 64, 67, 0.15);\n",
              "    fill: var(--button-hover-fill-color);\n",
              "  }\n",
              "\n",
              "  .colab-df-quickchart-complete:disabled,\n",
              "  .colab-df-quickchart-complete:disabled:hover {\n",
              "    background-color: var(--disabled-bg-color);\n",
              "    fill: var(--disabled-fill-color);\n",
              "    box-shadow: none;\n",
              "  }\n",
              "\n",
              "  .colab-df-spinner {\n",
              "    border: 2px solid var(--fill-color);\n",
              "    border-color: transparent;\n",
              "    border-bottom-color: var(--fill-color);\n",
              "    animation:\n",
              "      spin 1s steps(1) infinite;\n",
              "  }\n",
              "\n",
              "  @keyframes spin {\n",
              "    0% {\n",
              "      border-color: transparent;\n",
              "      border-bottom-color: var(--fill-color);\n",
              "      border-left-color: var(--fill-color);\n",
              "    }\n",
              "    20% {\n",
              "      border-color: transparent;\n",
              "      border-left-color: var(--fill-color);\n",
              "      border-top-color: var(--fill-color);\n",
              "    }\n",
              "    30% {\n",
              "      border-color: transparent;\n",
              "      border-left-color: var(--fill-color);\n",
              "      border-top-color: var(--fill-color);\n",
              "      border-right-color: var(--fill-color);\n",
              "    }\n",
              "    40% {\n",
              "      border-color: transparent;\n",
              "      border-right-color: var(--fill-color);\n",
              "      border-top-color: var(--fill-color);\n",
              "    }\n",
              "    60% {\n",
              "      border-color: transparent;\n",
              "      border-right-color: var(--fill-color);\n",
              "    }\n",
              "    80% {\n",
              "      border-color: transparent;\n",
              "      border-right-color: var(--fill-color);\n",
              "      border-bottom-color: var(--fill-color);\n",
              "    }\n",
              "    90% {\n",
              "      border-color: transparent;\n",
              "      border-bottom-color: var(--fill-color);\n",
              "    }\n",
              "  }\n",
              "</style>\n",
              "\n",
              "  <script>\n",
              "    async function quickchart(key) {\n",
              "      const quickchartButtonEl =\n",
              "        document.querySelector('#' + key + ' button');\n",
              "      quickchartButtonEl.disabled = true;  // To prevent multiple clicks.\n",
              "      quickchartButtonEl.classList.add('colab-df-spinner');\n",
              "      try {\n",
              "        const charts = await google.colab.kernel.invokeFunction(\n",
              "            'suggestCharts', [key], {});\n",
              "      } catch (error) {\n",
              "        console.error('Error during call to suggestCharts:', error);\n",
              "      }\n",
              "      quickchartButtonEl.classList.remove('colab-df-spinner');\n",
              "      quickchartButtonEl.classList.add('colab-df-quickchart-complete');\n",
              "    }\n",
              "    (() => {\n",
              "      let quickchartButtonEl =\n",
              "        document.querySelector('#df-14ac7574-203e-4568-8b17-7613f0e2e842 button');\n",
              "      quickchartButtonEl.style.display =\n",
              "        google.colab.kernel.accessAllowed ? 'block' : 'none';\n",
              "    })();\n",
              "  </script>\n",
              "</div>\n",
              "\n",
              "    </div>\n",
              "  </div>\n"
            ],
            "application/vnd.google.colaboratory.intrinsic+json": {
              "type": "dataframe",
              "variable_name": "train_del_outlier",
              "summary": "{\n  \"name\": \"train_del_outlier\",\n  \"rows\": 88499,\n  \"fields\": [\n    {\n      \"column\": \"ID\",\n      \"properties\": {\n        \"dtype\": \"string\",\n        \"num_unique_values\": 88499,\n        \"samples\": [\n          \"TRAIN_65960\",\n          \"TRAIN_61315\",\n          \"TRAIN_41962\"\n        ],\n        \"semantic_type\": \"\",\n        \"description\": \"\"\n      }\n    },\n    {\n      \"column\": \"\\ub300\\ucd9c\\uae08\\uc561\",\n      \"properties\": {\n        \"dtype\": \"number\",\n        \"std\": 10326797,\n        \"min\": 1200000,\n        \"max\": 42000000,\n        \"num_unique_values\": 1339,\n        \"samples\": [\n          29100000,\n          21870000,\n          1320000\n        ],\n        \"semantic_type\": \"\",\n        \"description\": \"\"\n      }\n    },\n    {\n      \"column\": \"\\ub300\\ucd9c\\uae30\\uac04\",\n      \"properties\": {\n        \"dtype\": \"number\",\n        \"std\": 0,\n        \"min\": 0,\n        \"max\": 1,\n        \"num_unique_values\": 2,\n        \"samples\": [\n          1,\n          0\n        ],\n        \"semantic_type\": \"\",\n        \"description\": \"\"\n      }\n    },\n    {\n      \"column\": \"\\uadfc\\ub85c\\uae30\\uac04\",\n      \"properties\": {\n        \"dtype\": \"number\",\n        \"std\": 3,\n        \"min\": 0,\n        \"max\": 11,\n        \"num_unique_values\": 12,\n        \"samples\": [\n          4,\n          7\n        ],\n        \"semantic_type\": \"\",\n        \"description\": \"\"\n      }\n    },\n    {\n      \"column\": \"\\uc8fc\\ud0dd\\uc18c\\uc720\\uc0c1\\ud0dc\",\n      \"properties\": {\n        \"dtype\": \"number\",\n        \"std\": 0,\n        \"min\": 0,\n        \"max\": 3,\n        \"num_unique_values\": 4,\n        \"samples\": [\n          1,\n          0\n        ],\n        \"semantic_type\": \"\",\n        \"description\": \"\"\n      }\n    },\n    {\n      \"column\": \"\\uc5f0\\uac04\\uc18c\\ub4dd\",\n      \"properties\": {\n        \"dtype\": \"number\",\n        \"std\": 55550177,\n        \"min\": 6000000,\n        \"max\": 600000000,\n        \"num_unique_values\": 7199,\n        \"samples\": [\n          76602000,\n          24240000\n        ],\n        \"semantic_type\": \"\",\n        \"description\": \"\"\n      }\n    },\n    {\n      \"column\": \"\\ubd80\\ucc44_\\ub300\\ube44_\\uc18c\\ub4dd_\\ube44\\uc728\",\n      \"properties\": {\n        \"dtype\": \"number\",\n        \"std\": 8.726660524896065,\n        \"min\": 0.0,\n        \"max\": 125.25,\n        \"num_unique_values\": 4013,\n        \"samples\": [\n          1.65,\n          24.93\n        ],\n        \"semantic_type\": \"\",\n        \"description\": \"\"\n      }\n    },\n    {\n      \"column\": \"\\ucd1d\\uacc4\\uc88c\\uc218\",\n      \"properties\": {\n        \"dtype\": \"number\",\n        \"std\": 12.077574825618013,\n        \"min\": 4.0,\n        \"max\": 169.0,\n        \"num_unique_values\": 107,\n        \"samples\": [\n          75.0,\n          24.0\n        ],\n        \"semantic_type\": \"\",\n        \"description\": \"\"\n      }\n    },\n    {\n      \"column\": \"\\ub300\\ucd9c\\ubaa9\\uc801\",\n      \"properties\": {\n        \"dtype\": \"category\",\n        \"num_unique_values\": 12,\n        \"samples\": [\n          \"\\uc8fc\\ud0dd\",\n          \"\\uc774\\uc0ac\"\n        ],\n        \"semantic_type\": \"\",\n        \"description\": \"\"\n      }\n    },\n    {\n      \"column\": \"\\ucd5c\\uadfc_2\\ub144\\uac04_\\uc5f0\\uccb4_\\ud69f\\uc218\",\n      \"properties\": {\n        \"dtype\": \"number\",\n        \"std\": 0.9195560452978273,\n        \"min\": 0.0,\n        \"max\": 30.0,\n        \"num_unique_values\": 20,\n        \"samples\": [\n          0.0,\n          17.0\n        ],\n        \"semantic_type\": \"\",\n        \"description\": \"\"\n      }\n    },\n    {\n      \"column\": \"\\ucd1d\\uc0c1\\ud658\\uc6d0\\uae08\",\n      \"properties\": {\n        \"dtype\": \"number\",\n        \"std\": 1027871.3059725298,\n        \"min\": 0.0,\n        \"max\": 41955936.0,\n        \"num_unique_values\": 26343,\n        \"samples\": [\n          1508556.0,\n          773052.0\n        ],\n        \"semantic_type\": \"\",\n        \"description\": \"\"\n      }\n    },\n    {\n      \"column\": \"\\ucd1d\\uc0c1\\ud658\\uc774\\uc790\",\n      \"properties\": {\n        \"dtype\": \"number\",\n        \"std\": 440079.5680406232,\n        \"min\": 0.0,\n        \"max\": 5653416.0,\n        \"num_unique_values\": 33806,\n        \"samples\": [\n          641052.0,\n          2620320.0\n        ],\n        \"semantic_type\": \"\",\n        \"description\": \"\"\n      }\n    },\n    {\n      \"column\": \"\\ucd1d\\uc5f0\\uccb4\\uae08\\uc561\",\n      \"properties\": {\n        \"dtype\": \"number\",\n        \"std\": 1393.7865716464885,\n        \"min\": 0.0,\n        \"max\": 75768.0,\n        \"num_unique_values\": 96,\n        \"samples\": [\n          59184.0,\n          72864.0\n        ],\n        \"semantic_type\": \"\",\n        \"description\": \"\"\n      }\n    },\n    {\n      \"column\": \"\\uc5f0\\uccb4\\uacc4\\uc88c\\uc218\",\n      \"properties\": {\n        \"dtype\": \"number\",\n        \"std\": 0.07969351366997836,\n        \"min\": 0.0,\n        \"max\": 4.0,\n        \"num_unique_values\": 4,\n        \"samples\": [\n          1.0,\n          4.0\n        ],\n        \"semantic_type\": \"\",\n        \"description\": \"\"\n      }\n    },\n    {\n      \"column\": \"\\ub300\\ucd9c\\ub4f1\\uae09\",\n      \"properties\": {\n        \"dtype\": \"category\",\n        \"num_unique_values\": 7,\n        \"samples\": [\n          \"C\",\n          \"B\"\n        ],\n        \"semantic_type\": \"\",\n        \"description\": \"\"\n      }\n    }\n  ]\n}"
            }
          },
          "metadata": {},
          "execution_count": 20
        }
      ]
    },
    {
      "cell_type": "code",
      "source": [
        "# 바이너리 인코딩\n",
        "# 대출목적의 경우 항목이 너무 다양하고, 라벨 인코딩이 적합하지 않다고 판단되서 바이너리 인코딩을 진행\n",
        "train_ex = train_del_outlier.copy()\n",
        "test_ex = test.copy()\n",
        "\n",
        "# Creating a BinaryEncoder instances\n",
        "encoder = ce.BinaryEncoder(cols=['대출목적'])\n",
        "\n",
        "# Fitting and transforming the 'occupation' column\n",
        "train_encoded = encoder.fit_transform(train_ex['대출목적'])\n",
        "test_encoded = encoder.transform(test_ex['대출목적'])\n",
        "\n",
        "encoded_train_columns = train_encoded.columns\n",
        "encoded_test_columns = test_encoded.columns\n",
        "\n",
        "# Creating a DataFrame from the binary encoded data\n",
        "train_encoded_df = pd.DataFrame(train_encoded, columns=encoded_train_columns)\n",
        "test_encoded_df = pd.DataFrame(test_encoded, columns=encoded_test_columns)\n",
        "train_del_outlier = pd.concat([train_del_outlier, train_encoded_df], axis=1).drop(['대출목적'], axis=1)\n",
        "test = pd.concat([test, test_encoded_df], axis=1).drop(['대출목적'], axis=1)"
      ],
      "metadata": {
        "id": "rX-phvyDEz4O"
      },
      "execution_count": null,
      "outputs": []
    },
    {
      "cell_type": "code",
      "source": [
        "from sklearn.ensemble import RandomForestClassifier\n",
        "\n",
        "train_x = train_del_outlier.drop([\"대출등급\", \"ID\"], axis=1)\n",
        "train_y = train_del_outlier[\"대출등급\"]\n",
        "\n",
        "test_x = test.drop(\"ID\", axis=1)\n",
        "\n",
        "# RandomForestClassifier 모델 생성\n",
        "model = RandomForestClassifier(random_state=42)\n",
        "\n",
        "# 모델 학습\n",
        "model.fit(train_x, train_y)\n",
        "\n",
        "# 예측\n",
        "y_pred = model.predict(test_x)"
      ],
      "metadata": {
        "id": "YuVfQSJ6EMCl"
      },
      "execution_count": null,
      "outputs": []
    },
    {
      "cell_type": "code",
      "source": [
        "# 피처 중요도 추출\n",
        "importances = model.feature_importances_\n",
        "feature_names = train_x.columns\n",
        "\n",
        "plt.figure(figsize=(10, 6))\n",
        "plt.title(\"Feature Importances\")\n",
        "plt.barh(feature_names, importances, color=\"b\")\n",
        "plt.xlabel(\"Importance\")\n",
        "plt.ylabel(\"Features\")\n",
        "plt.tight_layout()\n",
        "plt.show()"
      ],
      "metadata": {
        "colab": {
          "base_uri": "https://localhost:8080/",
          "height": 607
        },
        "id": "0fS0KEtWF47q",
        "outputId": "a84ceeaf-7656-4ab7-c4c8-417917c7f1a7"
      },
      "execution_count": null,
      "outputs": [
        {
          "output_type": "display_data",
          "data": {
            "text/plain": [
              "<Figure size 1000x600 with 1 Axes>"
            ],
            "image/png": "[encoded data removed]"
          },
          "metadata": {}
        }
      ]
    },
    {
      "cell_type": "markdown",
      "source": [
        "### 파생변수 생성과 변수선택"
      ],
      "metadata": {
        "id": "nQFmBo1uLaGZ"
      }
    },
    {
      "cell_type": "code",
      "execution_count": 44,
      "metadata": {
        "id": "Mj2jBOB8e1nh"
      },
      "outputs": [],
      "source": [
        "# train 특성엔지니어링\n",
        "train_del_outlier[\"월_대출금액\"] = round(train_del_outlier[\"대출금액\"] / train_del_outlier[\"대출기간\"],1)\n",
        "train_del_outlier[\"월_대출대비_소득비율\"] = round((train_del_outlier[\"연간소득\"]/12)/train_del_outlier[\"월_대출금액\"],1)\n",
        "\n",
        "train_del_outlier[\"대출금액_총상환이자_비율\"] = np.where(train_del_outlier[\"총상환이자\"] == 0, np.nan, train_del_outlier[\"대출금액\"] / train_del_outlier[\"총상환이자\"])\n",
        "train_del_outlier[\"대출금액_총상환이자_비율\"].fillna(0, inplace=True)\n",
        "\n",
        "train_del_outlier[\"대출금액_총상환원금_비율\"] = np.where(train_del_outlier[\"총상환원금\"] == 0, np.nan, train_del_outlier[\"대출금액\"] / train_del_outlier[\"총상환원금\"])\n",
        "train_del_outlier[\"대출금액_총상환원금_비율\"].fillna(0, inplace=True)\n",
        "\n",
        "train_del_outlier[\"상환이자_상환원금\"] = train_del_outlier.apply(lambda x : 0 if x[\"총상환이자\"] == x[\"총상환원금\"] else (1 if x[\"총상환이자\"] > x[\"총상환원금\"] else 2), axis=1)\n",
        "\n",
        "train_del_outlier[\"총연체금액\"] = train_del_outlier[\"총연체금액\"].apply(lambda x: 1 if x > 0 else 0)\n",
        "\n",
        "train_del_outlier[\"총상환액\"] = train_del_outlier[\"총상환원금\"] + train_del_outlier[\"총상환이자\"]\n",
        "\n",
        "train_del_outlier[\"소득대비_총상환액_비율\"] = train_del_outlier[\"총상환액\"] / train_del_outlier[\"연간소득\"]\n",
        "train_del_outlier[\"대출대비_총상환액_비율\"] = train_del_outlier[\"총상환액\"] / train_del_outlier[\"대출금액\"]\n",
        "\n",
        "train_del_outlier[\"대출대비_총상환원금_비율\"] = train_del_outlier[\"총상환원금\"] / train_del_outlier[\"대출금액\"]\n",
        "train_del_outlier[\"대출대비_총상환이자_비율\"] = train_del_outlier[\"총상환이자\"] / train_del_outlier[\"대출금액\"]\n",
        "\n",
        "train_del_outlier[\"소득대비_총상환원금_비율\"] = train_del_outlier[\"총상환원금\"] / train_del_outlier[\"연간소득\"]\n",
        "train_del_outlier[\"소득대비_총상환이자_비율\"] = train_del_outlier[\"총상환이자\"] / train_del_outlier[\"연간소득\"]\n",
        "\n",
        "# -------------------------------------------------------------------------------------------------------------------------------------------------\n",
        "# test 특성엔지니어링\n",
        "test[\"월_대출금액\"] = round(test[\"대출금액\"] / test[\"대출기간\"],1)\n",
        "test[\"월_대출대비_소득비율\"] = round((test[\"연간소득\"]/12)/test[\"월_대출금액\"],1)\n",
        "\n",
        "test[\"대출금액_총상환이자_비율\"] = np.where(test[\"총상환이자\"] == 0, np.nan, test[\"대출금액\"] / test[\"총상환이자\"])\n",
        "test[\"대출금액_총상환이자_비율\"].fillna(0, inplace=True)\n",
        "\n",
        "test[\"대출금액_총상환원금_비율\"] = np.where(test[\"총상환원금\"] == 0, np.nan, test[\"대출금액\"] / test[\"총상환원금\"])\n",
        "test[\"대출금액_총상환원금_비율\"].fillna(0, inplace=True)\n",
        "\n",
        "test[\"상환이자_상환원금\"] = test.apply(lambda x : 0 if x[\"총상환이자\"] == x[\"총상환원금\"] else (1 if x[\"총상환이자\"] > x[\"총상환원금\"] else 2), axis=1)\n",
        "\n",
        "test[\"총연체금액\"] = test[\"총연체금액\"].apply(lambda x: 1 if x > 0 else 0)\n",
        "\n",
        "test[\"총상환액\"] = test[\"총상환원금\"] + test[\"총상환이자\"]\n",
        "\n",
        "test[\"소득대비_총상환액_비율\"] = test[\"총상환액\"] / test[\"연간소득\"]\n",
        "test[\"대출대비_총상환액_비율\"] = test[\"총상환액\"] / test[\"대출금액\"]\n",
        "\n",
        "test[\"대출대비_총상환원금_비율\"] = test[\"총상환원금\"] / test[\"대출금액\"]\n",
        "test[\"대출대비_총상환이자_비율\"] = test[\"총상환이자\"] / test[\"대출금액\"]\n",
        "\n",
        "test[\"소득대비_총상환원금_비율\"] = test[\"총상환원금\"] / test[\"연간소득\"]\n",
        "test[\"소득대비_총상환이자_비율\"] = test[\"총상환이자\"] / test[\"연간소득\"]"
      ]
    },
    {
      "cell_type": "code",
      "execution_count": 45,
      "metadata": {
        "id": "qQk0hzFOe1nh"
      },
      "outputs": [],
      "source": [
        "# 필요없는 속성 삭제\n",
        "train_del_outlier.drop([\"월_대출금액\"], axis=1, inplace=True)\n",
        "test.drop([\"월_대출금액\"], axis=1, inplace=True)"
      ]
    },
    {
      "cell_type": "code",
      "execution_count": 46,
      "metadata": {
        "id": "NZ-aGpmSe1nh"
      },
      "outputs": [],
      "source": [
        "# 바이너리 인코딩\n",
        "# 대출목적의 경우 항목이 너무 다양하고, 라벨 인코딩이 적합하지 않다고 판단되서 바이너리 인코딩을 진행\n",
        "train_ex = train_del_outlier.copy()\n",
        "test_ex = test.copy()\n",
        "\n",
        "# Creating a BinaryEncoder instances\n",
        "encoder = ce.BinaryEncoder(cols=['대출목적'])\n",
        "\n",
        "# Fitting and transforming the 'occupation' column\n",
        "train_encoded = encoder.fit_transform(train_ex['대출목적'])\n",
        "test_encoded = encoder.transform(test_ex['대출목적'])\n",
        "\n",
        "encoded_train_columns = train_encoded.columns\n",
        "encoded_test_columns = test_encoded.columns\n",
        "\n",
        "# Creating a DataFrame from the binary encoded data\n",
        "train_encoded_df = pd.DataFrame(train_encoded, columns=encoded_train_columns)\n",
        "test_encoded_df = pd.DataFrame(test_encoded, columns=encoded_test_columns)\n",
        "train_del_outlier = pd.concat([train_del_outlier, train_encoded_df], axis=1).drop(['대출목적'], axis=1)\n",
        "test = pd.concat([test, test_encoded_df], axis=1).drop(['대출목적'], axis=1)"
      ]
    },
    {
      "cell_type": "code",
      "source": [
        "# # 너무 큰 값이나 무한대 확인\n",
        "# max_values = train_del_outlier.apply(pd.to_numeric, errors='coerce').max()\n",
        "# min_values = train_del_outlier.apply(pd.to_numeric, errors='coerce').min()\n",
        "\n",
        "# # 너무 큰 값이나 무한대가 있는지 여부 확인\n",
        "# large_values_mask = (max_values == np.inf) | (min_values == -np.inf) | (max_values > 1e15) | (min_values < -1e15)\n",
        "# large_values_columns = large_values_mask[large_values_mask].index.tolist()\n",
        "# if large_values_columns:\n",
        "#     print(\"너무 큰 값이나 무한대가 포함된 열:\", large_values_columns)\n",
        "\n",
        "# # 결측치 확인\n",
        "# missing_values = train_del_outlier.isnull().sum()\n",
        "# missing_values_columns = missing_values[missing_values > 0].index.tolist()\n",
        "# if missing_values_columns:\n",
        "#     print(\"결측치가 있는 열:\", missing_values_columns)"
      ],
      "metadata": {
        "id": "NPsbqoyTTX2A"
      },
      "execution_count": 47,
      "outputs": []
    },
    {
      "cell_type": "code",
      "source": [
        "train_x = train_del_outlier.drop([\"대출등급\", \"ID\"], axis=1)\n",
        "train_y = train_del_outlier[\"대출등급\"]\n",
        "\n",
        "test_x = test.drop(\"ID\", axis=1)\n",
        "\n",
        "# RandomForestClassifier 모델 생성\n",
        "model = RandomForestClassifier(random_state=42)\n",
        "\n",
        "step = 1\n",
        "min_features_to_select = 3\n",
        "selector = RFECV(model, step=step, cv=10, min_features_to_select=min_features_to_select)\n",
        "\n",
        "# 모델 학습\n",
        "selector.fit(train_x, train_y)"
      ],
      "metadata": {
        "colab": {
          "base_uri": "https://localhost:8080/",
          "height": 118
        },
        "id": "oZkNnajLQn7B",
        "outputId": "8ebbc481-aa46-41c5-8edd-374f7c55a222"
      },
      "execution_count": 48,
      "outputs": [
        {
          "output_type": "execute_result",
          "data": {
            "text/plain": [
              "RFECV(cv=10, estimator=RandomForestClassifier(random_state=42),\n",
              "      min_features_to_select=3)"
            ],
            "text/html": [
              "<style>#sk-container-id-1 {color: black;background-color: white;}#sk-container-id-1 pre{padding: 0;}#sk-container-id-1 div.sk-toggleable {background-color: white;}#sk-container-id-1 label.sk-toggleable__label {cursor: pointer;display: block;width: 100%;margin-bottom: 0;padding: 0.3em;box-sizing: border-box;text-align: center;}#sk-container-id-1 label.sk-toggleable__label-arrow:before {content: \"▸\";float: left;margin-right: 0.25em;color: #696969;}#sk-container-id-1 label.sk-toggleable__label-arrow:hover:before {color: black;}#sk-container-id-1 div.sk-estimator:hover label.sk-toggleable__label-arrow:before {color: black;}#sk-container-id-1 div.sk-toggleable__content {max-height: 0;max-width: 0;overflow: hidden;text-align: left;background-color: #f0f8ff;}#sk-container-id-1 div.sk-toggleable__content pre {margin: 0.2em;color: black;border-radius: 0.25em;background-color: #f0f8ff;}#sk-container-id-1 input.sk-toggleable__control:checked~div.sk-toggleable__content {max-height: 200px;max-width: 100%;overflow: auto;}#sk-container-id-1 input.sk-toggleable__control:checked~label.sk-toggleable__label-arrow:before {content: \"▾\";}#sk-container-id-1 div.sk-estimator input.sk-toggleable__control:checked~label.sk-toggleable__label {background-color: #d4ebff;}#sk-container-id-1 div.sk-label input.sk-toggleable__control:checked~label.sk-toggleable__label {background-color: #d4ebff;}#sk-container-id-1 input.sk-hidden--visually {border: 0;clip: rect(1px 1px 1px 1px);clip: rect(1px, 1px, 1px, 1px);height: 1px;margin: -1px;overflow: hidden;padding: 0;position: absolute;width: 1px;}#sk-container-id-1 div.sk-estimator {font-family: monospace;background-color: #f0f8ff;border: 1px dotted black;border-radius: 0.25em;box-sizing: border-box;margin-bottom: 0.5em;}#sk-container-id-1 div.sk-estimator:hover {background-color: #d4ebff;}#sk-container-id-1 div.sk-parallel-item::after {content: \"\";width: 100%;border-bottom: 1px solid gray;flex-grow: 1;}#sk-container-id-1 div.sk-label:hover label.sk-toggleable__label {background-color: #d4ebff;}#sk-container-id-1 div.sk-serial::before {content: \"\";position: absolute;border-left: 1px solid gray;box-sizing: border-box;top: 0;bottom: 0;left: 50%;z-index: 0;}#sk-container-id-1 div.sk-serial {display: flex;flex-direction: column;align-items: center;background-color: white;padding-right: 0.2em;padding-left: 0.2em;position: relative;}#sk-container-id-1 div.sk-item {position: relative;z-index: 1;}#sk-container-id-1 div.sk-parallel {display: flex;align-items: stretch;justify-content: center;background-color: white;position: relative;}#sk-container-id-1 div.sk-item::before, #sk-container-id-1 div.sk-parallel-item::before {content: \"\";position: absolute;border-left: 1px solid gray;box-sizing: border-box;top: 0;bottom: 0;left: 50%;z-index: -1;}#sk-container-id-1 div.sk-parallel-item {display: flex;flex-direction: column;z-index: 1;position: relative;background-color: white;}#sk-container-id-1 div.sk-parallel-item:first-child::after {align-self: flex-end;width: 50%;}#sk-container-id-1 div.sk-parallel-item:last-child::after {align-self: flex-start;width: 50%;}#sk-container-id-1 div.sk-parallel-item:only-child::after {width: 0;}#sk-container-id-1 div.sk-dashed-wrapped {border: 1px dashed gray;margin: 0 0.4em 0.5em 0.4em;box-sizing: border-box;padding-bottom: 0.4em;background-color: white;}#sk-container-id-1 div.sk-label label {font-family: monospace;font-weight: bold;display: inline-block;line-height: 1.2em;}#sk-container-id-1 div.sk-label-container {text-align: center;}#sk-container-id-1 div.sk-container {/* jupyter's `normalize.less` sets `[hidden] { display: none; }` but bootstrap.min.css set `[hidden] { display: none !important; }` so we also need the `!important` here to be able to override the default hidden behavior on the sphinx rendered scikit-learn.org. See: https://github.com/scikit-learn/scikit-learn/issues/21755 */display: inline-block !important;position: relative;}#sk-container-id-1 div.sk-text-repr-fallback {display: none;}</style><div id=\"sk-container-id-1\" class=\"sk-top-container\"><div class=\"sk-text-repr-fallback\"><pre>RFECV(cv=10, estimator=RandomForestClassifier(random_state=42),\n",
              "      min_features_to_select=3)</pre><b>In a Jupyter environment, please rerun this cell to show the HTML representation or trust the notebook. <br />On GitHub, the HTML representation is unable to render, please try loading this page with nbviewer.org.</b></div><div class=\"sk-container\" hidden><div class=\"sk-item sk-dashed-wrapped\"><div class=\"sk-label-container\"><div class=\"sk-label sk-toggleable\"><input class=\"sk-toggleable__control sk-hidden--visually\" id=\"sk-estimator-id-1\" type=\"checkbox\" ><label for=\"sk-estimator-id-1\" class=\"sk-toggleable__label sk-toggleable__label-arrow\">RFECV</label><div class=\"sk-toggleable__content\"><pre>RFECV(cv=10, estimator=RandomForestClassifier(random_state=42),\n",
              "      min_features_to_select=3)</pre></div></div></div><div class=\"sk-parallel\"><div class=\"sk-parallel-item\"><div class=\"sk-item\"><div class=\"sk-label-container\"><div class=\"sk-label sk-toggleable\"><input class=\"sk-toggleable__control sk-hidden--visually\" id=\"sk-estimator-id-2\" type=\"checkbox\" ><label for=\"sk-estimator-id-2\" class=\"sk-toggleable__label sk-toggleable__label-arrow\">estimator: RandomForestClassifier</label><div class=\"sk-toggleable__content\"><pre>RandomForestClassifier(random_state=42)</pre></div></div></div><div class=\"sk-serial\"><div class=\"sk-item\"><div class=\"sk-estimator sk-toggleable\"><input class=\"sk-toggleable__control sk-hidden--visually\" id=\"sk-estimator-id-3\" type=\"checkbox\" ><label for=\"sk-estimator-id-3\" class=\"sk-toggleable__label sk-toggleable__label-arrow\">RandomForestClassifier</label><div class=\"sk-toggleable__content\"><pre>RandomForestClassifier(random_state=42)</pre></div></div></div></div></div></div></div></div></div></div>"
            ]
          },
          "metadata": {},
          "execution_count": 48
        }
      ]
    },
    {
      "cell_type": "code",
      "source": [
        "plt.figure()\n",
        "plt.xlabel(\"Number of features selected\")\n",
        "plt.ylabel(\"Cross validation score (accuracy)\")\n",
        "plt.plot(\n",
        "    range(min_features_to_select, len(selector.cv_results_['mean_test_score']) * step + min_features_to_select, step),\n",
        "    selector.cv_results_['mean_test_score'],\n",
        ")\n",
        "plt.show()"
      ],
      "metadata": {
        "colab": {
          "base_uri": "https://localhost:8080/",
          "height": 447
        },
        "id": "AfM7PlwBpMC0",
        "outputId": "a91d73a7-a44c-4312-afb7-808362ae0730"
      },
      "execution_count": 49,
      "outputs": [
        {
          "output_type": "display_data",
          "data": {
            "text/plain": [
              "<Figure size 640x480 with 1 Axes>"
            ],
            "image/png": "[encoded data removed]"
          },
          "metadata": {}
        }
      ]
    },
    {
      "cell_type": "code",
      "source": [
        "selector.support_.sum()"
      ],
      "metadata": {
        "colab": {
          "base_uri": "https://localhost:8080/"
        },
        "id": "bud3YpzoSMiB",
        "outputId": "204138f4-af9c-4de9-a8f4-b42708fb970a"
      },
      "execution_count": 51,
      "outputs": [
        {
          "output_type": "execute_result",
          "data": {
            "text/plain": [
              "25"
            ]
          },
          "metadata": {},
          "execution_count": 51
        }
      ]
    },
    {
      "cell_type": "code",
      "source": [
        "# RFECV로 선택된 feature\n",
        "train_x.columns[selector.support_]"
      ],
      "metadata": {
        "colab": {
          "base_uri": "https://localhost:8080/"
        },
        "id": "m-YmEKe5pa5U",
        "outputId": "89b78f95-a883-4c51-a5ee-0d133d4a0d77"
      },
      "execution_count": 50,
      "outputs": [
        {
          "output_type": "execute_result",
          "data": {
            "text/plain": [
              "Index(['대출금액', '대출기간', '근로기간', '주택소유상태', '연간소득', '부채_대비_소득_비율', '총계좌수',\n",
              "       '최근_2년간_연체_횟수', '총상환원금', '총상환이자', '월_대출대비_소득비율', '대출금액_총상환이자_비율',\n",
              "       '대출금액_총상환원금_비율', '상환이자_상환원금', '총상환액', '소득대비_총상환액_비율', '대출대비_총상환액_비율',\n",
              "       '대출대비_총상환원금_비율', '대출대비_총상환이자_비율', '소득대비_총상환원금_비율', '소득대비_총상환이자_비율',\n",
              "       '대출목적_0', '대출목적_1', '대출목적_2', '대출목적_3'],\n",
              "      dtype='object')"
            ]
          },
          "metadata": {},
          "execution_count": 50
        }
      ]
    },
    {
      "cell_type": "markdown",
      "source": [
        "### 모델링 1"
      ],
      "metadata": {
        "id": "_MWKjSYLKHIX"
      }
    },
    {
      "cell_type": "code",
      "source": [
        "from sklearn.model_selection import KFold\n",
        "from sklearn.model_selection import cross_val_score, cross_validate\n",
        "from sklearn.metrics import make_scorer, f1_score\n",
        "\n",
        "new_train_x = train_del_outlier.drop(['ID', '대출등급', '총연체금액', '연체계좌수'], axis=1)\n",
        "new_train_y = train_del_outlier[\"대출등급\"]\n",
        "\n",
        "display(\"#######  교차 검증 성능  #########\")\n",
        "\n",
        "model = RandomForestClassifier(random_state = 42)\n",
        "\n",
        "kf = KFold(n_splits=5, shuffle=True, random_state=42)\n",
        "cv_result = cross_validate(model, new_train_x, new_train_y, cv=kf, scoring=make_scorer(f1_score, average='macro'))\n",
        "\n",
        "# 각 폴드의 Macro F1 score를 출력합니다\n",
        "for i, score in enumerate(cv_result[\"test_score\"]):\n",
        "    print(f\"Fold {i+1} - Macro F1 Score: {score}\")\n",
        "\n",
        "# 전체 교차 검증의 Macro F1 score를 출력합니다\n",
        "print(\"Average Macro F1 Score:\", cv_result[\"test_score\"].mean())"
      ],
      "metadata": {
        "colab": {
          "base_uri": "https://localhost:8080/",
          "height": 146
        },
        "id": "9y9_f6BcuMWc",
        "outputId": "c1eb99bf-b46b-4bc6-edea-dc42a573c6b0"
      },
      "execution_count": null,
      "outputs": [
        {
          "output_type": "display_data",
          "data": {
            "text/plain": [
              "'#######  교차 검증 성능  #########'"
            ],
            "application/vnd.google.colaboratory.intrinsic+json": {
              "type": "string"
            }
          },
          "metadata": {}
        },
        {
          "output_type": "stream",
          "name": "stdout",
          "text": [
            "Fold 1 - Macro F1 Score: 0.9494308431681862\n",
            "Fold 2 - Macro F1 Score: 0.9379038596824459\n",
            "Fold 3 - Macro F1 Score: 0.9421581707267236\n",
            "Fold 4 - Macro F1 Score: 0.9481490468234612\n",
            "Fold 5 - Macro F1 Score: 0.9385669491488989\n",
            "Average Macro F1 Score: 0.9432417739099431\n"
          ]
        }
      ]
    },
    {
      "cell_type": "code",
      "source": [
        "test_x.columns"
      ],
      "metadata": {
        "colab": {
          "base_uri": "https://localhost:8080/"
        },
        "id": "XK6HWaSLCIdf",
        "outputId": "834bc237-1d1f-42ca-f33f-0bd93c4106d7"
      },
      "execution_count": null,
      "outputs": [
        {
          "output_type": "execute_result",
          "data": {
            "text/plain": [
              "Index(['대출금액', '대출기간', '근로기간', '주택소유상태', '연간소득', '부채_대비_소득_비율', '총계좌수',\n",
              "       '최근_2년간_연체_횟수', '총상환원금', '총상환이자', '총연체금액', '연체계좌수', '월_대출대비_소득비율',\n",
              "       '대출금액_총상환이자_비율', '대출금액_총상환원금_비율', '상환이자_상환원금', '총상환액', '소득대비_총상환액_비율',\n",
              "       '대출대비_총상환액_비율', '대출대비_총상환원금_비율', '대출대비_총상환이자_비율', '소득대비_총상환원금_비율',\n",
              "       '소득대비_총상환이자_비율', '대출목적_0', '대출목적_1', '대출목적_2', '대출목적_3'],\n",
              "      dtype='object')"
            ]
          },
          "metadata": {},
          "execution_count": 73
        }
      ]
    },
    {
      "cell_type": "code",
      "source": [
        "from sklearn.ensemble import RandomForestClassifier\n",
        "\n",
        "new_train_x = train_del_outlier.drop(['ID', '대출등급', '총연체금액', '연체계좌수'], axis=1)\n",
        "new_train_y = train_del_outlier[\"대출등급\"]\n",
        "\n",
        "new_test_x = test.drop(['ID','총연체금액', '연체계좌수'], axis=1)\n",
        "\n",
        "# RandomForestClassifier 모델 생성\n",
        "model = RandomForestClassifier(random_state=42)\n",
        "\n",
        "# 모델 학습\n",
        "model.fit(new_train_x, new_train_y)\n",
        "\n",
        "# 예측\n",
        "y_pred = model.predict(new_test_x)"
      ],
      "metadata": {
        "id": "AQ-YojXNtvmJ"
      },
      "execution_count": null,
      "outputs": []
    },
    {
      "cell_type": "code",
      "source": [
        "submit.loc[:,\"대출등급\"] = y_pred\n",
        "submit"
      ],
      "metadata": {
        "colab": {
          "base_uri": "https://localhost:8080/",
          "height": 424
        },
        "id": "iuMTlgPSA47Z",
        "outputId": "2710ce21-040d-4b02-9c35-468f13b8f97d"
      },
      "execution_count": null,
      "outputs": [
        {
          "output_type": "execute_result",
          "data": {
            "text/plain": [
              "               ID 대출등급\n",
              "0      TEST_00000    B\n",
              "1      TEST_00001    B\n",
              "2      TEST_00002    A\n",
              "3      TEST_00003    C\n",
              "4      TEST_00004    C\n",
              "...           ...  ...\n",
              "64192  TEST_64192    D\n",
              "64193  TEST_64193    D\n",
              "64194  TEST_64194    D\n",
              "64195  TEST_64195    C\n",
              "64196  TEST_64196    A\n",
              "\n",
              "[64197 rows x 2 columns]"
            ],
            "text/html": [
              "\n",
              "  <div id=\"df-1b27e3f1-ac1f-4217-a294-dfe2bd90377a\" class=\"colab-df-container\">\n",
              "    <div>\n",
              "<style scoped>\n",
              "    .dataframe tbody tr th:only-of-type {\n",
              "        vertical-align: middle;\n",
              "    }\n",
              "\n",
              "    .dataframe tbody tr th {\n",
              "        vertical-align: top;\n",
              "    }\n",
              "\n",
              "    .dataframe thead th {\n",
              "        text-align: right;\n",
              "    }\n",
              "</style>\n",
              "<table border=\"1\" class=\"dataframe\">\n",
              "  <thead>\n",
              "    <tr style=\"text-align: right;\">\n",
              "      <th></th>\n",
              "      <th>ID</th>\n",
              "      <th>대출등급</th>\n",
              "    </tr>\n",
              "  </thead>\n",
              "  <tbody>\n",
              "    <tr>\n",
              "      <th>0</th>\n",
              "      <td>TEST_00000</td>\n",
              "      <td>B</td>\n",
              "    </tr>\n",
              "    <tr>\n",
              "      <th>1</th>\n",
              "      <td>TEST_00001</td>\n",
              "      <td>B</td>\n",
              "    </tr>\n",
              "    <tr>\n",
              "      <th>2</th>\n",
              "      <td>TEST_00002</td>\n",
              "      <td>A</td>\n",
              "    </tr>\n",
              "    <tr>\n",
              "      <th>3</th>\n",
              "      <td>TEST_00003</td>\n",
              "      <td>C</td>\n",
              "    </tr>\n",
              "    <tr>\n",
              "      <th>4</th>\n",
              "      <td>TEST_00004</td>\n",
              "      <td>C</td>\n",
              "    </tr>\n",
              "    <tr>\n",
              "      <th>...</th>\n",
              "      <td>...</td>\n",
              "      <td>...</td>\n",
              "    </tr>\n",
              "    <tr>\n",
              "      <th>64192</th>\n",
              "      <td>TEST_64192</td>\n",
              "      <td>D</td>\n",
              "    </tr>\n",
              "    <tr>\n",
              "      <th>64193</th>\n",
              "      <td>TEST_64193</td>\n",
              "      <td>D</td>\n",
              "    </tr>\n",
              "    <tr>\n",
              "      <th>64194</th>\n",
              "      <td>TEST_64194</td>\n",
              "      <td>D</td>\n",
              "    </tr>\n",
              "    <tr>\n",
              "      <th>64195</th>\n",
              "      <td>TEST_64195</td>\n",
              "      <td>C</td>\n",
              "    </tr>\n",
              "    <tr>\n",
              "      <th>64196</th>\n",
              "      <td>TEST_64196</td>\n",
              "      <td>A</td>\n",
              "    </tr>\n",
              "  </tbody>\n",
              "</table>\n",
              "<p>64197 rows × 2 columns</p>\n",
              "</div>\n",
              "    <div class=\"colab-df-buttons\">\n",
              "\n",
              "  <div class=\"colab-df-container\">\n",
              "    <button class=\"colab-df-convert\" onclick=\"convertToInteractive('df-1b27e3f1-ac1f-4217-a294-dfe2bd90377a')\"\n",
              "            title=\"Convert this dataframe to an interactive table.\"\n",
              "            style=\"display:none;\">\n",
              "\n",
              "  <svg xmlns=\"http://www.w3.org/2000/svg\" height=\"24px\" viewBox=\"0 -960 960 960\">\n",
              "    <path d=\"M120-120v-720h720v720H120Zm60-500h600v-160H180v160Zm220 220h160v-160H400v160Zm0 220h160v-160H400v160ZM180-400h160v-160H180v160Zm440 0h160v-160H620v160ZM180-180h160v-160H180v160Zm440 0h160v-160H620v160Z\"/>\n",
              "  </svg>\n",
              "    </button>\n",
              "\n",
              "  <style>\n",
              "    .colab-df-container {\n",
              "      display:flex;\n",
              "      gap: 12px;\n",
              "    }\n",
              "\n",
              "    .colab-df-convert {\n",
              "      background-color: #E8F0FE;\n",
              "      border: none;\n",
              "      border-radius: 50%;\n",
              "      cursor: pointer;\n",
              "      display: none;\n",
              "      fill: #1967D2;\n",
              "      height: 32px;\n",
              "      padding: 0 0 0 0;\n",
              "      width: 32px;\n",
              "    }\n",
              "\n",
              "    .colab-df-convert:hover {\n",
              "      background-color: #E2EBFA;\n",
              "      box-shadow: 0px 1px 2px rgba(60, 64, 67, 0.3), 0px 1px 3px 1px rgba(60, 64, 67, 0.15);\n",
              "      fill: #174EA6;\n",
              "    }\n",
              "\n",
              "    .colab-df-buttons div {\n",
              "      margin-bottom: 4px;\n",
              "    }\n",
              "\n",
              "    [theme=dark] .colab-df-convert {\n",
              "      background-color: #3B4455;\n",
              "      fill: #D2E3FC;\n",
              "    }\n",
              "\n",
              "    [theme=dark] .colab-df-convert:hover {\n",
              "      background-color: #434B5C;\n",
              "      box-shadow: 0px 1px 3px 1px rgba(0, 0, 0, 0.15);\n",
              "      filter: drop-shadow(0px 1px 2px rgba(0, 0, 0, 0.3));\n",
              "      fill: #FFFFFF;\n",
              "    }\n",
              "  </style>\n",
              "\n",
              "    <script>\n",
              "      const buttonEl =\n",
              "        document.querySelector('#df-1b27e3f1-ac1f-4217-a294-dfe2bd90377a button.colab-df-convert');\n",
              "      buttonEl.style.display =\n",
              "        google.colab.kernel.accessAllowed ? 'block' : 'none';\n",
              "\n",
              "      async function convertToInteractive(key) {\n",
              "        const element = document.querySelector('#df-1b27e3f1-ac1f-4217-a294-dfe2bd90377a');\n",
              "        const dataTable =\n",
              "          await google.colab.kernel.invokeFunction('convertToInteractive',\n",
              "                                                    [key], {});\n",
              "        if (!dataTable) return;\n",
              "\n",
              "        const docLinkHtml = 'Like what you see? Visit the ' +\n",
              "          '<a target=\"_blank\" href=https://colab.research.google.com/notebooks/data_table.ipynb>data table notebook</a>'\n",
              "          + ' to learn more about interactive tables.';\n",
              "        element.innerHTML = '';\n",
              "        dataTable['output_type'] = 'display_data';\n",
              "        await google.colab.output.renderOutput(dataTable, element);\n",
              "        const docLink = document.createElement('div');\n",
              "        docLink.innerHTML = docLinkHtml;\n",
              "        element.appendChild(docLink);\n",
              "      }\n",
              "    </script>\n",
              "  </div>\n",
              "\n",
              "\n",
              "<div id=\"df-15dbdc42-64b1-42dc-830b-015471df8980\">\n",
              "  <button class=\"colab-df-quickchart\" onclick=\"quickchart('df-15dbdc42-64b1-42dc-830b-015471df8980')\"\n",
              "            title=\"Suggest charts\"\n",
              "            style=\"display:none;\">\n",
              "\n",
              "<svg xmlns=\"http://www.w3.org/2000/svg\" height=\"24px\"viewBox=\"0 0 24 24\"\n",
              "     width=\"24px\">\n",
              "    <g>\n",
              "        <path d=\"M19 3H5c-1.1 0-2 .9-2 2v14c0 1.1.9 2 2 2h14c1.1 0 2-.9 2-2V5c0-1.1-.9-2-2-2zM9 17H7v-7h2v7zm4 0h-2V7h2v10zm4 0h-2v-4h2v4z\"/>\n",
              "    </g>\n",
              "</svg>\n",
              "  </button>\n",
              "\n",
              "<style>\n",
              "  .colab-df-quickchart {\n",
              "      --bg-color: #E8F0FE;\n",
              "      --fill-color: #1967D2;\n",
              "      --hover-bg-color: #E2EBFA;\n",
              "      --hover-fill-color: #174EA6;\n",
              "      --disabled-fill-color: #AAA;\n",
              "      --disabled-bg-color: #DDD;\n",
              "  }\n",
              "\n",
              "  [theme=dark] .colab-df-quickchart {\n",
              "      --bg-color: #3B4455;\n",
              "      --fill-color: #D2E3FC;\n",
              "      --hover-bg-color: #434B5C;\n",
              "      --hover-fill-color: #FFFFFF;\n",
              "      --disabled-bg-color: #3B4455;\n",
              "      --disabled-fill-color: #666;\n",
              "  }\n",
              "\n",
              "  .colab-df-quickchart {\n",
              "    background-color: var(--bg-color);\n",
              "    border: none;\n",
              "    border-radius: 50%;\n",
              "    cursor: pointer;\n",
              "    display: none;\n",
              "    fill: var(--fill-color);\n",
              "    height: 32px;\n",
              "    padding: 0;\n",
              "    width: 32px;\n",
              "  }\n",
              "\n",
              "  .colab-df-quickchart:hover {\n",
              "    background-color: var(--hover-bg-color);\n",
              "    box-shadow: 0 1px 2px rgba(60, 64, 67, 0.3), 0 1px 3px 1px rgba(60, 64, 67, 0.15);\n",
              "    fill: var(--button-hover-fill-color);\n",
              "  }\n",
              "\n",
              "  .colab-df-quickchart-complete:disabled,\n",
              "  .colab-df-quickchart-complete:disabled:hover {\n",
              "    background-color: var(--disabled-bg-color);\n",
              "    fill: var(--disabled-fill-color);\n",
              "    box-shadow: none;\n",
              "  }\n",
              "\n",
              "  .colab-df-spinner {\n",
              "    border: 2px solid var(--fill-color);\n",
              "    border-color: transparent;\n",
              "    border-bottom-color: var(--fill-color);\n",
              "    animation:\n",
              "      spin 1s steps(1) infinite;\n",
              "  }\n",
              "\n",
              "  @keyframes spin {\n",
              "    0% {\n",
              "      border-color: transparent;\n",
              "      border-bottom-color: var(--fill-color);\n",
              "      border-left-color: var(--fill-color);\n",
              "    }\n",
              "    20% {\n",
              "      border-color: transparent;\n",
              "      border-left-color: var(--fill-color);\n",
              "      border-top-color: var(--fill-color);\n",
              "    }\n",
              "    30% {\n",
              "      border-color: transparent;\n",
              "      border-left-color: var(--fill-color);\n",
              "      border-top-color: var(--fill-color);\n",
              "      border-right-color: var(--fill-color);\n",
              "    }\n",
              "    40% {\n",
              "      border-color: transparent;\n",
              "      border-right-color: var(--fill-color);\n",
              "      border-top-color: var(--fill-color);\n",
              "    }\n",
              "    60% {\n",
              "      border-color: transparent;\n",
              "      border-right-color: var(--fill-color);\n",
              "    }\n",
              "    80% {\n",
              "      border-color: transparent;\n",
              "      border-right-color: var(--fill-color);\n",
              "      border-bottom-color: var(--fill-color);\n",
              "    }\n",
              "    90% {\n",
              "      border-color: transparent;\n",
              "      border-bottom-color: var(--fill-color);\n",
              "    }\n",
              "  }\n",
              "</style>\n",
              "\n",
              "  <script>\n",
              "    async function quickchart(key) {\n",
              "      const quickchartButtonEl =\n",
              "        document.querySelector('#' + key + ' button');\n",
              "      quickchartButtonEl.disabled = true;  // To prevent multiple clicks.\n",
              "      quickchartButtonEl.classList.add('colab-df-spinner');\n",
              "      try {\n",
              "        const charts = await google.colab.kernel.invokeFunction(\n",
              "            'suggestCharts', [key], {});\n",
              "      } catch (error) {\n",
              "        console.error('Error during call to suggestCharts:', error);\n",
              "      }\n",
              "      quickchartButtonEl.classList.remove('colab-df-spinner');\n",
              "      quickchartButtonEl.classList.add('colab-df-quickchart-complete');\n",
              "    }\n",
              "    (() => {\n",
              "      let quickchartButtonEl =\n",
              "        document.querySelector('#df-15dbdc42-64b1-42dc-830b-015471df8980 button');\n",
              "      quickchartButtonEl.style.display =\n",
              "        google.colab.kernel.accessAllowed ? 'block' : 'none';\n",
              "    })();\n",
              "  </script>\n",
              "</div>\n",
              "\n",
              "  <div id=\"id_28ca94ce-8fd7-4ffc-a2b1-83ea5dd95dcd\">\n",
              "    <style>\n",
              "      .colab-df-generate {\n",
              "        background-color: #E8F0FE;\n",
              "        border: none;\n",
              "        border-radius: 50%;\n",
              "        cursor: pointer;\n",
              "        display: none;\n",
              "        fill: #1967D2;\n",
              "        height: 32px;\n",
              "        padding: 0 0 0 0;\n",
              "        width: 32px;\n",
              "      }\n",
              "\n",
              "      .colab-df-generate:hover {\n",
              "        background-color: #E2EBFA;\n",
              "        box-shadow: 0px 1px 2px rgba(60, 64, 67, 0.3), 0px 1px 3px 1px rgba(60, 64, 67, 0.15);\n",
              "        fill: #174EA6;\n",
              "      }\n",
              "\n",
              "      [theme=dark] .colab-df-generate {\n",
              "        background-color: #3B4455;\n",
              "        fill: #D2E3FC;\n",
              "      }\n",
              "\n",
              "      [theme=dark] .colab-df-generate:hover {\n",
              "        background-color: #434B5C;\n",
              "        box-shadow: 0px 1px 3px 1px rgba(0, 0, 0, 0.15);\n",
              "        filter: drop-shadow(0px 1px 2px rgba(0, 0, 0, 0.3));\n",
              "        fill: #FFFFFF;\n",
              "      }\n",
              "    </style>\n",
              "    <button class=\"colab-df-generate\" onclick=\"generateWithVariable('submit')\"\n",
              "            title=\"Generate code using this dataframe.\"\n",
              "            style=\"display:none;\">\n",
              "\n",
              "  <svg xmlns=\"http://www.w3.org/2000/svg\" height=\"24px\"viewBox=\"0 0 24 24\"\n",
              "       width=\"24px\">\n",
              "    <path d=\"M7,19H8.4L18.45,9,17,7.55,7,17.6ZM5,21V16.75L18.45,3.32a2,2,0,0,1,2.83,0l1.4,1.43a1.91,1.91,0,0,1,.58,1.4,1.91,1.91,0,0,1-.58,1.4L9.25,21ZM18.45,9,17,7.55Zm-12,3A5.31,5.31,0,0,0,4.9,8.1,5.31,5.31,0,0,0,1,6.5,5.31,5.31,0,0,0,4.9,4.9,5.31,5.31,0,0,0,6.5,1,5.31,5.31,0,0,0,8.1,4.9,5.31,5.31,0,0,0,12,6.5,5.46,5.46,0,0,0,6.5,12Z\"/>\n",
              "  </svg>\n",
              "    </button>\n",
              "    <script>\n",
              "      (() => {\n",
              "      const buttonEl =\n",
              "        document.querySelector('#id_28ca94ce-8fd7-4ffc-a2b1-83ea5dd95dcd button.colab-df-generate');\n",
              "      buttonEl.style.display =\n",
              "        google.colab.kernel.accessAllowed ? 'block' : 'none';\n",
              "\n",
              "      buttonEl.onclick = () => {\n",
              "        google.colab.notebook.generateWithVariable('submit');\n",
              "      }\n",
              "      })();\n",
              "    </script>\n",
              "  </div>\n",
              "\n",
              "    </div>\n",
              "  </div>\n"
            ],
            "application/vnd.google.colaboratory.intrinsic+json": {
              "type": "dataframe",
              "variable_name": "submit",
              "summary": "{\n  \"name\": \"submit\",\n  \"rows\": 64197,\n  \"fields\": [\n    {\n      \"column\": \"ID\",\n      \"properties\": {\n        \"dtype\": \"string\",\n        \"num_unique_values\": 64197,\n        \"samples\": [\n          \"TEST_47576\",\n          \"TEST_28961\",\n          \"TEST_10595\"\n        ],\n        \"semantic_type\": \"\",\n        \"description\": \"\"\n      }\n    },\n    {\n      \"column\": \"\\ub300\\ucd9c\\ub4f1\\uae09\",\n      \"properties\": {\n        \"dtype\": \"category\",\n        \"num_unique_values\": 7,\n        \"samples\": [\n          \"B\",\n          \"A\",\n          \"E\"\n        ],\n        \"semantic_type\": \"\",\n        \"description\": \"\"\n      }\n    }\n  ]\n}"
            }
          },
          "metadata": {},
          "execution_count": 26
        }
      ]
    },
    {
      "cell_type": "code",
      "source": [
        "submit.to_csv(\"modeling1.csv\", index=False)"
      ],
      "metadata": {
        "id": "x0LQQ_jbA7aq"
      },
      "execution_count": null,
      "outputs": []
    },
    {
      "cell_type": "markdown",
      "source": [
        "제출해보니 Private 0.940 public 0.944로 향상된 것을 확인했다."
      ],
      "metadata": {
        "id": "VW0xDIApKKnK"
      }
    },
    {
      "cell_type": "markdown",
      "source": [
        "### 모델링 2,3,4 (사용 X)"
      ],
      "metadata": {
        "id": "pSI7nFYTLXUJ"
      }
    },
    {
      "cell_type": "code",
      "source": [
        "from sklearn.model_selection import KFold\n",
        "from sklearn.model_selection import cross_val_score, cross_validate\n",
        "from sklearn.metrics import make_scorer, f1_score\n",
        "\n",
        "new_train_x = train_del_outlier.drop(['ID', '대출등급', '총연체금액', '연체계좌수'], axis=1)\n",
        "new_train_y = train_del_outlier[\"대출등급\"]\n",
        "\n",
        "display(\"#######  교차 검증 성능  #########\")\n",
        "\n",
        "model2 = LGBMClassifier(random_state = 42)\n",
        "\n",
        "kf = KFold(n_splits=5, shuffle=True, random_state=42)\n",
        "cv_result = cross_validate(model2, new_train_x, new_train_y, cv=kf, scoring=make_scorer(f1_score, average='macro'))\n",
        "\n",
        "# 각 폴드의 Macro F1 score를 출력합니다\n",
        "for i, score in enumerate(cv_result[\"test_score\"]):\n",
        "    print(f\"Fold {i+1} - Macro F1 Score: {score}\")\n",
        "\n",
        "# 전체 교차 검증의 Macro F1 score를 출력합니다\n",
        "print(\"Average Macro F1 Score:\", cv_result[\"test_score\"].mean())"
      ],
      "metadata": {
        "colab": {
          "base_uri": "https://localhost:8080/",
          "height": 1000
        },
        "id": "qUvOO18ZLZSS",
        "outputId": "15b4fe77-3830-4a24-f38b-3a9622f74ea1"
      },
      "execution_count": null,
      "outputs": [
        {
          "output_type": "display_data",
          "data": {
            "text/plain": [
              "'#######  교차 검증 성능  #########'"
            ],
            "application/vnd.google.colaboratory.intrinsic+json": {
              "type": "string"
            }
          },
          "metadata": {}
        },
        {
          "output_type": "stream",
          "name": "stdout",
          "text": [
            "[LightGBM] [Info] Auto-choosing row-wise multi-threading, the overhead of testing was 0.019583 seconds.\n",
            "You can set `force_row_wise=true` to remove the overhead.\n",
            "And if memory is not enough, you can set `force_col_wise=true`.\n",
            "[LightGBM] [Info] Total Bins 3708\n",
            "[LightGBM] [Info] Number of data points in the train set: 75276, number of used features: 25\n",
            "[LightGBM] [Info] Start training from score -1.744055\n",
            "[LightGBM] [Info] Start training from score -1.200957\n",
            "[LightGBM] [Info] Start training from score -1.248422\n",
            "[LightGBM] [Info] Start training from score -1.977722\n",
            "[LightGBM] [Info] Start training from score -2.583682\n",
            "[LightGBM] [Info] Start training from score -3.936579\n",
            "[LightGBM] [Info] Start training from score -5.538557\n",
            "[LightGBM] [Info] Auto-choosing row-wise multi-threading, the overhead of testing was 0.012501 seconds.\n",
            "You can set `force_row_wise=true` to remove the overhead.\n",
            "And if memory is not enough, you can set `force_col_wise=true`.\n",
            "[LightGBM] [Info] Total Bins 3707\n",
            "[LightGBM] [Info] Number of data points in the train set: 75276, number of used features: 25\n",
            "[LightGBM] [Info] Start training from score -1.725161\n",
            "[LightGBM] [Info] Start training from score -1.206136\n",
            "[LightGBM] [Info] Start training from score -1.249394\n",
            "[LightGBM] [Info] Start training from score -1.986012\n",
            "[LightGBM] [Info] Start training from score -2.586325\n",
            "[LightGBM] [Info] Start training from score -3.948219\n",
            "[LightGBM] [Info] Start training from score -5.521806\n",
            "[LightGBM] [Info] Auto-choosing row-wise multi-threading, the overhead of testing was 0.015869 seconds.\n",
            "You can set `force_row_wise=true` to remove the overhead.\n",
            "And if memory is not enough, you can set `force_col_wise=true`.\n",
            "[LightGBM] [Info] Total Bins 3706\n",
            "[LightGBM] [Info] Number of data points in the train set: 75276, number of used features: 25\n",
            "[LightGBM] [Info] Start training from score -1.743979\n",
            "[LightGBM] [Info] Start training from score -1.200737\n",
            "[LightGBM] [Info] Start training from score -1.247311\n",
            "[LightGBM] [Info] Start training from score -1.981955\n",
            "[LightGBM] [Info] Start training from score -2.577018\n",
            "[LightGBM] [Info] Start training from score -3.955824\n",
            "[LightGBM] [Info] Start training from score -5.525134\n",
            "[LightGBM] [Info] Auto-choosing row-wise multi-threading, the overhead of testing was 0.012810 seconds.\n",
            "You can set `force_row_wise=true` to remove the overhead.\n",
            "And if memory is not enough, you can set `force_col_wise=true`.\n",
            "[LightGBM] [Info] Total Bins 3706\n",
            "[LightGBM] [Info] Number of data points in the train set: 75276, number of used features: 25\n",
            "[LightGBM] [Info] Start training from score -1.738221\n",
            "[LightGBM] [Info] Start training from score -1.201002\n",
            "[LightGBM] [Info] Start training from score -1.250182\n",
            "[LightGBM] [Info] Start training from score -1.973985\n",
            "[LightGBM] [Info] Start training from score -2.587561\n",
            "[LightGBM] [Info] Start training from score -3.972619\n",
            "[LightGBM] [Info] Start training from score -5.548744\n",
            "[LightGBM] [Info] Auto-choosing row-wise multi-threading, the overhead of testing was 0.015788 seconds.\n",
            "You can set `force_row_wise=true` to remove the overhead.\n",
            "And if memory is not enough, you can set `force_col_wise=true`.\n",
            "[LightGBM] [Info] Total Bins 3709\n",
            "[LightGBM] [Info] Number of data points in the train set: 75276, number of used features: 25\n",
            "[LightGBM] [Info] Start training from score -1.732571\n",
            "[LightGBM] [Info] Start training from score -1.206536\n",
            "[LightGBM] [Info] Start training from score -1.248329\n",
            "[LightGBM] [Info] Start training from score -1.979452\n",
            "[LightGBM] [Info] Start training from score -2.580871\n",
            "[LightGBM] [Info] Start training from score -3.944782\n",
            "[LightGBM] [Info] Start training from score -5.587010\n",
            "Fold 1 - Macro F1 Score: 0.9184025041953662\n",
            "Fold 2 - Macro F1 Score: 0.9101866781275537\n",
            "Fold 3 - Macro F1 Score: 0.9197228104037533\n",
            "Fold 4 - Macro F1 Score: 0.917067586264153\n",
            "Fold 5 - Macro F1 Score: 0.9076620652373537\n",
            "Average Macro F1 Score: 0.914608328845636\n"
          ]
        }
      ]
    },
    {
      "cell_type": "markdown",
      "source": [
        "LGBMClassifier 모델은 0.914로 낮아서 활용하기 힘들거같다."
      ],
      "metadata": {
        "id": "yIFhxMKZMbHz"
      }
    },
    {
      "cell_type": "code",
      "source": [
        "from sklearn.model_selection import KFold\n",
        "from sklearn.model_selection import cross_val_score, cross_validate\n",
        "from sklearn.metrics import make_scorer, f1_score\n",
        "\n",
        "new_train_x = train_del_outlier.drop(['ID', '대출등급', '총연체금액', '연체계좌수'], axis=1)\n",
        "new_train_y = train_del_outlier[\"대출등급\"]\n",
        "\n",
        "display(\"#######  교차 검증 성능  #########\")\n",
        "\n",
        "model3 = ExtraTreesClassifier(random_state = 42)\n",
        "\n",
        "kf = KFold(n_splits=5, shuffle=True, random_state=42)\n",
        "cv_result = cross_validate(model3, new_train_x, new_train_y, cv=kf, scoring=make_scorer(f1_score, average='macro'))\n",
        "\n",
        "# 각 폴드의 Macro F1 score를 출력합니다\n",
        "for i, score in enumerate(cv_result[\"test_score\"]):\n",
        "    print(f\"Fold {i+1} - Macro F1 Score: {score}\")\n",
        "\n",
        "# 전체 교차 검증의 Macro F1 score를 출력합니다\n",
        "print(\"Average Macro F1 Score:\", cv_result[\"test_score\"].mean())"
      ],
      "metadata": {
        "colab": {
          "base_uri": "https://localhost:8080/",
          "height": 146
        },
        "id": "ebRuL_WCMa07",
        "outputId": "e196d709-a861-4bb6-8911-95f620575c45"
      },
      "execution_count": null,
      "outputs": [
        {
          "output_type": "display_data",
          "data": {
            "text/plain": [
              "'#######  교차 검증 성능  #########'"
            ],
            "application/vnd.google.colaboratory.intrinsic+json": {
              "type": "string"
            }
          },
          "metadata": {}
        },
        {
          "output_type": "stream",
          "name": "stdout",
          "text": [
            "Fold 1 - Macro F1 Score: 0.9042392835398998\n",
            "Fold 2 - Macro F1 Score: 0.9007076806158837\n",
            "Fold 3 - Macro F1 Score: 0.9142180802641303\n",
            "Fold 4 - Macro F1 Score: 0.9046022179260236\n",
            "Fold 5 - Macro F1 Score: 0.9012964761184945\n",
            "Average Macro F1 Score: 0.9050127476928864\n"
          ]
        }
      ]
    },
    {
      "cell_type": "markdown",
      "source": [
        "ExtraTreesClassifier 모델은 0.905로 낮아서 활용하기 힘들거같다."
      ],
      "metadata": {
        "id": "IxsNJKVRM2O5"
      }
    },
    {
      "cell_type": "code",
      "source": [
        "from sklearn.model_selection import KFold\n",
        "from sklearn.model_selection import cross_val_score, cross_validate\n",
        "from sklearn.metrics import make_scorer, f1_score\n",
        "\n",
        "new_train_x = train_del_outlier.drop(['ID', '대출등급', '총연체금액', '연체계좌수'], axis=1)\n",
        "new_train_y = train_del_outlier[\"대출등급\"]\n",
        "\n",
        "display(\"#######  교차 검증 성능  #########\")\n",
        "\n",
        "np.random.seed(42)\n",
        "model4 = KNeighborsClassifier()\n",
        "\n",
        "kf = KFold(n_splits=5, shuffle=True, random_state=42)\n",
        "cv_result = cross_validate(model4, new_train_x, new_train_y, cv=kf, scoring=make_scorer(f1_score, average='macro'))\n",
        "\n",
        "# 각 폴드의 Macro F1 score를 출력합니다\n",
        "for i, score in enumerate(cv_result[\"test_score\"]):\n",
        "    print(f\"Fold {i+1} - Macro F1 Score: {score}\")\n",
        "\n",
        "# 전체 교차 검증의 Macro F1 score를 출력합니다\n",
        "print(\"Average Macro F1 Score:\", cv_result[\"test_score\"].mean())"
      ],
      "metadata": {
        "colab": {
          "base_uri": "https://localhost:8080/",
          "height": 146
        },
        "id": "Yq0KmDYdM0xa",
        "outputId": "cf3a1908-9ceb-43a9-90d2-fc959a876395"
      },
      "execution_count": null,
      "outputs": [
        {
          "output_type": "display_data",
          "data": {
            "text/plain": [
              "'#######  교차 검증 성능  #########'"
            ],
            "application/vnd.google.colaboratory.intrinsic+json": {
              "type": "string"
            }
          },
          "metadata": {}
        },
        {
          "output_type": "stream",
          "name": "stdout",
          "text": [
            "Fold 1 - Macro F1 Score: 0.26640169344244513\n",
            "Fold 2 - Macro F1 Score: 0.26084528112104016\n",
            "Fold 3 - Macro F1 Score: 0.26044364081477395\n",
            "Fold 4 - Macro F1 Score: 0.26542147717766246\n",
            "Fold 5 - Macro F1 Score: 0.266971481045405\n",
            "Average Macro F1 Score: 0.26401671472026533\n"
          ]
        }
      ]
    },
    {
      "cell_type": "markdown",
      "source": [
        "KNeighborsClassifier 모델은 0.264로 낮아서 활용하기 힘들거같다."
      ],
      "metadata": {
        "id": "hjCnjhDFNsbY"
      }
    },
    {
      "cell_type": "markdown",
      "source": [
        "### Optuna"
      ],
      "metadata": {
        "id": "zIuuBo3atknd"
      }
    },
    {
      "cell_type": "code",
      "source": [
        "import optuna\n",
        "from sklearn.model_selection import train_test_split\n",
        "from sklearn.metrics import make_scorer, f1_score\n",
        "\n",
        "new_train_x = train_del_outlier.drop(['ID', '대출등급', '총연체금액', '연체계좌수'], axis=1)\n",
        "new_train_y = train_del_outlier[\"대출등급\"]\n",
        "\n",
        "# 훈련 세트와 검증 세트로 나누기\n",
        "X_train, X_val, y_train, y_val = train_test_split(new_train_x, new_train_y, test_size=0.2, random_state=42)\n",
        "\n",
        "# Objective 함수 정의\n",
        "def objective(trial):\n",
        "    params = {\n",
        "        'n_estimators': trial.suggest_int('n_estimators', 10, 1000),\n",
        "        'max_depth': trial.suggest_int('max_depth', 3, 15),\n",
        "        'min_samples_split': trial.suggest_int('min_samples_split', 2, 20),\n",
        "        'min_samples_leaf': trial.suggest_int('min_samples_leaf', 1, 10),\n",
        "        'max_features': trial.suggest_categorical('max_features', ['auto', 'sqrt', 'log2'])\n",
        "    }\n",
        "\n",
        "    # CatBoost 모델 생성\n",
        "    model = RandomForestClassifier(**params, random_state=42)\n",
        "\n",
        "    # 모델 학습\n",
        "    model.fit(X_train, y_train)\n",
        "\n",
        "    # 검증 세트에 대한 F1 Score 계산\n",
        "    val_preds = model.predict(X_val)\n",
        "    val_f1 = f1_score(y_val, val_preds, average='macro')\n",
        "\n",
        "    return 1 - val_f1  # Optuna는 minimize를 지원하므로, F1 Score의 음수 값을 최소화하는 것으로 설정\n",
        "\n",
        "# Study 객체 생성 및 하이퍼파라미터 최적화\n",
        "study = optuna.create_study(direction='minimize')\n",
        "study.optimize(objective, n_trials=1000, boot)\n",
        "\n",
        "# 최적화된 하이퍼파라미터 출력\n",
        "best_params = study.best_params\n",
        "print(\"최적 하이퍼파라미터:\", best_params)"
      ],
      "metadata": {
        "colab": {
          "base_uri": "https://localhost:8080/",
          "height": 540
        },
        "id": "zNjzraE2Qwpy",
        "outputId": "89893d61-4418-4264-8442-70bc4e8f0733"
      },
      "execution_count": null,
      "outputs": [
        {
          "output_type": "stream",
          "name": "stderr",
          "text": [
            "[I 2024-03-11 23:46:42,663] A new study created in memory with name: no-name-af4f4151-7479-400a-a214-40f3c758db5e\n",
            "[I 2024-03-11 23:47:39,421] Trial 1 finished with value: 0.06291153834901841 and parameters: {'n_estimators': 231, 'max_depth': 11, 'min_samples_split': 13, 'min_samples_leaf': 6, 'max_features': 'sqrt'}. Best is trial 1 with value: 0.06291153834901841.\n",
            "[I 2024-03-11 23:49:08,661] Trial 2 finished with value: 0.06198410056392356 and parameters: {'n_estimators': 394, 'max_depth': 12, 'min_samples_split': 13, 'min_samples_leaf': 2, 'max_features': 'log2'}. Best is trial 2 with value: 0.06198410056392356.\n",
            "[I 2024-03-11 23:49:32,667] Trial 0 finished with value: 0.1637370412202236 and parameters: {'n_estimators': 986, 'max_depth': 8, 'min_samples_split': 15, 'min_samples_leaf': 3, 'max_features': 'log2'}. Best is trial 2 with value: 0.06198410056392356.\n",
            "[I 2024-03-11 23:49:46,569] Trial 4 finished with value: 0.3590816435883234 and parameters: {'n_estimators': 101, 'max_depth': 6, 'min_samples_split': 16, 'min_samples_leaf': 8, 'max_features': 'log2'}. Best is trial 2 with value: 0.06198410056392356.\n",
            "[I 2024-03-11 23:50:03,378] Trial 5 finished with value: 0.06526715525025462 and parameters: {'n_estimators': 81, 'max_depth': 11, 'min_samples_split': 7, 'min_samples_leaf': 3, 'max_features': 'log2'}. Best is trial 2 with value: 0.06198410056392356.\n",
            "[I 2024-03-11 23:51:44,541] Trial 3 finished with value: 0.07486794831283228 and parameters: {'n_estimators': 592, 'max_depth': 9, 'min_samples_split': 14, 'min_samples_leaf': 4, 'max_features': 'auto'}. Best is trial 2 with value: 0.06198410056392356.\n",
            "[I 2024-03-11 23:52:41,044] Trial 6 finished with value: 0.05901631046886735 and parameters: {'n_estimators': 604, 'max_depth': 15, 'min_samples_split': 15, 'min_samples_leaf': 7, 'max_features': 'auto'}. Best is trial 6 with value: 0.05901631046886735.\n"
          ]
        },
        {
          "output_type": "error",
          "ename": "KeyboardInterrupt",
          "evalue": "",
          "traceback": [
            "\u001b[0;31m---------------------------------------------------------------------------\u001b[0m",
            "\u001b[0;31mKeyboardInterrupt\u001b[0m                         Traceback (most recent call last)",
            "\u001b[0;32m<ipython-input-19-85d55e7495ea>\u001b[0m in \u001b[0;36m<cell line: 35>\u001b[0;34m()\u001b[0m\n\u001b[1;32m     33\u001b[0m \u001b[0;31m# Study 객체 생성 및 하이퍼파라미터 최적화\u001b[0m\u001b[0;34m\u001b[0m\u001b[0;34m\u001b[0m\u001b[0m\n\u001b[1;32m     34\u001b[0m \u001b[0mstudy\u001b[0m \u001b[0;34m=\u001b[0m \u001b[0moptuna\u001b[0m\u001b[0;34m.\u001b[0m\u001b[0mcreate_study\u001b[0m\u001b[0;34m(\u001b[0m\u001b[0mdirection\u001b[0m\u001b[0;34m=\u001b[0m\u001b[0;34m'minimize'\u001b[0m\u001b[0;34m)\u001b[0m\u001b[0;34m\u001b[0m\u001b[0;34m\u001b[0m\u001b[0m\n\u001b[0;32m---> 35\u001b[0;31m \u001b[0mstudy\u001b[0m\u001b[0;34m.\u001b[0m\u001b[0moptimize\u001b[0m\u001b[0;34m(\u001b[0m\u001b[0mobjective\u001b[0m\u001b[0;34m,\u001b[0m \u001b[0mn_trials\u001b[0m\u001b[0;34m=\u001b[0m\u001b[0;36m1000\u001b[0m\u001b[0;34m,\u001b[0m \u001b[0mn_jobs\u001b[0m\u001b[0;34m=\u001b[0m\u001b[0;34m-\u001b[0m\u001b[0;36m1\u001b[0m\u001b[0;34m)\u001b[0m\u001b[0;34m\u001b[0m\u001b[0;34m\u001b[0m\u001b[0m\n\u001b[0m\u001b[1;32m     36\u001b[0m \u001b[0;34m\u001b[0m\u001b[0m\n\u001b[1;32m     37\u001b[0m \u001b[0;31m# 최적화된 하이퍼파라미터 출력\u001b[0m\u001b[0;34m\u001b[0m\u001b[0;34m\u001b[0m\u001b[0m\n",
            "\u001b[0;32m/usr/local/lib/python3.10/dist-packages/optuna/study/study.py\u001b[0m in \u001b[0;36moptimize\u001b[0;34m(self, func, n_trials, timeout, n_jobs, catch, callbacks, gc_after_trial, show_progress_bar)\u001b[0m\n\u001b[1;32m    449\u001b[0m                 \u001b[0mIf\u001b[0m \u001b[0mnested\u001b[0m \u001b[0minvocation\u001b[0m \u001b[0mof\u001b[0m \u001b[0mthis\u001b[0m \u001b[0mmethod\u001b[0m \u001b[0moccurs\u001b[0m\u001b[0;34m.\u001b[0m\u001b[0;34m\u001b[0m\u001b[0;34m\u001b[0m\u001b[0m\n\u001b[1;32m    450\u001b[0m         \"\"\"\n\u001b[0;32m--> 451\u001b[0;31m         _optimize(\n\u001b[0m\u001b[1;32m    452\u001b[0m             \u001b[0mstudy\u001b[0m\u001b[0;34m=\u001b[0m\u001b[0mself\u001b[0m\u001b[0;34m,\u001b[0m\u001b[0;34m\u001b[0m\u001b[0;34m\u001b[0m\u001b[0m\n\u001b[1;32m    453\u001b[0m             \u001b[0mfunc\u001b[0m\u001b[0;34m=\u001b[0m\u001b[0mfunc\u001b[0m\u001b[0;34m,\u001b[0m\u001b[0;34m\u001b[0m\u001b[0;34m\u001b[0m\u001b[0m\n",
            "\u001b[0;32m/usr/local/lib/python3.10/dist-packages/optuna/study/_optimize.py\u001b[0m in \u001b[0;36m_optimize\u001b[0;34m(study, func, n_trials, timeout, n_jobs, catch, callbacks, gc_after_trial, show_progress_bar)\u001b[0m\n\u001b[1;32m     98\u001b[0m \u001b[0;34m\u001b[0m\u001b[0m\n\u001b[1;32m     99\u001b[0m                     \u001b[0;32mif\u001b[0m \u001b[0mlen\u001b[0m\u001b[0;34m(\u001b[0m\u001b[0mfutures\u001b[0m\u001b[0;34m)\u001b[0m \u001b[0;34m>=\u001b[0m \u001b[0mn_jobs\u001b[0m\u001b[0;34m:\u001b[0m\u001b[0;34m\u001b[0m\u001b[0;34m\u001b[0m\u001b[0m\n\u001b[0;32m--> 100\u001b[0;31m                         \u001b[0mcompleted\u001b[0m\u001b[0;34m,\u001b[0m \u001b[0mfutures\u001b[0m \u001b[0;34m=\u001b[0m \u001b[0mwait\u001b[0m\u001b[0;34m(\u001b[0m\u001b[0mfutures\u001b[0m\u001b[0;34m,\u001b[0m \u001b[0mreturn_when\u001b[0m\u001b[0;34m=\u001b[0m\u001b[0mFIRST_COMPLETED\u001b[0m\u001b[0;34m)\u001b[0m\u001b[0;34m\u001b[0m\u001b[0;34m\u001b[0m\u001b[0m\n\u001b[0m\u001b[1;32m    101\u001b[0m                         \u001b[0;31m# Raise if exception occurred in executing the completed futures.\u001b[0m\u001b[0;34m\u001b[0m\u001b[0;34m\u001b[0m\u001b[0m\n\u001b[1;32m    102\u001b[0m                         \u001b[0;32mfor\u001b[0m \u001b[0mf\u001b[0m \u001b[0;32min\u001b[0m \u001b[0mcompleted\u001b[0m\u001b[0;34m:\u001b[0m\u001b[0;34m\u001b[0m\u001b[0;34m\u001b[0m\u001b[0m\n",
            "\u001b[0;32m/usr/lib/python3.10/concurrent/futures/_base.py\u001b[0m in \u001b[0;36mwait\u001b[0;34m(fs, timeout, return_when)\u001b[0m\n\u001b[1;32m    305\u001b[0m         \u001b[0mwaiter\u001b[0m \u001b[0;34m=\u001b[0m \u001b[0m_create_and_install_waiters\u001b[0m\u001b[0;34m(\u001b[0m\u001b[0mfs\u001b[0m\u001b[0;34m,\u001b[0m \u001b[0mreturn_when\u001b[0m\u001b[0;34m)\u001b[0m\u001b[0;34m\u001b[0m\u001b[0;34m\u001b[0m\u001b[0m\n\u001b[1;32m    306\u001b[0m \u001b[0;34m\u001b[0m\u001b[0m\n\u001b[0;32m--> 307\u001b[0;31m     \u001b[0mwaiter\u001b[0m\u001b[0;34m.\u001b[0m\u001b[0mevent\u001b[0m\u001b[0;34m.\u001b[0m\u001b[0mwait\u001b[0m\u001b[0;34m(\u001b[0m\u001b[0mtimeout\u001b[0m\u001b[0;34m)\u001b[0m\u001b[0;34m\u001b[0m\u001b[0;34m\u001b[0m\u001b[0m\n\u001b[0m\u001b[1;32m    308\u001b[0m     \u001b[0;32mfor\u001b[0m \u001b[0mf\u001b[0m \u001b[0;32min\u001b[0m \u001b[0mfs\u001b[0m\u001b[0;34m:\u001b[0m\u001b[0;34m\u001b[0m\u001b[0;34m\u001b[0m\u001b[0m\n\u001b[1;32m    309\u001b[0m         \u001b[0;32mwith\u001b[0m \u001b[0mf\u001b[0m\u001b[0;34m.\u001b[0m\u001b[0m_condition\u001b[0m\u001b[0;34m:\u001b[0m\u001b[0;34m\u001b[0m\u001b[0;34m\u001b[0m\u001b[0m\n",
            "\u001b[0;32m/usr/lib/python3.10/threading.py\u001b[0m in \u001b[0;36mwait\u001b[0;34m(self, timeout)\u001b[0m\n\u001b[1;32m    605\u001b[0m             \u001b[0msignaled\u001b[0m \u001b[0;34m=\u001b[0m \u001b[0mself\u001b[0m\u001b[0;34m.\u001b[0m\u001b[0m_flag\u001b[0m\u001b[0;34m\u001b[0m\u001b[0;34m\u001b[0m\u001b[0m\n\u001b[1;32m    606\u001b[0m             \u001b[0;32mif\u001b[0m \u001b[0;32mnot\u001b[0m \u001b[0msignaled\u001b[0m\u001b[0;34m:\u001b[0m\u001b[0;34m\u001b[0m\u001b[0;34m\u001b[0m\u001b[0m\n\u001b[0;32m--> 607\u001b[0;31m                 \u001b[0msignaled\u001b[0m \u001b[0;34m=\u001b[0m \u001b[0mself\u001b[0m\u001b[0;34m.\u001b[0m\u001b[0m_cond\u001b[0m\u001b[0;34m.\u001b[0m\u001b[0mwait\u001b[0m\u001b[0;34m(\u001b[0m\u001b[0mtimeout\u001b[0m\u001b[0;34m)\u001b[0m\u001b[0;34m\u001b[0m\u001b[0;34m\u001b[0m\u001b[0m\n\u001b[0m\u001b[1;32m    608\u001b[0m             \u001b[0;32mreturn\u001b[0m \u001b[0msignaled\u001b[0m\u001b[0;34m\u001b[0m\u001b[0;34m\u001b[0m\u001b[0m\n\u001b[1;32m    609\u001b[0m \u001b[0;34m\u001b[0m\u001b[0m\n",
            "\u001b[0;32m/usr/lib/python3.10/threading.py\u001b[0m in \u001b[0;36mwait\u001b[0;34m(self, timeout)\u001b[0m\n\u001b[1;32m    318\u001b[0m         \u001b[0;32mtry\u001b[0m\u001b[0;34m:\u001b[0m    \u001b[0;31m# restore state no matter what (e.g., KeyboardInterrupt)\u001b[0m\u001b[0;34m\u001b[0m\u001b[0;34m\u001b[0m\u001b[0m\n\u001b[1;32m    319\u001b[0m             \u001b[0;32mif\u001b[0m \u001b[0mtimeout\u001b[0m \u001b[0;32mis\u001b[0m \u001b[0;32mNone\u001b[0m\u001b[0;34m:\u001b[0m\u001b[0;34m\u001b[0m\u001b[0;34m\u001b[0m\u001b[0m\n\u001b[0;32m--> 320\u001b[0;31m                 \u001b[0mwaiter\u001b[0m\u001b[0;34m.\u001b[0m\u001b[0macquire\u001b[0m\u001b[0;34m(\u001b[0m\u001b[0;34m)\u001b[0m\u001b[0;34m\u001b[0m\u001b[0;34m\u001b[0m\u001b[0m\n\u001b[0m\u001b[1;32m    321\u001b[0m                 \u001b[0mgotit\u001b[0m \u001b[0;34m=\u001b[0m \u001b[0;32mTrue\u001b[0m\u001b[0;34m\u001b[0m\u001b[0;34m\u001b[0m\u001b[0m\n\u001b[1;32m    322\u001b[0m             \u001b[0;32melse\u001b[0m\u001b[0;34m:\u001b[0m\u001b[0;34m\u001b[0m\u001b[0;34m\u001b[0m\u001b[0m\n",
            "\u001b[0;31mKeyboardInterrupt\u001b[0m: "
          ]
        }
      ]
    },
    {
      "cell_type": "code",
      "source": [
        "from sklearn.ensemble import RandomForestClassifier\n",
        "\n",
        "new_train_x = train_del_outlier.drop(['ID', '대출등급', '총연체금액', '연체계좌수'], axis=1)\n",
        "new_train_y = train_del_outlier[\"대출등급\"]\n",
        "\n",
        "new_test_x = test.drop(['ID','총연체금액', '연체계좌수'], axis=1)\n",
        "\n",
        "# RandomForestClassifier 모델 생성\n",
        "model = RandomForestClassifier(random_state = 42,\n",
        "                               n_estimators = 376,\n",
        "                               max_depth = 14,\n",
        "                               min_samples_split = 7,\n",
        "                               min_samples_leaf = 1,\n",
        "                               max_features = \"auto\",\n",
        "                               bootstrap = False)\n",
        "\n",
        "# 모델 학습\n",
        "model.fit(new_train_x, new_train_y)\n",
        "\n",
        "# 예측\n",
        "y_pred = model.predict(new_test_x)"
      ],
      "metadata": {
        "id": "5jt4LIsO8IR5"
      },
      "execution_count": null,
      "outputs": []
    },
    {
      "cell_type": "code",
      "source": [
        "submit.loc[:,\"대출등급\"] = y_pred\n",
        "submit"
      ],
      "metadata": {
        "colab": {
          "base_uri": "https://localhost:8080/",
          "height": 424
        },
        "id": "kTS1IuEx8ppB",
        "outputId": "3669abbe-2c23-4867-aa82-5d9e4bedf763"
      },
      "execution_count": null,
      "outputs": [
        {
          "output_type": "execute_result",
          "data": {
            "text/plain": [
              "               ID 대출등급\n",
              "0      TEST_00000    B\n",
              "1      TEST_00001    B\n",
              "2      TEST_00002    A\n",
              "3      TEST_00003    C\n",
              "4      TEST_00004    C\n",
              "...           ...  ...\n",
              "64192  TEST_64192    D\n",
              "64193  TEST_64193    D\n",
              "64194  TEST_64194    D\n",
              "64195  TEST_64195    C\n",
              "64196  TEST_64196    A\n",
              "\n",
              "[64197 rows x 2 columns]"
            ],
            "text/html": [
              "\n",
              "  <div id=\"df-c32b07c7-8465-4e5f-8a23-13dceaa5e244\" class=\"colab-df-container\">\n",
              "    <div>\n",
              "<style scoped>\n",
              "    .dataframe tbody tr th:only-of-type {\n",
              "        vertical-align: middle;\n",
              "    }\n",
              "\n",
              "    .dataframe tbody tr th {\n",
              "        vertical-align: top;\n",
              "    }\n",
              "\n",
              "    .dataframe thead th {\n",
              "        text-align: right;\n",
              "    }\n",
              "</style>\n",
              "<table border=\"1\" class=\"dataframe\">\n",
              "  <thead>\n",
              "    <tr style=\"text-align: right;\">\n",
              "      <th></th>\n",
              "      <th>ID</th>\n",
              "      <th>대출등급</th>\n",
              "    </tr>\n",
              "  </thead>\n",
              "  <tbody>\n",
              "    <tr>\n",
              "      <th>0</th>\n",
              "      <td>TEST_00000</td>\n",
              "      <td>B</td>\n",
              "    </tr>\n",
              "    <tr>\n",
              "      <th>1</th>\n",
              "      <td>TEST_00001</td>\n",
              "      <td>B</td>\n",
              "    </tr>\n",
              "    <tr>\n",
              "      <th>2</th>\n",
              "      <td>TEST_00002</td>\n",
              "      <td>A</td>\n",
              "    </tr>\n",
              "    <tr>\n",
              "      <th>3</th>\n",
              "      <td>TEST_00003</td>\n",
              "      <td>C</td>\n",
              "    </tr>\n",
              "    <tr>\n",
              "      <th>4</th>\n",
              "      <td>TEST_00004</td>\n",
              "      <td>C</td>\n",
              "    </tr>\n",
              "    <tr>\n",
              "      <th>...</th>\n",
              "      <td>...</td>\n",
              "      <td>...</td>\n",
              "    </tr>\n",
              "    <tr>\n",
              "      <th>64192</th>\n",
              "      <td>TEST_64192</td>\n",
              "      <td>D</td>\n",
              "    </tr>\n",
              "    <tr>\n",
              "      <th>64193</th>\n",
              "      <td>TEST_64193</td>\n",
              "      <td>D</td>\n",
              "    </tr>\n",
              "    <tr>\n",
              "      <th>64194</th>\n",
              "      <td>TEST_64194</td>\n",
              "      <td>D</td>\n",
              "    </tr>\n",
              "    <tr>\n",
              "      <th>64195</th>\n",
              "      <td>TEST_64195</td>\n",
              "      <td>C</td>\n",
              "    </tr>\n",
              "    <tr>\n",
              "      <th>64196</th>\n",
              "      <td>TEST_64196</td>\n",
              "      <td>A</td>\n",
              "    </tr>\n",
              "  </tbody>\n",
              "</table>\n",
              "<p>64197 rows × 2 columns</p>\n",
              "</div>\n",
              "    <div class=\"colab-df-buttons\">\n",
              "\n",
              "  <div class=\"colab-df-container\">\n",
              "    <button class=\"colab-df-convert\" onclick=\"convertToInteractive('df-c32b07c7-8465-4e5f-8a23-13dceaa5e244')\"\n",
              "            title=\"Convert this dataframe to an interactive table.\"\n",
              "            style=\"display:none;\">\n",
              "\n",
              "  <svg xmlns=\"http://www.w3.org/2000/svg\" height=\"24px\" viewBox=\"0 -960 960 960\">\n",
              "    <path d=\"M120-120v-720h720v720H120Zm60-500h600v-160H180v160Zm220 220h160v-160H400v160Zm0 220h160v-160H400v160ZM180-400h160v-160H180v160Zm440 0h160v-160H620v160ZM180-180h160v-160H180v160Zm440 0h160v-160H620v160Z\"/>\n",
              "  </svg>\n",
              "    </button>\n",
              "\n",
              "  <style>\n",
              "    .colab-df-container {\n",
              "      display:flex;\n",
              "      gap: 12px;\n",
              "    }\n",
              "\n",
              "    .colab-df-convert {\n",
              "      background-color: #E8F0FE;\n",
              "      border: none;\n",
              "      border-radius: 50%;\n",
              "      cursor: pointer;\n",
              "      display: none;\n",
              "      fill: #1967D2;\n",
              "      height: 32px;\n",
              "      padding: 0 0 0 0;\n",
              "      width: 32px;\n",
              "    }\n",
              "\n",
              "    .colab-df-convert:hover {\n",
              "      background-color: #E2EBFA;\n",
              "      box-shadow: 0px 1px 2px rgba(60, 64, 67, 0.3), 0px 1px 3px 1px rgba(60, 64, 67, 0.15);\n",
              "      fill: #174EA6;\n",
              "    }\n",
              "\n",
              "    .colab-df-buttons div {\n",
              "      margin-bottom: 4px;\n",
              "    }\n",
              "\n",
              "    [theme=dark] .colab-df-convert {\n",
              "      background-color: #3B4455;\n",
              "      fill: #D2E3FC;\n",
              "    }\n",
              "\n",
              "    [theme=dark] .colab-df-convert:hover {\n",
              "      background-color: #434B5C;\n",
              "      box-shadow: 0px 1px 3px 1px rgba(0, 0, 0, 0.15);\n",
              "      filter: drop-shadow(0px 1px 2px rgba(0, 0, 0, 0.3));\n",
              "      fill: #FFFFFF;\n",
              "    }\n",
              "  </style>\n",
              "\n",
              "    <script>\n",
              "      const buttonEl =\n",
              "        document.querySelector('#df-c32b07c7-8465-4e5f-8a23-13dceaa5e244 button.colab-df-convert');\n",
              "      buttonEl.style.display =\n",
              "        google.colab.kernel.accessAllowed ? 'block' : 'none';\n",
              "\n",
              "      async function convertToInteractive(key) {\n",
              "        const element = document.querySelector('#df-c32b07c7-8465-4e5f-8a23-13dceaa5e244');\n",
              "        const dataTable =\n",
              "          await google.colab.kernel.invokeFunction('convertToInteractive',\n",
              "                                                    [key], {});\n",
              "        if (!dataTable) return;\n",
              "\n",
              "        const docLinkHtml = 'Like what you see? Visit the ' +\n",
              "          '<a target=\"_blank\" href=https://colab.research.google.com/notebooks/data_table.ipynb>data table notebook</a>'\n",
              "          + ' to learn more about interactive tables.';\n",
              "        element.innerHTML = '';\n",
              "        dataTable['output_type'] = 'display_data';\n",
              "        await google.colab.output.renderOutput(dataTable, element);\n",
              "        const docLink = document.createElement('div');\n",
              "        docLink.innerHTML = docLinkHtml;\n",
              "        element.appendChild(docLink);\n",
              "      }\n",
              "    </script>\n",
              "  </div>\n",
              "\n",
              "\n",
              "<div id=\"df-ff8d3c1a-6b61-4aaf-98e1-568a22e1e602\">\n",
              "  <button class=\"colab-df-quickchart\" onclick=\"quickchart('df-ff8d3c1a-6b61-4aaf-98e1-568a22e1e602')\"\n",
              "            title=\"Suggest charts\"\n",
              "            style=\"display:none;\">\n",
              "\n",
              "<svg xmlns=\"http://www.w3.org/2000/svg\" height=\"24px\"viewBox=\"0 0 24 24\"\n",
              "     width=\"24px\">\n",
              "    <g>\n",
              "        <path d=\"M19 3H5c-1.1 0-2 .9-2 2v14c0 1.1.9 2 2 2h14c1.1 0 2-.9 2-2V5c0-1.1-.9-2-2-2zM9 17H7v-7h2v7zm4 0h-2V7h2v10zm4 0h-2v-4h2v4z\"/>\n",
              "    </g>\n",
              "</svg>\n",
              "  </button>\n",
              "\n",
              "<style>\n",
              "  .colab-df-quickchart {\n",
              "      --bg-color: #E8F0FE;\n",
              "      --fill-color: #1967D2;\n",
              "      --hover-bg-color: #E2EBFA;\n",
              "      --hover-fill-color: #174EA6;\n",
              "      --disabled-fill-color: #AAA;\n",
              "      --disabled-bg-color: #DDD;\n",
              "  }\n",
              "\n",
              "  [theme=dark] .colab-df-quickchart {\n",
              "      --bg-color: #3B4455;\n",
              "      --fill-color: #D2E3FC;\n",
              "      --hover-bg-color: #434B5C;\n",
              "      --hover-fill-color: #FFFFFF;\n",
              "      --disabled-bg-color: #3B4455;\n",
              "      --disabled-fill-color: #666;\n",
              "  }\n",
              "\n",
              "  .colab-df-quickchart {\n",
              "    background-color: var(--bg-color);\n",
              "    border: none;\n",
              "    border-radius: 50%;\n",
              "    cursor: pointer;\n",
              "    display: none;\n",
              "    fill: var(--fill-color);\n",
              "    height: 32px;\n",
              "    padding: 0;\n",
              "    width: 32px;\n",
              "  }\n",
              "\n",
              "  .colab-df-quickchart:hover {\n",
              "    background-color: var(--hover-bg-color);\n",
              "    box-shadow: 0 1px 2px rgba(60, 64, 67, 0.3), 0 1px 3px 1px rgba(60, 64, 67, 0.15);\n",
              "    fill: var(--button-hover-fill-color);\n",
              "  }\n",
              "\n",
              "  .colab-df-quickchart-complete:disabled,\n",
              "  .colab-df-quickchart-complete:disabled:hover {\n",
              "    background-color: var(--disabled-bg-color);\n",
              "    fill: var(--disabled-fill-color);\n",
              "    box-shadow: none;\n",
              "  }\n",
              "\n",
              "  .colab-df-spinner {\n",
              "    border: 2px solid var(--fill-color);\n",
              "    border-color: transparent;\n",
              "    border-bottom-color: var(--fill-color);\n",
              "    animation:\n",
              "      spin 1s steps(1) infinite;\n",
              "  }\n",
              "\n",
              "  @keyframes spin {\n",
              "    0% {\n",
              "      border-color: transparent;\n",
              "      border-bottom-color: var(--fill-color);\n",
              "      border-left-color: var(--fill-color);\n",
              "    }\n",
              "    20% {\n",
              "      border-color: transparent;\n",
              "      border-left-color: var(--fill-color);\n",
              "      border-top-color: var(--fill-color);\n",
              "    }\n",
              "    30% {\n",
              "      border-color: transparent;\n",
              "      border-left-color: var(--fill-color);\n",
              "      border-top-color: var(--fill-color);\n",
              "      border-right-color: var(--fill-color);\n",
              "    }\n",
              "    40% {\n",
              "      border-color: transparent;\n",
              "      border-right-color: var(--fill-color);\n",
              "      border-top-color: var(--fill-color);\n",
              "    }\n",
              "    60% {\n",
              "      border-color: transparent;\n",
              "      border-right-color: var(--fill-color);\n",
              "    }\n",
              "    80% {\n",
              "      border-color: transparent;\n",
              "      border-right-color: var(--fill-color);\n",
              "      border-bottom-color: var(--fill-color);\n",
              "    }\n",
              "    90% {\n",
              "      border-color: transparent;\n",
              "      border-bottom-color: var(--fill-color);\n",
              "    }\n",
              "  }\n",
              "</style>\n",
              "\n",
              "  <script>\n",
              "    async function quickchart(key) {\n",
              "      const quickchartButtonEl =\n",
              "        document.querySelector('#' + key + ' button');\n",
              "      quickchartButtonEl.disabled = true;  // To prevent multiple clicks.\n",
              "      quickchartButtonEl.classList.add('colab-df-spinner');\n",
              "      try {\n",
              "        const charts = await google.colab.kernel.invokeFunction(\n",
              "            'suggestCharts', [key], {});\n",
              "      } catch (error) {\n",
              "        console.error('Error during call to suggestCharts:', error);\n",
              "      }\n",
              "      quickchartButtonEl.classList.remove('colab-df-spinner');\n",
              "      quickchartButtonEl.classList.add('colab-df-quickchart-complete');\n",
              "    }\n",
              "    (() => {\n",
              "      let quickchartButtonEl =\n",
              "        document.querySelector('#df-ff8d3c1a-6b61-4aaf-98e1-568a22e1e602 button');\n",
              "      quickchartButtonEl.style.display =\n",
              "        google.colab.kernel.accessAllowed ? 'block' : 'none';\n",
              "    })();\n",
              "  </script>\n",
              "</div>\n",
              "\n",
              "  <div id=\"id_e92665a5-c425-41a1-8334-18d9fc980720\">\n",
              "    <style>\n",
              "      .colab-df-generate {\n",
              "        background-color: #E8F0FE;\n",
              "        border: none;\n",
              "        border-radius: 50%;\n",
              "        cursor: pointer;\n",
              "        display: none;\n",
              "        fill: #1967D2;\n",
              "        height: 32px;\n",
              "        padding: 0 0 0 0;\n",
              "        width: 32px;\n",
              "      }\n",
              "\n",
              "      .colab-df-generate:hover {\n",
              "        background-color: #E2EBFA;\n",
              "        box-shadow: 0px 1px 2px rgba(60, 64, 67, 0.3), 0px 1px 3px 1px rgba(60, 64, 67, 0.15);\n",
              "        fill: #174EA6;\n",
              "      }\n",
              "\n",
              "      [theme=dark] .colab-df-generate {\n",
              "        background-color: #3B4455;\n",
              "        fill: #D2E3FC;\n",
              "      }\n",
              "\n",
              "      [theme=dark] .colab-df-generate:hover {\n",
              "        background-color: #434B5C;\n",
              "        box-shadow: 0px 1px 3px 1px rgba(0, 0, 0, 0.15);\n",
              "        filter: drop-shadow(0px 1px 2px rgba(0, 0, 0, 0.3));\n",
              "        fill: #FFFFFF;\n",
              "      }\n",
              "    </style>\n",
              "    <button class=\"colab-df-generate\" onclick=\"generateWithVariable('submit')\"\n",
              "            title=\"Generate code using this dataframe.\"\n",
              "            style=\"display:none;\">\n",
              "\n",
              "  <svg xmlns=\"http://www.w3.org/2000/svg\" height=\"24px\"viewBox=\"0 0 24 24\"\n",
              "       width=\"24px\">\n",
              "    <path d=\"M7,19H8.4L18.45,9,17,7.55,7,17.6ZM5,21V16.75L18.45,3.32a2,2,0,0,1,2.83,0l1.4,1.43a1.91,1.91,0,0,1,.58,1.4,1.91,1.91,0,0,1-.58,1.4L9.25,21ZM18.45,9,17,7.55Zm-12,3A5.31,5.31,0,0,0,4.9,8.1,5.31,5.31,0,0,0,1,6.5,5.31,5.31,0,0,0,4.9,4.9,5.31,5.31,0,0,0,6.5,1,5.31,5.31,0,0,0,8.1,4.9,5.31,5.31,0,0,0,12,6.5,5.46,5.46,0,0,0,6.5,12Z\"/>\n",
              "  </svg>\n",
              "    </button>\n",
              "    <script>\n",
              "      (() => {\n",
              "      const buttonEl =\n",
              "        document.querySelector('#id_e92665a5-c425-41a1-8334-18d9fc980720 button.colab-df-generate');\n",
              "      buttonEl.style.display =\n",
              "        google.colab.kernel.accessAllowed ? 'block' : 'none';\n",
              "\n",
              "      buttonEl.onclick = () => {\n",
              "        google.colab.notebook.generateWithVariable('submit');\n",
              "      }\n",
              "      })();\n",
              "    </script>\n",
              "  </div>\n",
              "\n",
              "    </div>\n",
              "  </div>\n"
            ],
            "application/vnd.google.colaboratory.intrinsic+json": {
              "type": "dataframe",
              "variable_name": "submit",
              "summary": "{\n  \"name\": \"submit\",\n  \"rows\": 64197,\n  \"fields\": [\n    {\n      \"column\": \"ID\",\n      \"properties\": {\n        \"dtype\": \"string\",\n        \"num_unique_values\": 64197,\n        \"samples\": [\n          \"TEST_47576\",\n          \"TEST_28961\",\n          \"TEST_10595\"\n        ],\n        \"semantic_type\": \"\",\n        \"description\": \"\"\n      }\n    },\n    {\n      \"column\": \"\\ub300\\ucd9c\\ub4f1\\uae09\",\n      \"properties\": {\n        \"dtype\": \"category\",\n        \"num_unique_values\": 7,\n        \"samples\": [\n          \"B\",\n          \"A\",\n          \"E\"\n        ],\n        \"semantic_type\": \"\",\n        \"description\": \"\"\n      }\n    }\n  ]\n}"
            }
          },
          "metadata": {},
          "execution_count": 21
        }
      ]
    },
    {
      "cell_type": "code",
      "source": [
        "submit.to_csv(\"modeling2.csv\", index=False)"
      ],
      "metadata": {
        "id": "mAyj91T18rc6"
      },
      "execution_count": null,
      "outputs": []
    },
    {
      "cell_type": "markdown",
      "source": [
        "제출해보니 Private 0.945 public 0.949로 향상된 것을 확인했다."
      ],
      "metadata": {
        "id": "Z8B8ppiR90TU"
      }
    },
    {
      "cell_type": "markdown",
      "source": [
        "###LDA(사용 X)"
      ],
      "metadata": {
        "id": "aI9XDuF5tca0"
      }
    },
    {
      "cell_type": "code",
      "execution_count": null,
      "metadata": {
        "id": "FSrxfv47e1ni"
      },
      "outputs": [],
      "source": [
        "from sklearn.preprocessing import StandardScaler\n",
        "\n",
        "# 표준화를 위한 scaler 객체 생성 및 훈련 데이터에 적용\n",
        "scaler = StandardScaler()\n",
        "train_scaled = scaler.fit_transform(train_x_over)\n",
        "\n",
        "# 테스트 데이터에 훈련 데이터의 평균과 표준편차를 적용하여 표준화\n",
        "test_scaled = scaler.transform(test_x)"
      ]
    },
    {
      "cell_type": "code",
      "execution_count": null,
      "metadata": {
        "id": "zUuh4dCYe1ni",
        "outputId": "d7afb95f-5167-4784-ddd3-202c615dbe65"
      },
      "outputs": [
        {
          "data": {
            "image/png": "[encoded data removed]",
            "text/plain": [
              "<Figure size 1000x600 with 1 Axes>"
            ]
          },
          "metadata": {},
          "output_type": "display_data"
        }
      ],
      "source": [
        "# LDA 객체 생성\n",
        "lda = LDA()\n",
        "\n",
        "# LDA를 훈련 데이터에 적용\n",
        "lda.fit(train_scaled, train_y_over)\n",
        "lda_transformed_train = lda.transform(train_scaled)\n",
        "\n",
        "plt.figure(figsize=(10, 6))\n",
        "plt.plot(range(1, lda_transformed_train.shape[1] + 1), lda.explained_variance_ratio_)\n",
        "plt.xlabel('LDA Components')\n",
        "plt.ylabel('Explained Variance Ratio')\n",
        "plt.title('Scree Plot for LDA')\n",
        "plt.show()"
      ]
    },
    {
      "cell_type": "code",
      "execution_count": null,
      "metadata": {
        "id": "YkOPLGSMe1ni"
      },
      "outputs": [],
      "source": [
        "# LDA수는 가장 적합한 2로 설정해서 다시 적용\n",
        "lda = LDA(n_components=2)\n",
        "\n",
        "lda.fit(train_scaled, train_y_over)\n",
        "lda_transformed_train = lda.transform(train_scaled)\n",
        "\n",
        "lda_transformed_test = lda.transform(test_scaled)"
      ]
    },
    {
      "cell_type": "code",
      "execution_count": null,
      "metadata": {
        "id": "1j11VC_qe1ni"
      },
      "outputs": [],
      "source": [
        "# LDA로 생성된 칼럼명을 작성하기 위함\n",
        "lda_columns_train = [f'LDA{i+1}' for i in range(lda_transformed_train.shape[1])]\n",
        "lda_columns_test = [f'LDA{i+1}' for i in range(lda_transformed_test.shape[1])]\n",
        "\n",
        "lda_df_train = pd.DataFrame(lda_transformed_train, columns = lda_columns_train)\n",
        "lda_df_test = pd.DataFrame(lda_transformed_test, columns = lda_columns_test)"
      ]
    },
    {
      "cell_type": "code",
      "execution_count": null,
      "metadata": {
        "id": "ChpgYuB6e1ni"
      },
      "outputs": [],
      "source": [
        "# NumPy 배열을 데이터프레임으로 변환\n",
        "scaled_train = pd.DataFrame(train_scaled, columns=train_x_over.columns, index=train_x_over.index)\n",
        "scaled_test = pd.DataFrame(test_scaled, columns=test_x.columns, index=test_x.index)"
      ]
    },
    {
      "cell_type": "code",
      "execution_count": null,
      "metadata": {
        "id": "xAF7UmLOe1ni"
      },
      "outputs": [],
      "source": [
        "lda_train_x = pd.concat([scaled_train, lda_df_train], axis=1)\n",
        "lda_test_x = pd.concat([scaled_test, lda_df_test], axis=1)"
      ]
    },
    {
      "cell_type": "markdown",
      "source": [
        "### SMOTE(사용 X)"
      ],
      "metadata": {
        "id": "EyKcL4OXtfdq"
      }
    },
    {
      "cell_type": "code",
      "execution_count": null,
      "metadata": {
        "id": "5WKVCnpAe1nh",
        "outputId": "ba279284-89c6-4b55-9744-e71d874ad06b"
      },
      "outputs": [
        {
          "name": "stdout",
          "output_type": "stream",
          "text": [
            "SMOTE 적용 전 값의 분포 :\n",
            " 대출등급\n",
            "B    28817\n",
            "C    27623\n",
            "A    16772\n",
            "D    13354\n",
            "E     7354\n",
            "F     1954\n",
            "G      420\n",
            "Name: count, dtype: int64\n",
            "SMOTE 적용 전 학습용 피처/레이블 데이터 세트 :  (96294, 28) (96294,)\n",
            "SMOTE 적용 후 학습용 피처/레이블 데이터 세트 : (201752, 28) (201752,)\n",
            "SMOTE 적용 후 값의 분포 :\n",
            " 대출등급\n",
            "A    28824\n",
            "E    28824\n",
            "C    28823\n",
            "D    28823\n",
            "F    28822\n",
            "G    28819\n",
            "B    28817\n",
            "Name: count, dtype: int64\n"
          ]
        }
      ],
      "source": [
        "# KMeansSMOTE로 데이터 수 증강(오버샘플링)\n",
        "\n",
        "smote = KMeansSMOTE(cluster_balance_threshold=0.0045, random_state=42)\n",
        "train_x_over, train_y_over = smote.fit_resample(train_x, train_y)\n",
        "print('SMOTE 적용 전 값의 분포 :\\n',pd.Series(train_y).value_counts())\n",
        "print(\"SMOTE 적용 전 학습용 피처/레이블 데이터 세트 : \", train_x.shape, train_y.shape)\n",
        "print('SMOTE 적용 후 학습용 피처/레이블 데이터 세트 :', train_x_over.shape, train_y_over.shape)\n",
        "print('SMOTE 적용 후 값의 분포 :\\n',pd.Series(train_y_over).value_counts())"
      ]
    },
    {
      "cell_type": "markdown",
      "source": [
        "### voting (사용X)"
      ],
      "metadata": {
        "id": "jtRp9ljeSQB7"
      }
    },
    {
      "cell_type": "markdown",
      "metadata": {
        "id": "o8Q42ioye1ni"
      },
      "source": [
        "RandomForestClassifier"
      ]
    },
    {
      "cell_type": "code",
      "execution_count": null,
      "metadata": {
        "id": "xP8E-xEke1nj",
        "outputId": "dd22b6ef-61e5-46fd-f149-d08e0ba5b96f"
      },
      "outputs": [
        {
          "name": "stdout",
          "output_type": "stream",
          "text": [
            "[LightGBM] [Info] Auto-choosing col-wise multi-threading, the overhead of testing was 0.028057 seconds.\n",
            "You can set `force_col_wise=true` to remove the overhead.\n",
            "[LightGBM] [Info] Total Bins 5418\n",
            "[LightGBM] [Info] Number of data points in the train set: 201752, number of used features: 30\n",
            "[LightGBM] [Info] Start training from score -1.945831\n",
            "[LightGBM] [Info] Start training from score -1.946074\n",
            "[LightGBM] [Info] Start training from score -1.945866\n",
            "[LightGBM] [Info] Start training from score -1.945866\n",
            "[LightGBM] [Info] Start training from score -1.945831\n",
            "[LightGBM] [Info] Start training from score -1.945900\n",
            "[LightGBM] [Info] Start training from score -1.946004\n"
          ]
        },
        {
          "data": {
            "text/html": [
              "<style>#sk-container-id-1 {color: black;}#sk-container-id-1 pre{padding: 0;}#sk-container-id-1 div.sk-toggleable {background-color: white;}#sk-container-id-1 label.sk-toggleable__label {cursor: pointer;display: block;width: 100%;margin-bottom: 0;padding: 0.3em;box-sizing: border-box;text-align: center;}#sk-container-id-1 label.sk-toggleable__label-arrow:before {content: \"▸\";float: left;margin-right: 0.25em;color: #696969;}#sk-container-id-1 label.sk-toggleable__label-arrow:hover:before {color: black;}#sk-container-id-1 div.sk-estimator:hover label.sk-toggleable__label-arrow:before {color: black;}#sk-container-id-1 div.sk-toggleable__content {max-height: 0;max-width: 0;overflow: hidden;text-align: left;background-color: #f0f8ff;}#sk-container-id-1 div.sk-toggleable__content pre {margin: 0.2em;color: black;border-radius: 0.25em;background-color: #f0f8ff;}#sk-container-id-1 input.sk-toggleable__control:checked~div.sk-toggleable__content {max-height: 200px;max-width: 100%;overflow: auto;}#sk-container-id-1 input.sk-toggleable__control:checked~label.sk-toggleable__label-arrow:before {content: \"▾\";}#sk-container-id-1 div.sk-estimator input.sk-toggleable__control:checked~label.sk-toggleable__label {background-color: #d4ebff;}#sk-container-id-1 div.sk-label input.sk-toggleable__control:checked~label.sk-toggleable__label {background-color: #d4ebff;}#sk-container-id-1 input.sk-hidden--visually {border: 0;clip: rect(1px 1px 1px 1px);clip: rect(1px, 1px, 1px, 1px);height: 1px;margin: -1px;overflow: hidden;padding: 0;position: absolute;width: 1px;}#sk-container-id-1 div.sk-estimator {font-family: monospace;background-color: #f0f8ff;border: 1px dotted black;border-radius: 0.25em;box-sizing: border-box;margin-bottom: 0.5em;}#sk-container-id-1 div.sk-estimator:hover {background-color: #d4ebff;}#sk-container-id-1 div.sk-parallel-item::after {content: \"\";width: 100%;border-bottom: 1px solid gray;flex-grow: 1;}#sk-container-id-1 div.sk-label:hover label.sk-toggleable__label {background-color: #d4ebff;}#sk-container-id-1 div.sk-serial::before {content: \"\";position: absolute;border-left: 1px solid gray;box-sizing: border-box;top: 0;bottom: 0;left: 50%;z-index: 0;}#sk-container-id-1 div.sk-serial {display: flex;flex-direction: column;align-items: center;background-color: white;padding-right: 0.2em;padding-left: 0.2em;position: relative;}#sk-container-id-1 div.sk-item {position: relative;z-index: 1;}#sk-container-id-1 div.sk-parallel {display: flex;align-items: stretch;justify-content: center;background-color: white;position: relative;}#sk-container-id-1 div.sk-item::before, #sk-container-id-1 div.sk-parallel-item::before {content: \"\";position: absolute;border-left: 1px solid gray;box-sizing: border-box;top: 0;bottom: 0;left: 50%;z-index: -1;}#sk-container-id-1 div.sk-parallel-item {display: flex;flex-direction: column;z-index: 1;position: relative;background-color: white;}#sk-container-id-1 div.sk-parallel-item:first-child::after {align-self: flex-end;width: 50%;}#sk-container-id-1 div.sk-parallel-item:last-child::after {align-self: flex-start;width: 50%;}#sk-container-id-1 div.sk-parallel-item:only-child::after {width: 0;}#sk-container-id-1 div.sk-dashed-wrapped {border: 1px dashed gray;margin: 0 0.4em 0.5em 0.4em;box-sizing: border-box;padding-bottom: 0.4em;background-color: white;}#sk-container-id-1 div.sk-label label {font-family: monospace;font-weight: bold;display: inline-block;line-height: 1.2em;}#sk-container-id-1 div.sk-label-container {text-align: center;}#sk-container-id-1 div.sk-container {/* jupyter's `normalize.less` sets `[hidden] { display: none; }` but bootstrap.min.css set `[hidden] { display: none !important; }` so we also need the `!important` here to be able to override the default hidden behavior on the sphinx rendered scikit-learn.org. See: https://github.com/scikit-learn/scikit-learn/issues/21755 */display: inline-block !important;position: relative;}#sk-container-id-1 div.sk-text-repr-fallback {display: none;}</style><div id=\"sk-container-id-1\" class=\"sk-top-container\"><div class=\"sk-text-repr-fallback\"><pre>VotingClassifier(estimators=[(&#x27;bag&#x27;, BaggingClassifier(random_state=42)),\n",
              "                             (&#x27;dt&#x27;, DecisionTreeClassifier(random_state=42)),\n",
              "                             (&#x27;rc&#x27;, RidgeClassifier(random_state=42)),\n",
              "                             (&#x27;xgb&#x27;,\n",
              "                              XGBClassifier(base_score=None, booster=None,\n",
              "                                            callbacks=None,\n",
              "                                            colsample_bylevel=None,\n",
              "                                            colsample_bynode=None,\n",
              "                                            colsample_bytree=None, device=None,\n",
              "                                            early_stopping_rounds=None,\n",
              "                                            enable_categorical=F...\n",
              "                                            min_child_weight=None, missing=nan,\n",
              "                                            monotone_constraints=None,\n",
              "                                            multi_strategy=None,\n",
              "                                            n_estimators=None, n_jobs=None,\n",
              "                                            num_parallel_tree=None,\n",
              "                                            random_state=42, ...)),\n",
              "                             (&#x27;lgb&#x27;, LGBMClassifier(random_state=42)),\n",
              "                             (&#x27;gb&#x27;,\n",
              "                              GradientBoostingClassifier(random_state=42)),\n",
              "                             (&#x27;svc&#x27;, SVC(random_state=42)),\n",
              "                             (&#x27;rcc&#x27;, RidgeClassifierCV()),\n",
              "                             (&#x27;rf&#x27;, RandomForestClassifier(random_state=42))],\n",
              "                 weights=[1, 1, 1, 2, 1, 1, 1, 1, 2])</pre><b>In a Jupyter environment, please rerun this cell to show the HTML representation or trust the notebook. <br />On GitHub, the HTML representation is unable to render, please try loading this page with nbviewer.org.</b></div><div class=\"sk-container\" hidden><div class=\"sk-item sk-dashed-wrapped\"><div class=\"sk-label-container\"><div class=\"sk-label sk-toggleable\"><input class=\"sk-toggleable__control sk-hidden--visually\" id=\"sk-estimator-id-1\" type=\"checkbox\" ><label for=\"sk-estimator-id-1\" class=\"sk-toggleable__label sk-toggleable__label-arrow\">VotingClassifier</label><div class=\"sk-toggleable__content\"><pre>VotingClassifier(estimators=[(&#x27;bag&#x27;, BaggingClassifier(random_state=42)),\n",
              "                             (&#x27;dt&#x27;, DecisionTreeClassifier(random_state=42)),\n",
              "                             (&#x27;rc&#x27;, RidgeClassifier(random_state=42)),\n",
              "                             (&#x27;xgb&#x27;,\n",
              "                              XGBClassifier(base_score=None, booster=None,\n",
              "                                            callbacks=None,\n",
              "                                            colsample_bylevel=None,\n",
              "                                            colsample_bynode=None,\n",
              "                                            colsample_bytree=None, device=None,\n",
              "                                            early_stopping_rounds=None,\n",
              "                                            enable_categorical=F...\n",
              "                                            min_child_weight=None, missing=nan,\n",
              "                                            monotone_constraints=None,\n",
              "                                            multi_strategy=None,\n",
              "                                            n_estimators=None, n_jobs=None,\n",
              "                                            num_parallel_tree=None,\n",
              "                                            random_state=42, ...)),\n",
              "                             (&#x27;lgb&#x27;, LGBMClassifier(random_state=42)),\n",
              "                             (&#x27;gb&#x27;,\n",
              "                              GradientBoostingClassifier(random_state=42)),\n",
              "                             (&#x27;svc&#x27;, SVC(random_state=42)),\n",
              "                             (&#x27;rcc&#x27;, RidgeClassifierCV()),\n",
              "                             (&#x27;rf&#x27;, RandomForestClassifier(random_state=42))],\n",
              "                 weights=[1, 1, 1, 2, 1, 1, 1, 1, 2])</pre></div></div></div><div class=\"sk-parallel\"><div class=\"sk-parallel-item\"><div class=\"sk-item\"><div class=\"sk-label-container\"><div class=\"sk-label sk-toggleable\"><label>bag</label></div></div><div class=\"sk-serial\"><div class=\"sk-item\"><div class=\"sk-estimator sk-toggleable\"><input class=\"sk-toggleable__control sk-hidden--visually\" id=\"sk-estimator-id-2\" type=\"checkbox\" ><label for=\"sk-estimator-id-2\" class=\"sk-toggleable__label sk-toggleable__label-arrow\">BaggingClassifier</label><div class=\"sk-toggleable__content\"><pre>BaggingClassifier(random_state=42)</pre></div></div></div></div></div></div><div class=\"sk-parallel-item\"><div class=\"sk-item\"><div class=\"sk-label-container\"><div class=\"sk-label sk-toggleable\"><label>dt</label></div></div><div class=\"sk-serial\"><div class=\"sk-item\"><div class=\"sk-estimator sk-toggleable\"><input class=\"sk-toggleable__control sk-hidden--visually\" id=\"sk-estimator-id-3\" type=\"checkbox\" ><label for=\"sk-estimator-id-3\" class=\"sk-toggleable__label sk-toggleable__label-arrow\">DecisionTreeClassifier</label><div class=\"sk-toggleable__content\"><pre>DecisionTreeClassifier(random_state=42)</pre></div></div></div></div></div></div><div class=\"sk-parallel-item\"><div class=\"sk-item\"><div class=\"sk-label-container\"><div class=\"sk-label sk-toggleable\"><label>rc</label></div></div><div class=\"sk-serial\"><div class=\"sk-item\"><div class=\"sk-estimator sk-toggleable\"><input class=\"sk-toggleable__control sk-hidden--visually\" id=\"sk-estimator-id-4\" type=\"checkbox\" ><label for=\"sk-estimator-id-4\" class=\"sk-toggleable__label sk-toggleable__label-arrow\">RidgeClassifier</label><div class=\"sk-toggleable__content\"><pre>RidgeClassifier(random_state=42)</pre></div></div></div></div></div></div><div class=\"sk-parallel-item\"><div class=\"sk-item\"><div class=\"sk-label-container\"><div class=\"sk-label sk-toggleable\"><label>xgb</label></div></div><div class=\"sk-serial\"><div class=\"sk-item\"><div class=\"sk-estimator sk-toggleable\"><input class=\"sk-toggleable__control sk-hidden--visually\" id=\"sk-estimator-id-5\" type=\"checkbox\" ><label for=\"sk-estimator-id-5\" class=\"sk-toggleable__label sk-toggleable__label-arrow\">XGBClassifier</label><div class=\"sk-toggleable__content\"><pre>XGBClassifier(base_score=None, booster=None, callbacks=None,\n",
              "              colsample_bylevel=None, colsample_bynode=None,\n",
              "              colsample_bytree=None, device=None, early_stopping_rounds=None,\n",
              "              enable_categorical=False, eval_metric=None, feature_types=None,\n",
              "              gamma=None, grow_policy=None, importance_type=None,\n",
              "              interaction_constraints=None, learning_rate=None, max_bin=None,\n",
              "              max_cat_threshold=None, max_cat_to_onehot=None,\n",
              "              max_delta_step=None, max_depth=None, max_leaves=None,\n",
              "              min_child_weight=None, missing=nan, monotone_constraints=None,\n",
              "              multi_strategy=None, n_estimators=None, n_jobs=None,\n",
              "              num_parallel_tree=None, random_state=42, ...)</pre></div></div></div></div></div></div><div class=\"sk-parallel-item\"><div class=\"sk-item\"><div class=\"sk-label-container\"><div class=\"sk-label sk-toggleable\"><label>lgb</label></div></div><div class=\"sk-serial\"><div class=\"sk-item\"><div class=\"sk-estimator sk-toggleable\"><input class=\"sk-toggleable__control sk-hidden--visually\" id=\"sk-estimator-id-6\" type=\"checkbox\" ><label for=\"sk-estimator-id-6\" class=\"sk-toggleable__label sk-toggleable__label-arrow\">LGBMClassifier</label><div class=\"sk-toggleable__content\"><pre>LGBMClassifier(random_state=42)</pre></div></div></div></div></div></div><div class=\"sk-parallel-item\"><div class=\"sk-item\"><div class=\"sk-label-container\"><div class=\"sk-label sk-toggleable\"><label>gb</label></div></div><div class=\"sk-serial\"><div class=\"sk-item\"><div class=\"sk-estimator sk-toggleable\"><input class=\"sk-toggleable__control sk-hidden--visually\" id=\"sk-estimator-id-7\" type=\"checkbox\" ><label for=\"sk-estimator-id-7\" class=\"sk-toggleable__label sk-toggleable__label-arrow\">GradientBoostingClassifier</label><div class=\"sk-toggleable__content\"><pre>GradientBoostingClassifier(random_state=42)</pre></div></div></div></div></div></div><div class=\"sk-parallel-item\"><div class=\"sk-item\"><div class=\"sk-label-container\"><div class=\"sk-label sk-toggleable\"><label>svc</label></div></div><div class=\"sk-serial\"><div class=\"sk-item\"><div class=\"sk-estimator sk-toggleable\"><input class=\"sk-toggleable__control sk-hidden--visually\" id=\"sk-estimator-id-8\" type=\"checkbox\" ><label for=\"sk-estimator-id-8\" class=\"sk-toggleable__label sk-toggleable__label-arrow\">SVC</label><div class=\"sk-toggleable__content\"><pre>SVC(random_state=42)</pre></div></div></div></div></div></div><div class=\"sk-parallel-item\"><div class=\"sk-item\"><div class=\"sk-label-container\"><div class=\"sk-label sk-toggleable\"><label>rcc</label></div></div><div class=\"sk-serial\"><div class=\"sk-item\"><div class=\"sk-estimator sk-toggleable\"><input class=\"sk-toggleable__control sk-hidden--visually\" id=\"sk-estimator-id-9\" type=\"checkbox\" ><label for=\"sk-estimator-id-9\" class=\"sk-toggleable__label sk-toggleable__label-arrow\">RidgeClassifierCV</label><div class=\"sk-toggleable__content\"><pre>RidgeClassifierCV()</pre></div></div></div></div></div></div><div class=\"sk-parallel-item\"><div class=\"sk-item\"><div class=\"sk-label-container\"><div class=\"sk-label sk-toggleable\"><label>rf</label></div></div><div class=\"sk-serial\"><div class=\"sk-item\"><div class=\"sk-estimator sk-toggleable\"><input class=\"sk-toggleable__control sk-hidden--visually\" id=\"sk-estimator-id-10\" type=\"checkbox\" ><label for=\"sk-estimator-id-10\" class=\"sk-toggleable__label sk-toggleable__label-arrow\">RandomForestClassifier</label><div class=\"sk-toggleable__content\"><pre>RandomForestClassifier(random_state=42)</pre></div></div></div></div></div></div></div></div></div></div>"
            ],
            "text/plain": [
              "VotingClassifier(estimators=[('bag', BaggingClassifier(random_state=42)),\n",
              "                             ('dt', DecisionTreeClassifier(random_state=42)),\n",
              "                             ('rc', RidgeClassifier(random_state=42)),\n",
              "                             ('xgb',\n",
              "                              XGBClassifier(base_score=None, booster=None,\n",
              "                                            callbacks=None,\n",
              "                                            colsample_bylevel=None,\n",
              "                                            colsample_bynode=None,\n",
              "                                            colsample_bytree=None, device=None,\n",
              "                                            early_stopping_rounds=None,\n",
              "                                            enable_categorical=F...\n",
              "                                            min_child_weight=None, missing=nan,\n",
              "                                            monotone_constraints=None,\n",
              "                                            multi_strategy=None,\n",
              "                                            n_estimators=None, n_jobs=None,\n",
              "                                            num_parallel_tree=None,\n",
              "                                            random_state=42, ...)),\n",
              "                             ('lgb', LGBMClassifier(random_state=42)),\n",
              "                             ('gb',\n",
              "                              GradientBoostingClassifier(random_state=42)),\n",
              "                             ('svc', SVC(random_state=42)),\n",
              "                             ('rcc', RidgeClassifierCV()),\n",
              "                             ('rf', RandomForestClassifier(random_state=42))],\n",
              "                 weights=[1, 1, 1, 2, 1, 1, 1, 1, 2])"
            ]
          },
          "execution_count": 17,
          "metadata": {},
          "output_type": "execute_result"
        }
      ],
      "source": [
        "from sklearn.ensemble import BaggingClassifier, GradientBoostingClassifier, RandomForestClassifier, VotingClassifier\n",
        "from sklearn.tree import DecisionTreeClassifier\n",
        "from sklearn.linear_model import RidgeClassifier, RidgeClassifierCV\n",
        "from sklearn.svm import SVC\n",
        "from xgboost import XGBClassifier\n",
        "from lightgbm import LGBMClassifier\n",
        "\n",
        "models = [\n",
        "    ('bag', BaggingClassifier(random_state=42, n_jobs=5)),\n",
        "    ('dt', DecisionTreeClassifier(random_state=42)),\n",
        "    ('rc', RidgeClassifier(random_state=42)),\n",
        "    ('xgb', XGBClassifier(random_state=42)),\n",
        "    ('lgb', LGBMClassifier(random_state=42, n_jobs=5)),\n",
        "    ('gb', GradientBoostingClassifier(random_state=42)),\n",
        "    ('svc', SVC(random_state=42)),\n",
        "    ('rcc', RidgeClassifierCV()),\n",
        "    ('rf', RandomForestClassifier(random_state=42, n_jobs=5))\n",
        "]\n",
        "\n",
        "best_model  = VotingClassifier(models, voting='hard', weights=[1,1,1,2,1,1,1,1,2], n_jobs=5)\n",
        "best_model.fit(lda_train_x,train_y_over)\n",
        "\n",
        "y_pred = best_model.predict(lda_test_x)"
      ]
    },
    {
      "cell_type": "code",
      "execution_count": null,
      "metadata": {
        "id": "qkbLF2sRe1nj"
      },
      "outputs": [],
      "source": [
        "# 예측\n",
        "y_pred = best_model.predict(lda_test_x)"
      ]
    },
    {
      "cell_type": "code",
      "execution_count": null,
      "metadata": {
        "id": "Kle9c3lhe1nj"
      },
      "outputs": [],
      "source": [
        "# from sklearn.ensemble import RandomForestClassifier\n",
        "# from sklearn.model_selection import train_test_split\n",
        "# from sklearn.preprocessing import LabelEncoder\n",
        "\n",
        "# # 학습 및 테스트 데이터 분할\n",
        "# # X_train, X_val, y_train, y_val = train_test_split(lda_train_x, train_y_over, test_size=0.3, random_state=42)\n",
        "\n",
        "# # le = LabelEncoder()\n",
        "# # train_y_over = le.fit_transform(train_y_over)\n",
        "# # y_val = le.fit_transform(y_val)\n",
        "\n",
        "# # RandomForestClassifier 모델 생성\n",
        "# # model = xgb.XGBClassifier(random_state=42)\n",
        "# model = RandomForestClassifier(random_state=42)\n",
        "\n",
        "# # 모델 학습\n",
        "# # model.fit(lda_train_x, train_y_over)\n",
        "# model.fit(lda_train_x, train_y_over)\n",
        "\n",
        "# # 예측\n",
        "# y_pred = model.predict(lda_test_x)"
      ]
    },
    {
      "cell_type": "code",
      "execution_count": null,
      "metadata": {
        "id": "gZL_5V_le1nj"
      },
      "outputs": [],
      "source": [
        "# y_pred = le.inverse_transform(y_pred)\n",
        "# y_val = le.inverse_transform(y_val)"
      ]
    },
    {
      "cell_type": "code",
      "execution_count": null,
      "metadata": {
        "id": "rOOPJjfje1nj",
        "outputId": "fdc3291a-0678-4a81-fcdc-afdf7c78bea1"
      },
      "outputs": [
        {
          "name": "stdout",
          "output_type": "stream",
          "text": [
            "              precision    recall  f1-score   support\n",
            "\n",
            "           A       0.96      0.98      0.97      8543\n",
            "           B       0.95      0.95      0.95      8627\n",
            "           C       0.95      0.95      0.95      8653\n",
            "           D       0.96      0.96      0.96      8584\n",
            "           E       0.98      0.97      0.98      8697\n",
            "           F       0.99      0.99      0.99      8883\n",
            "           G       1.00      1.00      1.00      8539\n",
            "\n",
            "    accuracy                           0.97     60526\n",
            "   macro avg       0.97      0.97      0.97     60526\n",
            "weighted avg       0.97      0.97      0.97     60526\n",
            "\n"
          ]
        }
      ],
      "source": [
        "# # 소득 기간 둘다있을떄\n",
        "# from sklearn.metrics import classification_report\n",
        "\n",
        "# print(classification_report(y_val, y_pred))"
      ]
    },
    {
      "cell_type": "code",
      "execution_count": null,
      "metadata": {
        "id": "Ogc9h-_ue1nk",
        "outputId": "24802314-e71a-4506-c380-e1cecfa77b59"
      },
      "outputs": [
        {
          "ename": "AttributeError",
          "evalue": "'VotingClassifier' object has no attribute 'feature_importances_'",
          "output_type": "error",
          "traceback": [
            "\u001b[1;31m---------------------------------------------------------------------------\u001b[0m",
            "\u001b[1;31mAttributeError\u001b[0m                            Traceback (most recent call last)",
            "Cell \u001b[1;32mIn [20], line 1\u001b[0m\n\u001b[1;32m----> 1\u001b[0m feature_importance \u001b[38;5;241m=\u001b[39m best_model\u001b[38;5;241m.\u001b[39mfeature_importances_\n\u001b[0;32m      2\u001b[0m features_name \u001b[38;5;241m=\u001b[39m lda_train_x\u001b[38;5;241m.\u001b[39mcolumns\n\u001b[0;32m      4\u001b[0m \u001b[38;5;66;03m# 막대 그래프 그리기\u001b[39;00m\n",
            "\u001b[1;31mAttributeError\u001b[0m: 'VotingClassifier' object has no attribute 'feature_importances_'"
          ]
        }
      ],
      "source": [
        "feature_importance = best_model.feature_importances_\n",
        "features_name = lda_train_x.columns\n",
        "\n",
        "# 막대 그래프 그리기\n",
        "plt.figure(figsize=(10, 6))\n",
        "plt.barh(features_name, feature_importance, color='skyblue')\n",
        "plt.xlabel('Feature Importance')\n",
        "plt.title('RandomForestClassifier Feature Importance')\n",
        "plt.show()"
      ]
    },
    {
      "cell_type": "code",
      "execution_count": null,
      "metadata": {
        "id": "OsPf_rfbe1nk",
        "outputId": "bb09b71c-4d27-4f25-b58e-dc911a7e9b71"
      },
      "outputs": [
        {
          "data": {
            "text/plain": [
              "array([0.00336641, 0.06892003, 0.00274741, 0.00316937, 0.00279072,\n",
              "       0.00345164, 0.00301829, 0.00242784, 0.00310022, 0.0028982 ,\n",
              "       0.00276778, 0.10490142, 0.11426602, 0.53113747, 0.003541  ,\n",
              "       0.00253901, 0.13692385, 0.0032665 , 0.0047668 ], dtype=float32)"
            ]
          },
          "execution_count": 14,
          "metadata": {},
          "output_type": "execute_result"
        }
      ],
      "source": [
        "feature_importance"
      ]
    },
    {
      "cell_type": "code",
      "execution_count": null,
      "metadata": {
        "id": "ZTClWr54e1nk"
      },
      "outputs": [],
      "source": [
        "# print(classification_report(y_val, y_pred))"
      ]
    },
    {
      "cell_type": "code",
      "execution_count": null,
      "metadata": {
        "id": "sqfBd1Yue1nk",
        "outputId": "6c6ca1a0-3c1c-4c34-de0e-5b52398771bc"
      },
      "outputs": [
        {
          "data": {
            "text/html": [
              "<div>\n",
              "<style scoped>\n",
              "    .dataframe tbody tr th:only-of-type {\n",
              "        vertical-align: middle;\n",
              "    }\n",
              "\n",
              "    .dataframe tbody tr th {\n",
              "        vertical-align: top;\n",
              "    }\n",
              "\n",
              "    .dataframe thead th {\n",
              "        text-align: right;\n",
              "    }\n",
              "</style>\n",
              "<table border=\"1\" class=\"dataframe\">\n",
              "  <thead>\n",
              "    <tr style=\"text-align: right;\">\n",
              "      <th></th>\n",
              "      <th>ID</th>\n",
              "      <th>대출등급</th>\n",
              "    </tr>\n",
              "  </thead>\n",
              "  <tbody>\n",
              "    <tr>\n",
              "      <th>0</th>\n",
              "      <td>TEST_00000</td>\n",
              "      <td>B</td>\n",
              "    </tr>\n",
              "    <tr>\n",
              "      <th>1</th>\n",
              "      <td>TEST_00001</td>\n",
              "      <td>D</td>\n",
              "    </tr>\n",
              "    <tr>\n",
              "      <th>2</th>\n",
              "      <td>TEST_00002</td>\n",
              "      <td>A</td>\n",
              "    </tr>\n",
              "    <tr>\n",
              "      <th>3</th>\n",
              "      <td>TEST_00003</td>\n",
              "      <td>C</td>\n",
              "    </tr>\n",
              "    <tr>\n",
              "      <th>4</th>\n",
              "      <td>TEST_00004</td>\n",
              "      <td>C</td>\n",
              "    </tr>\n",
              "    <tr>\n",
              "      <th>...</th>\n",
              "      <td>...</td>\n",
              "      <td>...</td>\n",
              "    </tr>\n",
              "    <tr>\n",
              "      <th>64192</th>\n",
              "      <td>TEST_64192</td>\n",
              "      <td>D</td>\n",
              "    </tr>\n",
              "    <tr>\n",
              "      <th>64193</th>\n",
              "      <td>TEST_64193</td>\n",
              "      <td>D</td>\n",
              "    </tr>\n",
              "    <tr>\n",
              "      <th>64194</th>\n",
              "      <td>TEST_64194</td>\n",
              "      <td>D</td>\n",
              "    </tr>\n",
              "    <tr>\n",
              "      <th>64195</th>\n",
              "      <td>TEST_64195</td>\n",
              "      <td>C</td>\n",
              "    </tr>\n",
              "    <tr>\n",
              "      <th>64196</th>\n",
              "      <td>TEST_64196</td>\n",
              "      <td>A</td>\n",
              "    </tr>\n",
              "  </tbody>\n",
              "</table>\n",
              "<p>64197 rows × 2 columns</p>\n",
              "</div>"
            ],
            "text/plain": [
              "               ID 대출등급\n",
              "0      TEST_00000    B\n",
              "1      TEST_00001    D\n",
              "2      TEST_00002    A\n",
              "3      TEST_00003    C\n",
              "4      TEST_00004    C\n",
              "...           ...  ...\n",
              "64192  TEST_64192    D\n",
              "64193  TEST_64193    D\n",
              "64194  TEST_64194    D\n",
              "64195  TEST_64195    C\n",
              "64196  TEST_64196    A\n",
              "\n",
              "[64197 rows x 2 columns]"
            ]
          },
          "execution_count": 21,
          "metadata": {},
          "output_type": "execute_result"
        }
      ],
      "source": [
        "submit.loc[:,\"대출등급\"] = y_pred\n",
        "submit"
      ]
    },
    {
      "cell_type": "code",
      "execution_count": null,
      "metadata": {
        "id": "Vm8nlO7Xe1nk"
      },
      "outputs": [],
      "source": [
        "submit.to_csv(\"modeling21.csv\", index=False)"
      ]
    }
  ],
  "metadata": {
    "kernelspec": {
      "display_name": "Python 3",
      "name": "python3"
    },
    "language_info": {
      "codemirror_mode": {
        "name": "ipython",
        "version": 3
      },
      "file_extension": ".py",
      "mimetype": "text/x-python",
      "name": "python",
      "nbconvert_exporter": "python",
      "pygments_lexer": "ipython3",
      "version": "3.12.2"
    },
    "colab": {
      "provenance": []
    }
  },
  "nbformat": 4,
  "nbformat_minor": 0
}